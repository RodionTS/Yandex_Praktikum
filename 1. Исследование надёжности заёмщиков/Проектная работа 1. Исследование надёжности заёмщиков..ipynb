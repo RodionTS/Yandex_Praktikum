{
 "cells": [
  {
   "cell_type": "markdown",
   "id": "afd278f1",
   "metadata": {},
   "source": [
    "# Исследование надёжности заёмщиков"
   ]
  },
  {
   "cell_type": "markdown",
   "id": "8d792c84",
   "metadata": {},
   "source": [
    "**Задача:**\n",
    "\n",
    "Нужно разобраться, влияет ли семейное положение и количество детей клиента на факт погашения кредита в срок. \n",
    "\n",
    "Входные данные от банка — статистика о платёжеспособности клиентов.\n",
    "\n",
    "Результаты исследования будут учтены при построении модели кредитного скоринга — специальной системы, которая оценивает способность потенциального заёмщика вернуть кредит банку."
   ]
  },
  {
   "cell_type": "markdown",
   "id": "d1deb00b",
   "metadata": {},
   "source": [
    "## Шаг 1. Откроем файл с данными и изучим общую информацию."
   ]
  },
  {
   "cell_type": "code",
   "execution_count": 1,
   "id": "baebc6c7",
   "metadata": {
    "scrolled": true
   },
   "outputs": [
    {
     "data": {
      "text/html": [
       "<div>\n",
       "<style scoped>\n",
       "    .dataframe tbody tr th:only-of-type {\n",
       "        vertical-align: middle;\n",
       "    }\n",
       "\n",
       "    .dataframe tbody tr th {\n",
       "        vertical-align: top;\n",
       "    }\n",
       "\n",
       "    .dataframe thead th {\n",
       "        text-align: right;\n",
       "    }\n",
       "</style>\n",
       "<table border=\"1\" class=\"dataframe\">\n",
       "  <thead>\n",
       "    <tr style=\"text-align: right;\">\n",
       "      <th></th>\n",
       "      <th>children</th>\n",
       "      <th>days_employed</th>\n",
       "      <th>dob_years</th>\n",
       "      <th>education</th>\n",
       "      <th>education_id</th>\n",
       "      <th>family_status</th>\n",
       "      <th>family_status_id</th>\n",
       "      <th>gender</th>\n",
       "      <th>income_type</th>\n",
       "      <th>debt</th>\n",
       "      <th>total_income</th>\n",
       "      <th>purpose</th>\n",
       "    </tr>\n",
       "  </thead>\n",
       "  <tbody>\n",
       "    <tr>\n",
       "      <th>0</th>\n",
       "      <td>1</td>\n",
       "      <td>-8437.673028</td>\n",
       "      <td>42</td>\n",
       "      <td>высшее</td>\n",
       "      <td>0</td>\n",
       "      <td>женат / замужем</td>\n",
       "      <td>0</td>\n",
       "      <td>F</td>\n",
       "      <td>сотрудник</td>\n",
       "      <td>0</td>\n",
       "      <td>253875.639453</td>\n",
       "      <td>покупка жилья</td>\n",
       "    </tr>\n",
       "    <tr>\n",
       "      <th>1</th>\n",
       "      <td>1</td>\n",
       "      <td>-4024.803754</td>\n",
       "      <td>36</td>\n",
       "      <td>среднее</td>\n",
       "      <td>1</td>\n",
       "      <td>женат / замужем</td>\n",
       "      <td>0</td>\n",
       "      <td>F</td>\n",
       "      <td>сотрудник</td>\n",
       "      <td>0</td>\n",
       "      <td>112080.014102</td>\n",
       "      <td>приобретение автомобиля</td>\n",
       "    </tr>\n",
       "    <tr>\n",
       "      <th>2</th>\n",
       "      <td>0</td>\n",
       "      <td>-5623.422610</td>\n",
       "      <td>33</td>\n",
       "      <td>Среднее</td>\n",
       "      <td>1</td>\n",
       "      <td>женат / замужем</td>\n",
       "      <td>0</td>\n",
       "      <td>M</td>\n",
       "      <td>сотрудник</td>\n",
       "      <td>0</td>\n",
       "      <td>145885.952297</td>\n",
       "      <td>покупка жилья</td>\n",
       "    </tr>\n",
       "    <tr>\n",
       "      <th>3</th>\n",
       "      <td>3</td>\n",
       "      <td>-4124.747207</td>\n",
       "      <td>32</td>\n",
       "      <td>среднее</td>\n",
       "      <td>1</td>\n",
       "      <td>женат / замужем</td>\n",
       "      <td>0</td>\n",
       "      <td>M</td>\n",
       "      <td>сотрудник</td>\n",
       "      <td>0</td>\n",
       "      <td>267628.550329</td>\n",
       "      <td>дополнительное образование</td>\n",
       "    </tr>\n",
       "    <tr>\n",
       "      <th>4</th>\n",
       "      <td>0</td>\n",
       "      <td>340266.072047</td>\n",
       "      <td>53</td>\n",
       "      <td>среднее</td>\n",
       "      <td>1</td>\n",
       "      <td>гражданский брак</td>\n",
       "      <td>1</td>\n",
       "      <td>F</td>\n",
       "      <td>пенсионер</td>\n",
       "      <td>0</td>\n",
       "      <td>158616.077870</td>\n",
       "      <td>сыграть свадьбу</td>\n",
       "    </tr>\n",
       "  </tbody>\n",
       "</table>\n",
       "</div>"
      ],
      "text/plain": [
       "   children  days_employed  dob_years education  education_id  \\\n",
       "0         1   -8437.673028         42    высшее             0   \n",
       "1         1   -4024.803754         36   среднее             1   \n",
       "2         0   -5623.422610         33   Среднее             1   \n",
       "3         3   -4124.747207         32   среднее             1   \n",
       "4         0  340266.072047         53   среднее             1   \n",
       "\n",
       "      family_status  family_status_id gender income_type  debt   total_income  \\\n",
       "0   женат / замужем                 0      F   сотрудник     0  253875.639453   \n",
       "1   женат / замужем                 0      F   сотрудник     0  112080.014102   \n",
       "2   женат / замужем                 0      M   сотрудник     0  145885.952297   \n",
       "3   женат / замужем                 0      M   сотрудник     0  267628.550329   \n",
       "4  гражданский брак                 1      F   пенсионер     0  158616.077870   \n",
       "\n",
       "                      purpose  \n",
       "0               покупка жилья  \n",
       "1     приобретение автомобиля  \n",
       "2               покупка жилья  \n",
       "3  дополнительное образование  \n",
       "4             сыграть свадьбу  "
      ]
     },
     "execution_count": 1,
     "metadata": {},
     "output_type": "execute_result"
    }
   ],
   "source": [
    "#Загрузим статистику от банка \n",
    "import pandas as pd\n",
    "#import seaborn as sns\n",
    "\n",
    "df = pd.read_csv('C:\\Python\\_File_test\\data.csv')\n",
    "# Предпосмотр таблицы\n",
    "\n",
    "df.head()"
   ]
  },
  {
   "cell_type": "code",
   "execution_count": 2,
   "id": "ead23fc0",
   "metadata": {},
   "outputs": [
    {
     "name": "stdout",
     "output_type": "stream",
     "text": [
      "<class 'pandas.core.frame.DataFrame'>\n",
      "RangeIndex: 21525 entries, 0 to 21524\n",
      "Data columns (total 12 columns):\n",
      " #   Column            Non-Null Count  Dtype  \n",
      "---  ------            --------------  -----  \n",
      " 0   children          21525 non-null  int64  \n",
      " 1   days_employed     19351 non-null  float64\n",
      " 2   dob_years         21525 non-null  int64  \n",
      " 3   education         21525 non-null  object \n",
      " 4   education_id      21525 non-null  int64  \n",
      " 5   family_status     21525 non-null  object \n",
      " 6   family_status_id  21525 non-null  int64  \n",
      " 7   gender            21525 non-null  object \n",
      " 8   income_type       21525 non-null  object \n",
      " 9   debt              21525 non-null  int64  \n",
      " 10  total_income      19351 non-null  float64\n",
      " 11  purpose           21525 non-null  object \n",
      "dtypes: float64(2), int64(5), object(5)\n",
      "memory usage: 2.0+ MB\n"
     ]
    }
   ],
   "source": [
    "# <получение общей информации о данных в таблице df>\n",
    "df.info()"
   ]
  },
  {
   "cell_type": "markdown",
   "id": "12f44ee7",
   "metadata": {},
   "source": [
    "В таблице 12 колонок с различными типами данных \n",
    "    \n",
    "Подробно разберём, какие в df столбцы и какую информацию они содержат:\n",
    "* children — количество детей в семье\n",
    "* days_employed — общий трудовой стаж в днях\n",
    "* dob_years — возраст клиента в годах\n",
    "* education — уровень образования клиента\n",
    "* education_id — идентификатор уровня образования\n",
    "* family_status — семейное положение\n",
    "* family_status_id — идентификатор семейного положения\n",
    "* gender — пол клиента\n",
    "* income_type — тип занятости\n",
    "* debt — имел ли задолженность по возврату кредитов\n",
    "* total_income — ежемесячный доход\n",
    "* purpose — цель получения кредита\n",
    "\n",
    "Количество значений в столбцах различается. Это говорит о том, что в данных есть <пустые> значения."
   ]
  },
  {
   "cell_type": "markdown",
   "id": "59461f8e",
   "metadata": {},
   "source": [
    "**Выводы**"
   ]
  },
  {
   "cell_type": "markdown",
   "id": "cfa819bb",
   "metadata": {},
   "source": [
    "Каждая строка таблицы содержит информацию о клиенте - количество детей, стаж, возраст, образование, семейное положение, доход, пол, тип занятости и т.д. Для проверки гипотезы особенно ценны столбцы *debt*, *children*, *family_status*. \n",
    "Проблемы, которые нужно решать: \n",
    "* пропуски в колонках *days_employed* и *total_income* и ошибки данных;\n",
    "* столбец *children* содержит \"подозрительные\" значения <-1>, <20>;\n",
    "* *dob_years* имеет значение <0>;\n",
    "* *education* проблемы с верхним и нижним регистрами, необходимо привести к однообразию данные;\n",
    "* *education_id* имеет пропуски, их можно устранить из данных колонки *education* - пропуски были в дубликатах, данные строки удалены;\n",
    "* *gender* присутствует значение < XNA >.\n"
   ]
  },
  {
   "cell_type": "markdown",
   "id": "aca4ef75",
   "metadata": {},
   "source": [
    "## Предобработка данных"
   ]
  },
  {
   "cell_type": "markdown",
   "id": "c59db625",
   "metadata": {},
   "source": [
    "**- 1 -**"
   ]
  },
  {
   "cell_type": "code",
   "execution_count": 3,
   "id": "c6f30b52",
   "metadata": {},
   "outputs": [
    {
     "data": {
      "text/plain": [
       "children               0\n",
       "days_employed       2174\n",
       "dob_years              0\n",
       "education              0\n",
       "education_id           0\n",
       "family_status          0\n",
       "family_status_id       0\n",
       "gender                 0\n",
       "income_type            0\n",
       "debt                   0\n",
       "total_income        2174\n",
       "purpose                0\n",
       "dtype: int64"
      ]
     },
     "execution_count": 3,
     "metadata": {},
     "output_type": "execute_result"
    }
   ],
   "source": [
    "# Проанализируем таблицу на наличие пустых данных\n",
    "df.isna().sum()"
   ]
  },
  {
   "cell_type": "markdown",
   "id": "07b60b94",
   "metadata": {},
   "source": [
    "Присутствуют пустые данные в колонках :\n",
    "* days_employed\n",
    "* total_income"
   ]
  },
  {
   "cell_type": "code",
   "execution_count": 4,
   "id": "c8d542b8",
   "metadata": {
    "scrolled": true
   },
   "outputs": [
    {
     "name": "stdout",
     "output_type": "stream",
     "text": [
      "Доля пропущенных значений на примере колонке <total_income> составляет 10.10%\n"
     ]
    }
   ],
   "source": [
    "# проверка доли пустых данных от общего количества\n",
    "days_employed_na_part = df.isna().total_income.sum() / df.shape[0]\n",
    "print('Доля пропущенных значений на примере колонке <total_income> составляет {:.2%}'.format(days_employed_na_part))"
   ]
  },
  {
   "cell_type": "code",
   "execution_count": 5,
   "id": "02e8dd8f",
   "metadata": {
    "scrolled": true
   },
   "outputs": [
    {
     "data": {
      "text/html": [
       "<div>\n",
       "<style scoped>\n",
       "    .dataframe tbody tr th:only-of-type {\n",
       "        vertical-align: middle;\n",
       "    }\n",
       "\n",
       "    .dataframe tbody tr th {\n",
       "        vertical-align: top;\n",
       "    }\n",
       "\n",
       "    .dataframe thead th {\n",
       "        text-align: right;\n",
       "    }\n",
       "</style>\n",
       "<table border=\"1\" class=\"dataframe\">\n",
       "  <thead>\n",
       "    <tr style=\"text-align: right;\">\n",
       "      <th></th>\n",
       "      <th>days_employed</th>\n",
       "      <th>total_income</th>\n",
       "    </tr>\n",
       "  </thead>\n",
       "  <tbody>\n",
       "    <tr>\n",
       "      <th>sum</th>\n",
       "      <td>2174</td>\n",
       "      <td>2174</td>\n",
       "    </tr>\n",
       "  </tbody>\n",
       "</table>\n",
       "</div>"
      ],
      "text/plain": [
       "     days_employed  total_income\n",
       "sum           2174          2174"
      ]
     },
     "execution_count": 5,
     "metadata": {},
     "output_type": "execute_result"
    }
   ],
   "source": [
    "# проверим есть ли данные в колонке total_income по тем строкам где days_employed пустые\n",
    "df.isnull().query('days_employed == True').agg(['sum']).loc[:, ['days_employed','total_income']]"
   ]
  },
  {
   "cell_type": "code",
   "execution_count": 6,
   "id": "c3640b23",
   "metadata": {},
   "outputs": [
    {
     "data": {
      "text/plain": [
       "0"
      ]
     },
     "execution_count": 6,
     "metadata": {},
     "output_type": "execute_result"
    }
   ],
   "source": [
    "# вычислим медиану total_income и сохраним в переменную total_income_median\n",
    "total_income_median = df.total_income.median()\n",
    "#  заменить пустые ячейки медианным значением колонки total_income\n",
    "df.total_income = df.total_income.fillna(total_income_median)\n",
    "# проверим, удала ли команда данные, заменив их медианным значением. если результат \"0\" - все получилось. \n",
    "df.total_income.isna().sum()"
   ]
  },
  {
   "cell_type": "markdown",
   "id": "624f3d5b",
   "metadata": {},
   "source": [
    "**Наблюдения по пустым данным:**\n",
    "* все строки где в колонке days_employed значения пустые, соответсвуют пустым данным в total_income;\n",
    "* доля пропущенных значений составляет **10.10%** от общего количества данных что может повлиять на результаты исследования;\n",
    "* пропуски данных, возможно, связаны с некорректной работой автоматизированным сохраннеием данным, необходимо сообщить разработчикам для проверки;\n",
    "* пропущенные значения в колонке total_income заполнены медианным значением колонки т.к в колонке total_income присутствуют данные сильно выделяющиеся."
   ]
  },
  {
   "cell_type": "markdown",
   "id": "cd89b8fb",
   "metadata": {},
   "source": [
    "**- 2 -**"
   ]
  },
  {
   "cell_type": "markdown",
   "id": "969fa9cb",
   "metadata": {},
   "source": [
    "В колонке < days_employed > присутствуют пропуски, а так же аномалии в виде отрицательноых значений у работающих сотрудников. \n",
    "Вероятно ошибка кроется в формуле расчета стажа : если не указана дата выхода на пенсию он вычитает количество стажа из 0, хотя следует вычитать от текущей даты. **(Необходимо уводомить разработчиков)** Отричательные данные можно заменить модульным значением и это не повлечет ошибки. Пропуски можно заменить медианным значением. "
   ]
  },
  {
   "cell_type": "code",
   "execution_count": 7,
   "id": "94841b42",
   "metadata": {},
   "outputs": [],
   "source": [
    "# функция для замены отрицательных значний абсолютным\n",
    "def abs_if_negative(x):\n",
    "    if x < 0:\n",
    "        return abs(x)\n",
    "    return x \n"
   ]
  },
  {
   "cell_type": "code",
   "execution_count": 8,
   "id": "ccd30b11",
   "metadata": {},
   "outputs": [],
   "source": [
    "# применим функцию abs_if_negative() к колонке days_employed для замены отрицательных значений модульными\n",
    "df.days_employed = df.days_employed.apply(abs_if_negative)"
   ]
  },
  {
   "cell_type": "code",
   "execution_count": 9,
   "id": "ad33507d",
   "metadata": {
    "scrolled": true
   },
   "outputs": [
    {
     "data": {
      "text/plain": [
       "0"
      ]
     },
     "execution_count": 9,
     "metadata": {},
     "output_type": "execute_result"
    }
   ],
   "source": [
    "# вычислим медиану days_employed и сохраним в переменную days_employed_median\n",
    "days_employed_median = df.days_employed.median()\n",
    "#  заменить пустые ячейки медианным значением колонки days_employed\n",
    "df.days_employed = df.days_employed.fillna(days_employed_median)\n",
    "# проверим, удала ли команда данные, заменив их медианным значением. если результат \"0\" - все получилось. \n",
    "df.days_employed.isna().sum()"
   ]
  },
  {
   "cell_type": "markdown",
   "id": "ce52a73b",
   "metadata": {},
   "source": [
    "Колонка < children > содержит \"подозрительные\" значения <-1>, <20>;\n",
    "* под значением <-1> вероятно подразумевалось значение <0> или <1> => сделаем предположение что корректное значение <1>\n",
    "* под значением <20> может быть <2>, <20> или максимальное из остальных значений в колонке - <5> => сделаем предположение что корректное значение <2>"
   ]
  },
  {
   "cell_type": "code",
   "execution_count": 10,
   "id": "50ab8497",
   "metadata": {},
   "outputs": [],
   "source": [
    "#создадим функцию для замены данных в колонке <children> значений <-1>, <20> соответственно на <1>, <2>\n",
    "def children_change_value(x):\n",
    "    if x == -1:\n",
    "        return 1\n",
    "    elif x == 20:\n",
    "        return 2\n",
    "    else:\n",
    "        return x\n"
   ]
  },
  {
   "cell_type": "code",
   "execution_count": 11,
   "id": "052d3b0e",
   "metadata": {},
   "outputs": [
    {
     "data": {
      "text/plain": [
       "0    14149\n",
       "1     4865\n",
       "2     2131\n",
       "3      330\n",
       "4       41\n",
       "5        9\n",
       "Name: children, dtype: int64"
      ]
     },
     "execution_count": 11,
     "metadata": {},
     "output_type": "execute_result"
    }
   ],
   "source": [
    "# применим функцию children_change_value() к колонке <children> для замены значений <-1>, <20> соответственно на <1>, <2>\n",
    "df.children = df.children.apply(children_change_value)\n",
    "# проверим корректность выполнения функции, если уникальные значения будут в границе [0,5] то функция выполнена успешно\n",
    "df.children.value_counts() "
   ]
  },
  {
   "cell_type": "markdown",
   "id": "f818fd59",
   "metadata": {},
   "source": [
    "**- 3 -**"
   ]
  },
  {
   "cell_type": "code",
   "execution_count": 12,
   "id": "53961534",
   "metadata": {},
   "outputs": [],
   "source": [
    "# поменяем тип данных колокни <total_income> на целочисленный\n",
    "df.total_income = df.total_income.astype('int64')"
   ]
  },
  {
   "cell_type": "markdown",
   "id": "955397bc",
   "metadata": {},
   "source": [
    "**- 4 -**"
   ]
  },
  {
   "cell_type": "code",
   "execution_count": 13,
   "id": "e7de5049",
   "metadata": {},
   "outputs": [
    {
     "data": {
      "text/plain": [
       "54"
      ]
     },
     "execution_count": 13,
     "metadata": {},
     "output_type": "execute_result"
    }
   ],
   "source": [
    "# проверим таблица на наличие явных дубликатов - их 54 шт. \n",
    "df.duplicated().sum()"
   ]
  },
  {
   "cell_type": "code",
   "execution_count": 14,
   "id": "059f2884",
   "metadata": {},
   "outputs": [
    {
     "data": {
      "text/plain": [
       "0"
      ]
     },
     "execution_count": 14,
     "metadata": {},
     "output_type": "execute_result"
    }
   ],
   "source": [
    "# удалим явные дубликаты и сбросим индексирование. \n",
    "df = df.drop_duplicates().reset_index(drop=True)\n",
    "# проверим удалиение дубликатов - 0 - значит дубликаты удалены \n",
    "df.duplicated().sum()"
   ]
  },
  {
   "cell_type": "code",
   "execution_count": 15,
   "id": "72a11ae0",
   "metadata": {},
   "outputs": [
    {
     "data": {
      "text/plain": [
       "education_id  education          \n",
       "0             ВЫСШЕЕ                   273\n",
       "              Высшее                   268\n",
       "              высшее                  4710\n",
       "1             СРЕДНЕЕ                  772\n",
       "              Среднее                  711\n",
       "              среднее                13705\n",
       "2             НЕОКОНЧЕННОЕ ВЫСШЕЕ       29\n",
       "              Неоконченное высшее       47\n",
       "              неоконченное высшее      668\n",
       "3             НАЧАЛЬНОЕ                 17\n",
       "              Начальное                 15\n",
       "              начальное                250\n",
       "4             УЧЕНАЯ СТЕПЕНЬ             1\n",
       "              Ученая степень             1\n",
       "              ученая степень             4\n",
       "dtype: int64"
      ]
     },
     "execution_count": 15,
     "metadata": {},
     "output_type": "execute_result"
    }
   ],
   "source": [
    "# проверим какие никальные значения присутствуют в колонке <education> с привязкой по колонке <education_id>\n",
    "df[['education_id','education']].value_counts(sort=False)"
   ]
  },
  {
   "cell_type": "markdown",
   "id": "9a5b6a70",
   "metadata": {},
   "source": [
    "В колонке < education > одни и те же значения записаны по разному (разный регистр). Причиной появления не явных дубликотов в колонке вероятно вызвано ручным методом ввода данных, данную проблему можно избежать настроив всплывающее окно с выриантами.\n",
    "\n",
    "Можно отредантировать данные используя колонке < education_id > применив логику категоризацию : \n",
    "\n",
    "< education_id > - < education > \n",
    "* 0 - 'высшее'\n",
    "* 1 - 'среднее'\n",
    "* 2 - 'неоконченное высшее'\n",
    "* 3 - 'начальное'\n",
    "* 4 - 'ученая степень'"
   ]
  },
  {
   "cell_type": "code",
   "execution_count": 16,
   "id": "d8ee2b43",
   "metadata": {},
   "outputs": [],
   "source": [
    "# создадим функию для замены названий категоризации колонки образования. \n",
    "def education_change_rank(row):\n",
    "    education_rank_id = row['education_id']\n",
    "    \n",
    "    if education_rank_id == 0:\n",
    "        return 'высшее'\n",
    "    elif education_rank_id == 1:\n",
    "        return 'среднее'\n",
    "    elif education_rank_id == 2:\n",
    "        return 'неоконченное'\n",
    "    elif education_rank_id == 3:\n",
    "        return 'начальное'\n",
    "    elif education_rank_id == 4:\n",
    "        return 'ученая степень'\n",
    "    "
   ]
  },
  {
   "cell_type": "code",
   "execution_count": 17,
   "id": "a6439e51",
   "metadata": {},
   "outputs": [
    {
     "data": {
      "text/plain": [
       "education_id  education     \n",
       "0             высшее             5251\n",
       "1             среднее           15188\n",
       "2             неоконченное        744\n",
       "3             начальное           282\n",
       "4             ученая степень        6\n",
       "dtype: int64"
      ]
     },
     "execution_count": 17,
     "metadata": {},
     "output_type": "execute_result"
    }
   ],
   "source": [
    "# применим функицю замены названий категоризации колонки образования и выведем на экран количество уникальных значений \n",
    "# колонки education для проверки результата работы функции - должно остатся 6 вариантов.\n",
    "df.education = df.apply(education_change_rank, axis=1)\n",
    "df[['education_id','education']].value_counts(sort=False)"
   ]
  },
  {
   "cell_type": "markdown",
   "id": "2c93120e",
   "metadata": {},
   "source": [
    "**- 5 -**"
   ]
  },
  {
   "cell_type": "markdown",
   "id": "48701405",
   "metadata": {},
   "source": [
    "Создадимдва новых датафрейма, в которых:\n",
    "\n",
    "   * < df_education_rank> - каждому уникальному значению из education соответствует уникальное значение education_id — в первом;\n",
    "   * <df_family_status> - каждому уникальному значению из family_status соответствует уникальное значение family_status_id — во втором.\n"
   ]
  },
  {
   "cell_type": "code",
   "execution_count": 18,
   "id": "ea10a602",
   "metadata": {},
   "outputs": [
    {
     "data": {
      "text/html": [
       "<div>\n",
       "<style scoped>\n",
       "    .dataframe tbody tr th:only-of-type {\n",
       "        vertical-align: middle;\n",
       "    }\n",
       "\n",
       "    .dataframe tbody tr th {\n",
       "        vertical-align: top;\n",
       "    }\n",
       "\n",
       "    .dataframe thead th {\n",
       "        text-align: right;\n",
       "    }\n",
       "</style>\n",
       "<table border=\"1\" class=\"dataframe\">\n",
       "  <thead>\n",
       "    <tr style=\"text-align: right;\">\n",
       "      <th></th>\n",
       "      <th>education_id</th>\n",
       "      <th>education</th>\n",
       "    </tr>\n",
       "  </thead>\n",
       "  <tbody>\n",
       "    <tr>\n",
       "      <th>0</th>\n",
       "      <td>0</td>\n",
       "      <td>высшее</td>\n",
       "    </tr>\n",
       "    <tr>\n",
       "      <th>1</th>\n",
       "      <td>1</td>\n",
       "      <td>среднее</td>\n",
       "    </tr>\n",
       "    <tr>\n",
       "      <th>2</th>\n",
       "      <td>2</td>\n",
       "      <td>неоконченное</td>\n",
       "    </tr>\n",
       "    <tr>\n",
       "      <th>3</th>\n",
       "      <td>3</td>\n",
       "      <td>начальное</td>\n",
       "    </tr>\n",
       "    <tr>\n",
       "      <th>4</th>\n",
       "      <td>4</td>\n",
       "      <td>ученая степень</td>\n",
       "    </tr>\n",
       "  </tbody>\n",
       "</table>\n",
       "</div>"
      ],
      "text/plain": [
       "   education_id       education\n",
       "0             0          высшее\n",
       "1             1         среднее\n",
       "2             2    неоконченное\n",
       "3             3       начальное\n",
       "4             4  ученая степень"
      ]
     },
     "execution_count": 18,
     "metadata": {},
     "output_type": "execute_result"
    }
   ],
   "source": [
    "# создадим датафрейм df_education_rank\n",
    "df_education_rank = df[['education_id','education']].drop_duplicates().sort_values('education_id').reset_index(drop=True)\n",
    "df_education_rank"
   ]
  },
  {
   "cell_type": "code",
   "execution_count": 19,
   "id": "90fa5749",
   "metadata": {},
   "outputs": [
    {
     "data": {
      "text/html": [
       "<div>\n",
       "<style scoped>\n",
       "    .dataframe tbody tr th:only-of-type {\n",
       "        vertical-align: middle;\n",
       "    }\n",
       "\n",
       "    .dataframe tbody tr th {\n",
       "        vertical-align: top;\n",
       "    }\n",
       "\n",
       "    .dataframe thead th {\n",
       "        text-align: right;\n",
       "    }\n",
       "</style>\n",
       "<table border=\"1\" class=\"dataframe\">\n",
       "  <thead>\n",
       "    <tr style=\"text-align: right;\">\n",
       "      <th></th>\n",
       "      <th>family_status_id</th>\n",
       "      <th>family_status</th>\n",
       "    </tr>\n",
       "  </thead>\n",
       "  <tbody>\n",
       "    <tr>\n",
       "      <th>0</th>\n",
       "      <td>0</td>\n",
       "      <td>женат / замужем</td>\n",
       "    </tr>\n",
       "    <tr>\n",
       "      <th>1</th>\n",
       "      <td>1</td>\n",
       "      <td>гражданский брак</td>\n",
       "    </tr>\n",
       "    <tr>\n",
       "      <th>2</th>\n",
       "      <td>2</td>\n",
       "      <td>вдовец / вдова</td>\n",
       "    </tr>\n",
       "    <tr>\n",
       "      <th>3</th>\n",
       "      <td>3</td>\n",
       "      <td>в разводе</td>\n",
       "    </tr>\n",
       "    <tr>\n",
       "      <th>4</th>\n",
       "      <td>4</td>\n",
       "      <td>Не женат / не замужем</td>\n",
       "    </tr>\n",
       "  </tbody>\n",
       "</table>\n",
       "</div>"
      ],
      "text/plain": [
       "   family_status_id          family_status\n",
       "0                 0        женат / замужем\n",
       "1                 1       гражданский брак\n",
       "2                 2         вдовец / вдова\n",
       "3                 3              в разводе\n",
       "4                 4  Не женат / не замужем"
      ]
     },
     "execution_count": 19,
     "metadata": {},
     "output_type": "execute_result"
    }
   ],
   "source": [
    "# создадим датафрейм df_family_status\n",
    "df_family_status = df[['family_status_id','family_status']].drop_duplicates().sort_values('family_status_id').reset_index(drop=True)\n",
    "df_family_status"
   ]
  },
  {
   "cell_type": "code",
   "execution_count": 20,
   "id": "b109fb88",
   "metadata": {},
   "outputs": [
    {
     "data": {
      "text/html": [
       "<div>\n",
       "<style scoped>\n",
       "    .dataframe tbody tr th:only-of-type {\n",
       "        vertical-align: middle;\n",
       "    }\n",
       "\n",
       "    .dataframe tbody tr th {\n",
       "        vertical-align: top;\n",
       "    }\n",
       "\n",
       "    .dataframe thead th {\n",
       "        text-align: right;\n",
       "    }\n",
       "</style>\n",
       "<table border=\"1\" class=\"dataframe\">\n",
       "  <thead>\n",
       "    <tr style=\"text-align: right;\">\n",
       "      <th></th>\n",
       "      <th>children</th>\n",
       "      <th>days_employed</th>\n",
       "      <th>dob_years</th>\n",
       "      <th>education_id</th>\n",
       "      <th>family_status_id</th>\n",
       "      <th>gender</th>\n",
       "      <th>income_type</th>\n",
       "      <th>debt</th>\n",
       "      <th>total_income</th>\n",
       "      <th>purpose</th>\n",
       "    </tr>\n",
       "  </thead>\n",
       "  <tbody>\n",
       "    <tr>\n",
       "      <th>0</th>\n",
       "      <td>1</td>\n",
       "      <td>8437.673028</td>\n",
       "      <td>42</td>\n",
       "      <td>0</td>\n",
       "      <td>0</td>\n",
       "      <td>F</td>\n",
       "      <td>сотрудник</td>\n",
       "      <td>0</td>\n",
       "      <td>253875</td>\n",
       "      <td>покупка жилья</td>\n",
       "    </tr>\n",
       "    <tr>\n",
       "      <th>1</th>\n",
       "      <td>1</td>\n",
       "      <td>4024.803754</td>\n",
       "      <td>36</td>\n",
       "      <td>1</td>\n",
       "      <td>0</td>\n",
       "      <td>F</td>\n",
       "      <td>сотрудник</td>\n",
       "      <td>0</td>\n",
       "      <td>112080</td>\n",
       "      <td>приобретение автомобиля</td>\n",
       "    </tr>\n",
       "    <tr>\n",
       "      <th>2</th>\n",
       "      <td>0</td>\n",
       "      <td>5623.422610</td>\n",
       "      <td>33</td>\n",
       "      <td>1</td>\n",
       "      <td>0</td>\n",
       "      <td>M</td>\n",
       "      <td>сотрудник</td>\n",
       "      <td>0</td>\n",
       "      <td>145885</td>\n",
       "      <td>покупка жилья</td>\n",
       "    </tr>\n",
       "    <tr>\n",
       "      <th>3</th>\n",
       "      <td>3</td>\n",
       "      <td>4124.747207</td>\n",
       "      <td>32</td>\n",
       "      <td>1</td>\n",
       "      <td>0</td>\n",
       "      <td>M</td>\n",
       "      <td>сотрудник</td>\n",
       "      <td>0</td>\n",
       "      <td>267628</td>\n",
       "      <td>дополнительное образование</td>\n",
       "    </tr>\n",
       "    <tr>\n",
       "      <th>4</th>\n",
       "      <td>0</td>\n",
       "      <td>340266.072047</td>\n",
       "      <td>53</td>\n",
       "      <td>1</td>\n",
       "      <td>1</td>\n",
       "      <td>F</td>\n",
       "      <td>пенсионер</td>\n",
       "      <td>0</td>\n",
       "      <td>158616</td>\n",
       "      <td>сыграть свадьбу</td>\n",
       "    </tr>\n",
       "  </tbody>\n",
       "</table>\n",
       "</div>"
      ],
      "text/plain": [
       "   children  days_employed  dob_years  education_id  family_status_id gender  \\\n",
       "0         1    8437.673028         42             0                 0      F   \n",
       "1         1    4024.803754         36             1                 0      F   \n",
       "2         0    5623.422610         33             1                 0      M   \n",
       "3         3    4124.747207         32             1                 0      M   \n",
       "4         0  340266.072047         53             1                 1      F   \n",
       "\n",
       "  income_type  debt  total_income                     purpose  \n",
       "0   сотрудник     0        253875               покупка жилья  \n",
       "1   сотрудник     0        112080     приобретение автомобиля  \n",
       "2   сотрудник     0        145885               покупка жилья  \n",
       "3   сотрудник     0        267628  дополнительное образование  \n",
       "4   пенсионер     0        158616             сыграть свадьбу  "
      ]
     },
     "execution_count": 20,
     "metadata": {},
     "output_type": "execute_result"
    }
   ],
   "source": [
    "# удалим колонки <family_status> и <education> из исходного датафрейма\n",
    "df = df.drop(['education','family_status'], axis='columns')\n",
    "df.head()"
   ]
  },
  {
   "cell_type": "markdown",
   "id": "da29c86b",
   "metadata": {},
   "source": [
    "**- 6 -**"
   ]
  },
  {
   "cell_type": "markdown",
   "id": "a49554d3",
   "metadata": {},
   "source": [
    "Создадим столбец < total_income_category > с категориями в зависимости от значения total_income:\n",
    "\n",
    "* 0–30000 — 'E';\n",
    "* 30001–50000 — 'D';\n",
    "* 50001–200000 — 'C';\n",
    "* 200001–1000000 — 'B';\n",
    "* 1000001 и выше — 'A'."
   ]
  },
  {
   "cell_type": "code",
   "execution_count": 21,
   "id": "2a29e4e7",
   "metadata": {},
   "outputs": [],
   "source": [
    "# создадим функцию разбивки по требуемым категориям \n",
    "def total_income_rank(row):\n",
    "    total_income_value = row['total_income']\n",
    "    if 0 < total_income_value <= 30000:\n",
    "        return 'E | 0–30000 |'\n",
    "    elif total_income_value <= 50000:\n",
    "        return 'D | 30001–50000 |'\n",
    "    elif total_income_value <= 200000:\n",
    "        return 'C | 50001–200000 |'\n",
    "    elif total_income_value <= 1000000:\n",
    "        return 'B | 200001–1000000 |'\n",
    "    elif total_income_value > 1000000:\n",
    "        return 'A | 1000001 и выше |'"
   ]
  },
  {
   "cell_type": "code",
   "execution_count": 22,
   "id": "6de09f26",
   "metadata": {},
   "outputs": [
    {
     "data": {
      "text/html": [
       "<div>\n",
       "<style scoped>\n",
       "    .dataframe tbody tr th:only-of-type {\n",
       "        vertical-align: middle;\n",
       "    }\n",
       "\n",
       "    .dataframe tbody tr th {\n",
       "        vertical-align: top;\n",
       "    }\n",
       "\n",
       "    .dataframe thead th {\n",
       "        text-align: right;\n",
       "    }\n",
       "</style>\n",
       "<table border=\"1\" class=\"dataframe\">\n",
       "  <thead>\n",
       "    <tr style=\"text-align: right;\">\n",
       "      <th></th>\n",
       "      <th>children</th>\n",
       "      <th>days_employed</th>\n",
       "      <th>dob_years</th>\n",
       "      <th>education_id</th>\n",
       "      <th>family_status_id</th>\n",
       "      <th>gender</th>\n",
       "      <th>income_type</th>\n",
       "      <th>debt</th>\n",
       "      <th>total_income</th>\n",
       "      <th>purpose</th>\n",
       "      <th>total_income_category</th>\n",
       "    </tr>\n",
       "  </thead>\n",
       "  <tbody>\n",
       "    <tr>\n",
       "      <th>0</th>\n",
       "      <td>1</td>\n",
       "      <td>8437.673028</td>\n",
       "      <td>42</td>\n",
       "      <td>0</td>\n",
       "      <td>0</td>\n",
       "      <td>F</td>\n",
       "      <td>сотрудник</td>\n",
       "      <td>0</td>\n",
       "      <td>253875</td>\n",
       "      <td>покупка жилья</td>\n",
       "      <td>B | 200001–1000000 |</td>\n",
       "    </tr>\n",
       "    <tr>\n",
       "      <th>1</th>\n",
       "      <td>1</td>\n",
       "      <td>4024.803754</td>\n",
       "      <td>36</td>\n",
       "      <td>1</td>\n",
       "      <td>0</td>\n",
       "      <td>F</td>\n",
       "      <td>сотрудник</td>\n",
       "      <td>0</td>\n",
       "      <td>112080</td>\n",
       "      <td>приобретение автомобиля</td>\n",
       "      <td>C | 50001–200000 |</td>\n",
       "    </tr>\n",
       "    <tr>\n",
       "      <th>2</th>\n",
       "      <td>0</td>\n",
       "      <td>5623.422610</td>\n",
       "      <td>33</td>\n",
       "      <td>1</td>\n",
       "      <td>0</td>\n",
       "      <td>M</td>\n",
       "      <td>сотрудник</td>\n",
       "      <td>0</td>\n",
       "      <td>145885</td>\n",
       "      <td>покупка жилья</td>\n",
       "      <td>C | 50001–200000 |</td>\n",
       "    </tr>\n",
       "    <tr>\n",
       "      <th>3</th>\n",
       "      <td>3</td>\n",
       "      <td>4124.747207</td>\n",
       "      <td>32</td>\n",
       "      <td>1</td>\n",
       "      <td>0</td>\n",
       "      <td>M</td>\n",
       "      <td>сотрудник</td>\n",
       "      <td>0</td>\n",
       "      <td>267628</td>\n",
       "      <td>дополнительное образование</td>\n",
       "      <td>B | 200001–1000000 |</td>\n",
       "    </tr>\n",
       "    <tr>\n",
       "      <th>4</th>\n",
       "      <td>0</td>\n",
       "      <td>340266.072047</td>\n",
       "      <td>53</td>\n",
       "      <td>1</td>\n",
       "      <td>1</td>\n",
       "      <td>F</td>\n",
       "      <td>пенсионер</td>\n",
       "      <td>0</td>\n",
       "      <td>158616</td>\n",
       "      <td>сыграть свадьбу</td>\n",
       "      <td>C | 50001–200000 |</td>\n",
       "    </tr>\n",
       "  </tbody>\n",
       "</table>\n",
       "</div>"
      ],
      "text/plain": [
       "   children  days_employed  dob_years  education_id  family_status_id gender  \\\n",
       "0         1    8437.673028         42             0                 0      F   \n",
       "1         1    4024.803754         36             1                 0      F   \n",
       "2         0    5623.422610         33             1                 0      M   \n",
       "3         3    4124.747207         32             1                 0      M   \n",
       "4         0  340266.072047         53             1                 1      F   \n",
       "\n",
       "  income_type  debt  total_income                     purpose  \\\n",
       "0   сотрудник     0        253875               покупка жилья   \n",
       "1   сотрудник     0        112080     приобретение автомобиля   \n",
       "2   сотрудник     0        145885               покупка жилья   \n",
       "3   сотрудник     0        267628  дополнительное образование   \n",
       "4   пенсионер     0        158616             сыграть свадьбу   \n",
       "\n",
       "  total_income_category  \n",
       "0  B | 200001–1000000 |  \n",
       "1    C | 50001–200000 |  \n",
       "2    C | 50001–200000 |  \n",
       "3  B | 200001–1000000 |  \n",
       "4    C | 50001–200000 |  "
      ]
     },
     "execution_count": 22,
     "metadata": {},
     "output_type": "execute_result"
    }
   ],
   "source": [
    "# создадим колонку <total_income_category> применив функцию total_income_rank\n",
    "df['total_income_category'] = df.apply(total_income_rank, axis=1)\n",
    "df.head()"
   ]
  },
  {
   "cell_type": "markdown",
   "id": "979a365c",
   "metadata": {},
   "source": [
    "**- 7 -**"
   ]
  },
  {
   "cell_type": "markdown",
   "id": "7dd69ac6",
   "metadata": {},
   "source": [
    "Создадим колонку < purpose_category >, в которую войдут категории на основе данных колонки < purpose > :\n",
    "* 'операции с автомобилем',\n",
    "* 'операции с недвижимостью',\n",
    "* 'проведение свадьбы',\n",
    "* 'получение образования'"
   ]
  },
  {
   "cell_type": "code",
   "execution_count": 23,
   "id": "d6ba613f",
   "metadata": {},
   "outputs": [],
   "source": [
    "# создадим функцию для проверки комментариев колонки <purpose> и разбивки по категориям назначения кредита\n",
    "def check_purpose(purpose_str):\n",
    "    rank_1 = ['автомоб','машин'] # условия проверки для категории *операции с автомобилем*\n",
    "    rank_2 = ['жиль', 'недвижимост'] # условия проверки для категории *операции с недвижимостью*\n",
    "    rank_3 = ['свадьб'] # условия проверки для категории *проведение свадьбы*\n",
    "    rank_4 = ['образовани'] # условия проверки для категории *получение образования*\n",
    "    \n",
    "    for str_value in rank_1: # проверка для 1 категории \n",
    "        if  str_value in purpose_str:\n",
    "            return 'операции с автомобилем'\n",
    "    for str_value in rank_2: # проверка для 2 категории \n",
    "        if  str_value in purpose_str:\n",
    "            return 'операции с недвижимостью'\n",
    "    for str_value in rank_3: # проверка для 3 категории \n",
    "        if  str_value in purpose_str:\n",
    "            return 'проведение свадьбы'        \n",
    "    for str_value in rank_4: # проверка для 4 категории \n",
    "        if  str_value in purpose_str:\n",
    "            return 'получение образования' "
   ]
  },
  {
   "cell_type": "code",
   "execution_count": 24,
   "id": "216c0bc9",
   "metadata": {},
   "outputs": [
    {
     "data": {
      "text/html": [
       "<div>\n",
       "<style scoped>\n",
       "    .dataframe tbody tr th:only-of-type {\n",
       "        vertical-align: middle;\n",
       "    }\n",
       "\n",
       "    .dataframe tbody tr th {\n",
       "        vertical-align: top;\n",
       "    }\n",
       "\n",
       "    .dataframe thead th {\n",
       "        text-align: right;\n",
       "    }\n",
       "</style>\n",
       "<table border=\"1\" class=\"dataframe\">\n",
       "  <thead>\n",
       "    <tr style=\"text-align: right;\">\n",
       "      <th></th>\n",
       "      <th>children</th>\n",
       "      <th>days_employed</th>\n",
       "      <th>dob_years</th>\n",
       "      <th>education_id</th>\n",
       "      <th>family_status_id</th>\n",
       "      <th>gender</th>\n",
       "      <th>income_type</th>\n",
       "      <th>debt</th>\n",
       "      <th>total_income</th>\n",
       "      <th>purpose</th>\n",
       "      <th>total_income_category</th>\n",
       "      <th>purpose_category</th>\n",
       "    </tr>\n",
       "  </thead>\n",
       "  <tbody>\n",
       "    <tr>\n",
       "      <th>0</th>\n",
       "      <td>1</td>\n",
       "      <td>8437.673028</td>\n",
       "      <td>42</td>\n",
       "      <td>0</td>\n",
       "      <td>0</td>\n",
       "      <td>F</td>\n",
       "      <td>сотрудник</td>\n",
       "      <td>0</td>\n",
       "      <td>253875</td>\n",
       "      <td>покупка жилья</td>\n",
       "      <td>B | 200001–1000000 |</td>\n",
       "      <td>операции с недвижимостью</td>\n",
       "    </tr>\n",
       "    <tr>\n",
       "      <th>1</th>\n",
       "      <td>1</td>\n",
       "      <td>4024.803754</td>\n",
       "      <td>36</td>\n",
       "      <td>1</td>\n",
       "      <td>0</td>\n",
       "      <td>F</td>\n",
       "      <td>сотрудник</td>\n",
       "      <td>0</td>\n",
       "      <td>112080</td>\n",
       "      <td>приобретение автомобиля</td>\n",
       "      <td>C | 50001–200000 |</td>\n",
       "      <td>операции с автомобилем</td>\n",
       "    </tr>\n",
       "    <tr>\n",
       "      <th>2</th>\n",
       "      <td>0</td>\n",
       "      <td>5623.422610</td>\n",
       "      <td>33</td>\n",
       "      <td>1</td>\n",
       "      <td>0</td>\n",
       "      <td>M</td>\n",
       "      <td>сотрудник</td>\n",
       "      <td>0</td>\n",
       "      <td>145885</td>\n",
       "      <td>покупка жилья</td>\n",
       "      <td>C | 50001–200000 |</td>\n",
       "      <td>операции с недвижимостью</td>\n",
       "    </tr>\n",
       "    <tr>\n",
       "      <th>3</th>\n",
       "      <td>3</td>\n",
       "      <td>4124.747207</td>\n",
       "      <td>32</td>\n",
       "      <td>1</td>\n",
       "      <td>0</td>\n",
       "      <td>M</td>\n",
       "      <td>сотрудник</td>\n",
       "      <td>0</td>\n",
       "      <td>267628</td>\n",
       "      <td>дополнительное образование</td>\n",
       "      <td>B | 200001–1000000 |</td>\n",
       "      <td>получение образования</td>\n",
       "    </tr>\n",
       "    <tr>\n",
       "      <th>4</th>\n",
       "      <td>0</td>\n",
       "      <td>340266.072047</td>\n",
       "      <td>53</td>\n",
       "      <td>1</td>\n",
       "      <td>1</td>\n",
       "      <td>F</td>\n",
       "      <td>пенсионер</td>\n",
       "      <td>0</td>\n",
       "      <td>158616</td>\n",
       "      <td>сыграть свадьбу</td>\n",
       "      <td>C | 50001–200000 |</td>\n",
       "      <td>проведение свадьбы</td>\n",
       "    </tr>\n",
       "  </tbody>\n",
       "</table>\n",
       "</div>"
      ],
      "text/plain": [
       "   children  days_employed  dob_years  education_id  family_status_id gender  \\\n",
       "0         1    8437.673028         42             0                 0      F   \n",
       "1         1    4024.803754         36             1                 0      F   \n",
       "2         0    5623.422610         33             1                 0      M   \n",
       "3         3    4124.747207         32             1                 0      M   \n",
       "4         0  340266.072047         53             1                 1      F   \n",
       "\n",
       "  income_type  debt  total_income                     purpose  \\\n",
       "0   сотрудник     0        253875               покупка жилья   \n",
       "1   сотрудник     0        112080     приобретение автомобиля   \n",
       "2   сотрудник     0        145885               покупка жилья   \n",
       "3   сотрудник     0        267628  дополнительное образование   \n",
       "4   пенсионер     0        158616             сыграть свадьбу   \n",
       "\n",
       "  total_income_category          purpose_category  \n",
       "0  B | 200001–1000000 |  операции с недвижимостью  \n",
       "1    C | 50001–200000 |    операции с автомобилем  \n",
       "2    C | 50001–200000 |  операции с недвижимостью  \n",
       "3  B | 200001–1000000 |     получение образования  \n",
       "4    C | 50001–200000 |        проведение свадьбы  "
      ]
     },
     "execution_count": 24,
     "metadata": {},
     "output_type": "execute_result"
    }
   ],
   "source": [
    "# создадим колонку <purpose_category> используя функцию check_purpose\n",
    "df['purpose_category'] = df.purpose.apply(check_purpose)\n",
    "df.head()"
   ]
  },
  {
   "cell_type": "code",
   "execution_count": 31,
   "id": "8ac6f498",
   "metadata": {},
   "outputs": [
    {
     "data": {
      "text/html": [
       "<div>\n",
       "<style scoped>\n",
       "    .dataframe tbody tr th:only-of-type {\n",
       "        vertical-align: middle;\n",
       "    }\n",
       "\n",
       "    .dataframe tbody tr th {\n",
       "        vertical-align: top;\n",
       "    }\n",
       "\n",
       "    .dataframe thead th {\n",
       "        text-align: right;\n",
       "    }\n",
       "</style>\n",
       "<table border=\"1\" class=\"dataframe\">\n",
       "  <thead>\n",
       "    <tr style=\"text-align: right;\">\n",
       "      <th></th>\n",
       "      <th>children_count</th>\n",
       "      <th>total_clients</th>\n",
       "      <th>total_dept</th>\n",
       "      <th>total_percent</th>\n",
       "    </tr>\n",
       "  </thead>\n",
       "  <tbody>\n",
       "    <tr>\n",
       "      <th>0</th>\n",
       "      <td>0</td>\n",
       "      <td>14107</td>\n",
       "      <td>1063</td>\n",
       "      <td>92.46</td>\n",
       "    </tr>\n",
       "    <tr>\n",
       "      <th>1</th>\n",
       "      <td>1</td>\n",
       "      <td>4856</td>\n",
       "      <td>445</td>\n",
       "      <td>90.84</td>\n",
       "    </tr>\n",
       "    <tr>\n",
       "      <th>2</th>\n",
       "      <td>2</td>\n",
       "      <td>2128</td>\n",
       "      <td>202</td>\n",
       "      <td>90.51</td>\n",
       "    </tr>\n",
       "    <tr>\n",
       "      <th>3</th>\n",
       "      <td>3</td>\n",
       "      <td>330</td>\n",
       "      <td>27</td>\n",
       "      <td>91.82</td>\n",
       "    </tr>\n",
       "    <tr>\n",
       "      <th>4</th>\n",
       "      <td>4</td>\n",
       "      <td>41</td>\n",
       "      <td>4</td>\n",
       "      <td>90.24</td>\n",
       "    </tr>\n",
       "    <tr>\n",
       "      <th>5</th>\n",
       "      <td>5</td>\n",
       "      <td>9</td>\n",
       "      <td>0</td>\n",
       "      <td>100.00</td>\n",
       "    </tr>\n",
       "  </tbody>\n",
       "</table>\n",
       "</div>"
      ],
      "text/plain": [
       "   children_count  total_clients  total_dept  total_percent\n",
       "0               0          14107        1063          92.46\n",
       "1               1           4856         445          90.84\n",
       "2               2           2128         202          90.51\n",
       "3               3            330          27          91.82\n",
       "4               4             41           4          90.24\n",
       "5               5              9           0         100.00"
      ]
     },
     "execution_count": 31,
     "metadata": {},
     "output_type": "execute_result"
    }
   ],
   "source": [
    "# -1-\n",
    "#создадим сводную таблицу pivot_children_dept для анализа зависимости между количеством детей и возвратом кредита в срок\n",
    "pivot_children_dept = df.pivot_table(index=['children'], values='debt', aggfunc=['count','sum'])\n",
    "# переименуем колонки сводной таблицы\n",
    "pivot_children_dept.columns = ['_'.join(a) for a in pivot_children_dept.columns]\n",
    "pivot_children_dept = pivot_children_dept.reset_index()\\\n",
    ".rename(columns={'children':'children_count','count_debt':'total_clients', 'sum_debt':'total_dept'})\n",
    "# для анализа добавим колонку total_percent - отношение количества возвратов в срок к общему количеству клиентов в гуппе\n",
    "pivot_children_dept['total_percent'] = round((pivot_children_dept.total_clients-pivot_children_dept.total_dept) \\\n",
    "                                             / pivot_children_dept.total_clients * 100, 2)\n",
    "pivot_children_dept"
   ]
  },
  {
   "cell_type": "code",
   "execution_count": 26,
   "id": "6fdfeb02",
   "metadata": {},
   "outputs": [
    {
     "data": {
      "text/html": [
       "<div>\n",
       "<style scoped>\n",
       "    .dataframe tbody tr th:only-of-type {\n",
       "        vertical-align: middle;\n",
       "    }\n",
       "\n",
       "    .dataframe tbody tr th {\n",
       "        vertical-align: top;\n",
       "    }\n",
       "\n",
       "    .dataframe thead th {\n",
       "        text-align: right;\n",
       "    }\n",
       "</style>\n",
       "<table border=\"1\" class=\"dataframe\">\n",
       "  <thead>\n",
       "    <tr style=\"text-align: right;\">\n",
       "      <th></th>\n",
       "      <th>family_status_id</th>\n",
       "      <th>family_status</th>\n",
       "      <th>total_clients</th>\n",
       "      <th>total_dept</th>\n",
       "      <th>total_percent</th>\n",
       "    </tr>\n",
       "  </thead>\n",
       "  <tbody>\n",
       "    <tr>\n",
       "      <th>0</th>\n",
       "      <td>0</td>\n",
       "      <td>женат / замужем</td>\n",
       "      <td>12344</td>\n",
       "      <td>931</td>\n",
       "      <td>92.46</td>\n",
       "    </tr>\n",
       "    <tr>\n",
       "      <th>1</th>\n",
       "      <td>1</td>\n",
       "      <td>гражданский брак</td>\n",
       "      <td>4163</td>\n",
       "      <td>388</td>\n",
       "      <td>90.68</td>\n",
       "    </tr>\n",
       "    <tr>\n",
       "      <th>2</th>\n",
       "      <td>2</td>\n",
       "      <td>вдовец / вдова</td>\n",
       "      <td>959</td>\n",
       "      <td>63</td>\n",
       "      <td>93.43</td>\n",
       "    </tr>\n",
       "    <tr>\n",
       "      <th>3</th>\n",
       "      <td>3</td>\n",
       "      <td>в разводе</td>\n",
       "      <td>1195</td>\n",
       "      <td>85</td>\n",
       "      <td>92.89</td>\n",
       "    </tr>\n",
       "    <tr>\n",
       "      <th>4</th>\n",
       "      <td>4</td>\n",
       "      <td>Не женат / не замужем</td>\n",
       "      <td>2810</td>\n",
       "      <td>274</td>\n",
       "      <td>90.25</td>\n",
       "    </tr>\n",
       "  </tbody>\n",
       "</table>\n",
       "</div>"
      ],
      "text/plain": [
       "   family_status_id          family_status  total_clients  total_dept  \\\n",
       "0                 0        женат / замужем          12344         931   \n",
       "1                 1       гражданский брак           4163         388   \n",
       "2                 2         вдовец / вдова            959          63   \n",
       "3                 3              в разводе           1195          85   \n",
       "4                 4  Не женат / не замужем           2810         274   \n",
       "\n",
       "   total_percent  \n",
       "0          92.46  \n",
       "1          90.68  \n",
       "2          93.43  \n",
       "3          92.89  \n",
       "4          90.25  "
      ]
     },
     "execution_count": 26,
     "metadata": {},
     "output_type": "execute_result"
    }
   ],
   "source": [
    "# -2-\n",
    "#создадим сводную таблицу pivot_family_dept для анализа зависимости между семейным положением и возвратом кредита в срок\n",
    "pivot_family_dept = df.pivot_table(index=['family_status_id'], values='debt', aggfunc=['count','sum'])\n",
    "# переименуем колонки сводной таблицы\n",
    "pivot_family_dept.columns = ['_'.join(a) for a in pivot_family_dept.columns]\n",
    "pivot_family_dept = pivot_family_dept.reset_index()\\\n",
    ".rename(columns={'count_debt':'total_clients', 'sum_debt':'total_dept'})\n",
    "# для удобства добавим в сводную таблицу информацию по статусу семьи в колонку family_status из датасета df_family_status\n",
    "pivot_family_dept = df_family_status.merge(pivot_family_dept, on='family_status_id', how='left')\n",
    "# для анализа добавим колонку total_percent - отношение количества возвратов в срок к общему количеству клиентов в гуппе\n",
    "pivot_family_dept['total_percent'] = round((pivot_family_dept.total_clients-pivot_family_dept.total_dept) \\\n",
    "                                             / pivot_family_dept.total_clients * 100, 2)\n",
    "pivot_family_dept"
   ]
  },
  {
   "cell_type": "code",
   "execution_count": 27,
   "id": "58ae9a7c",
   "metadata": {},
   "outputs": [
    {
     "data": {
      "text/html": [
       "<div>\n",
       "<style scoped>\n",
       "    .dataframe tbody tr th:only-of-type {\n",
       "        vertical-align: middle;\n",
       "    }\n",
       "\n",
       "    .dataframe tbody tr th {\n",
       "        vertical-align: top;\n",
       "    }\n",
       "\n",
       "    .dataframe thead th {\n",
       "        text-align: right;\n",
       "    }\n",
       "</style>\n",
       "<table border=\"1\" class=\"dataframe\">\n",
       "  <thead>\n",
       "    <tr style=\"text-align: right;\">\n",
       "      <th></th>\n",
       "      <th>total_income_category</th>\n",
       "      <th>total_clients</th>\n",
       "      <th>total_dept</th>\n",
       "      <th>total_percent</th>\n",
       "    </tr>\n",
       "  </thead>\n",
       "  <tbody>\n",
       "    <tr>\n",
       "      <th>0</th>\n",
       "      <td>A | 1000001 и выше |</td>\n",
       "      <td>25</td>\n",
       "      <td>2</td>\n",
       "      <td>92.00</td>\n",
       "    </tr>\n",
       "    <tr>\n",
       "      <th>1</th>\n",
       "      <td>B | 200001–1000000 |</td>\n",
       "      <td>5041</td>\n",
       "      <td>356</td>\n",
       "      <td>92.94</td>\n",
       "    </tr>\n",
       "    <tr>\n",
       "      <th>2</th>\n",
       "      <td>C | 50001–200000 |</td>\n",
       "      <td>16033</td>\n",
       "      <td>1360</td>\n",
       "      <td>91.52</td>\n",
       "    </tr>\n",
       "    <tr>\n",
       "      <th>3</th>\n",
       "      <td>D | 30001–50000 |</td>\n",
       "      <td>350</td>\n",
       "      <td>21</td>\n",
       "      <td>94.00</td>\n",
       "    </tr>\n",
       "    <tr>\n",
       "      <th>4</th>\n",
       "      <td>E | 0–30000 |</td>\n",
       "      <td>22</td>\n",
       "      <td>2</td>\n",
       "      <td>90.91</td>\n",
       "    </tr>\n",
       "  </tbody>\n",
       "</table>\n",
       "</div>"
      ],
      "text/plain": [
       "  total_income_category  total_clients  total_dept  total_percent\n",
       "0  A | 1000001 и выше |             25           2          92.00\n",
       "1  B | 200001–1000000 |           5041         356          92.94\n",
       "2    C | 50001–200000 |          16033        1360          91.52\n",
       "3     D | 30001–50000 |            350          21          94.00\n",
       "4         E | 0–30000 |             22           2          90.91"
      ]
     },
     "execution_count": 27,
     "metadata": {},
     "output_type": "execute_result"
    }
   ],
   "source": [
    "# -3-\n",
    "#создадим сводную таблицу pivot_total_income_dept для анализа зависимости между уровнем дохода и возвратом кредита в срок\n",
    "pivot_total_income_dept = df.pivot_table(index=['total_income_category'], values='debt', aggfunc=['count','sum'])\n",
    "# переименуем колонки сводной таблицы\n",
    "pivot_total_income_dept.columns = ['_'.join(a) for a in pivot_total_income_dept.columns]\n",
    "pivot_total_income_dept = pivot_total_income_dept.reset_index()\\\n",
    ".rename(columns={'count_debt':'total_clients', 'sum_debt':'total_dept'})\n",
    "# для анализа добавим колонку total_percent - отношение количества возвратов в срок к общему количеству клиентов в гуппе\n",
    "pivot_total_income_dept['total_percent'] = round((pivot_total_income_dept.total_clients-pivot_total_income_dept.total_dept) \\\n",
    "                                             / pivot_total_income_dept.total_clients * 100, 2)\n",
    "pivot_total_income_dept"
   ]
  },
  {
   "cell_type": "code",
   "execution_count": 28,
   "id": "6e4bded4",
   "metadata": {},
   "outputs": [
    {
     "data": {
      "text/html": [
       "<div>\n",
       "<style scoped>\n",
       "    .dataframe tbody tr th:only-of-type {\n",
       "        vertical-align: middle;\n",
       "    }\n",
       "\n",
       "    .dataframe tbody tr th {\n",
       "        vertical-align: top;\n",
       "    }\n",
       "\n",
       "    .dataframe thead th {\n",
       "        text-align: right;\n",
       "    }\n",
       "</style>\n",
       "<table border=\"1\" class=\"dataframe\">\n",
       "  <thead>\n",
       "    <tr style=\"text-align: right;\">\n",
       "      <th></th>\n",
       "      <th>purpose_category</th>\n",
       "      <th>total_clients</th>\n",
       "      <th>total_dept</th>\n",
       "      <th>total_percent</th>\n",
       "    </tr>\n",
       "  </thead>\n",
       "  <tbody>\n",
       "    <tr>\n",
       "      <th>0</th>\n",
       "      <td>операции с автомобилем</td>\n",
       "      <td>4308</td>\n",
       "      <td>403</td>\n",
       "      <td>90.65</td>\n",
       "    </tr>\n",
       "    <tr>\n",
       "      <th>1</th>\n",
       "      <td>операции с недвижимостью</td>\n",
       "      <td>10814</td>\n",
       "      <td>782</td>\n",
       "      <td>92.77</td>\n",
       "    </tr>\n",
       "    <tr>\n",
       "      <th>2</th>\n",
       "      <td>получение образования</td>\n",
       "      <td>4014</td>\n",
       "      <td>370</td>\n",
       "      <td>90.78</td>\n",
       "    </tr>\n",
       "    <tr>\n",
       "      <th>3</th>\n",
       "      <td>проведение свадьбы</td>\n",
       "      <td>2335</td>\n",
       "      <td>186</td>\n",
       "      <td>92.03</td>\n",
       "    </tr>\n",
       "  </tbody>\n",
       "</table>\n",
       "</div>"
      ],
      "text/plain": [
       "           purpose_category  total_clients  total_dept  total_percent\n",
       "0    операции с автомобилем           4308         403          90.65\n",
       "1  операции с недвижимостью          10814         782          92.77\n",
       "2     получение образования           4014         370          90.78\n",
       "3        проведение свадьбы           2335         186          92.03"
      ]
     },
     "execution_count": 28,
     "metadata": {},
     "output_type": "execute_result"
    }
   ],
   "source": [
    "# -4-\n",
    "#создадим сводную таблицу pivot_purpose_dept для анализа зависимости между целями кредита и возвратом кредита в срок\n",
    "pivot_purpose_dept = df.pivot_table(index=['purpose_category'], values='debt', aggfunc=['count','sum'])\n",
    "# переименуем колонки сводной таблицы\n",
    "pivot_purpose_dept.columns = ['_'.join(a) for a in pivot_purpose_dept.columns]\n",
    "pivot_purpose_dept = pivot_purpose_dept.reset_index()\\\n",
    ".rename(columns={'count_debt':'total_clients', 'sum_debt':'total_dept'})\n",
    "# для анализа добавим колонку total_percent - отношение количества возвратов в срок к общему количеству клиентов в гуппе\n",
    "pivot_purpose_dept['total_percent'] = round((pivot_purpose_dept.total_clients-pivot_purpose_dept.total_dept) \\\n",
    "                                             / pivot_purpose_dept.total_clients * 100, 2)\n",
    "pivot_purpose_dept"
   ]
  },
  {
   "cell_type": "markdown",
   "id": "70600a68",
   "metadata": {},
   "source": [
    "# Выводы : "
   ]
  },
  {
   "cell_type": "markdown",
   "id": "88eb82ae",
   "metadata": {},
   "source": [
    "1.  Для анализа зависимости между количеством детей в семье и возвратом кредита в срок была создана сводная таблица *pivot_children_dept*. Колонка < total_percent >  показывает отношение количества возвратов кредитов в срок к общему количеству клиентов. \n",
    "\n",
    "Можно сделать выводы : \n",
    "* все клиенты, у которых 5 детей вернули кредит в срок, таких клиентов в данных всего 9;\n",
    "* у большинства клиентов нет детей, и они чаще остальных (за исключением 9 клиентов с 5 детьми, которые не учитываем) возвращают кредит в срок - в 92.46 % случаях;\n",
    "* чаще всего задержка возврата кредита у клиентов с 1, 2 и 4 детьми в семье (в 90.73% случаях возврат кредита в срок).\n"
   ]
  },
  {
   "cell_type": "code",
   "execution_count": 32,
   "id": "ecf05090",
   "metadata": {},
   "outputs": [
    {
     "data": {
      "text/html": [
       "<div>\n",
       "<style scoped>\n",
       "    .dataframe tbody tr th:only-of-type {\n",
       "        vertical-align: middle;\n",
       "    }\n",
       "\n",
       "    .dataframe tbody tr th {\n",
       "        vertical-align: top;\n",
       "    }\n",
       "\n",
       "    .dataframe thead th {\n",
       "        text-align: right;\n",
       "    }\n",
       "</style>\n",
       "<table border=\"1\" class=\"dataframe\">\n",
       "  <thead>\n",
       "    <tr style=\"text-align: right;\">\n",
       "      <th></th>\n",
       "      <th>children_count</th>\n",
       "      <th>total_clients</th>\n",
       "      <th>total_dept</th>\n",
       "      <th>total_percent</th>\n",
       "    </tr>\n",
       "  </thead>\n",
       "  <tbody>\n",
       "    <tr>\n",
       "      <th>0</th>\n",
       "      <td>0</td>\n",
       "      <td>14107</td>\n",
       "      <td>1063</td>\n",
       "      <td>92.46</td>\n",
       "    </tr>\n",
       "    <tr>\n",
       "      <th>1</th>\n",
       "      <td>1</td>\n",
       "      <td>4856</td>\n",
       "      <td>445</td>\n",
       "      <td>90.84</td>\n",
       "    </tr>\n",
       "    <tr>\n",
       "      <th>2</th>\n",
       "      <td>2</td>\n",
       "      <td>2128</td>\n",
       "      <td>202</td>\n",
       "      <td>90.51</td>\n",
       "    </tr>\n",
       "    <tr>\n",
       "      <th>3</th>\n",
       "      <td>3</td>\n",
       "      <td>330</td>\n",
       "      <td>27</td>\n",
       "      <td>91.82</td>\n",
       "    </tr>\n",
       "    <tr>\n",
       "      <th>4</th>\n",
       "      <td>4</td>\n",
       "      <td>41</td>\n",
       "      <td>4</td>\n",
       "      <td>90.24</td>\n",
       "    </tr>\n",
       "    <tr>\n",
       "      <th>5</th>\n",
       "      <td>5</td>\n",
       "      <td>9</td>\n",
       "      <td>0</td>\n",
       "      <td>100.00</td>\n",
       "    </tr>\n",
       "  </tbody>\n",
       "</table>\n",
       "</div>"
      ],
      "text/plain": [
       "   children_count  total_clients  total_dept  total_percent\n",
       "0               0          14107        1063          92.46\n",
       "1               1           4856         445          90.84\n",
       "2               2           2128         202          90.51\n",
       "3               3            330          27          91.82\n",
       "4               4             41           4          90.24\n",
       "5               5              9           0         100.00"
      ]
     },
     "execution_count": 32,
     "metadata": {},
     "output_type": "execute_result"
    }
   ],
   "source": [
    "pivot_children_dept"
   ]
  },
  {
   "cell_type": "markdown",
   "id": "09e719bc",
   "metadata": {},
   "source": [
    "2.  Для анализа зависимости между семейным положением и возвратом кредита в срок была создана сводная таблица *pivot_family_dept*. Колонка < total_percent > показывает отношение количества возвратов кредитов в срок к общему количеству клиентов. \n",
    "\n",
    "Можно сделать выводы : \n",
    "* чаще остальных в срок возвращают кредит клиенты с семейным статусом \"вдовец / вдова\" - в 93.43% случаях;\n",
    "* большинство клиентов имеют статус \"женат / замужем\" и возвращают кредит в срок в 92.46% случаях - что является выше среднего показателя среди всех клиентов (91.89%);\n",
    "* самый низкий показатель процента возврата кредита в срок у клиентов \"Не женат / не замужем\" - 90.25%\t"
   ]
  },
  {
   "cell_type": "code",
   "execution_count": 36,
   "id": "8ceaa71f",
   "metadata": {},
   "outputs": [
    {
     "data": {
      "text/html": [
       "<div>\n",
       "<style scoped>\n",
       "    .dataframe tbody tr th:only-of-type {\n",
       "        vertical-align: middle;\n",
       "    }\n",
       "\n",
       "    .dataframe tbody tr th {\n",
       "        vertical-align: top;\n",
       "    }\n",
       "\n",
       "    .dataframe thead th {\n",
       "        text-align: right;\n",
       "    }\n",
       "</style>\n",
       "<table border=\"1\" class=\"dataframe\">\n",
       "  <thead>\n",
       "    <tr style=\"text-align: right;\">\n",
       "      <th></th>\n",
       "      <th>family_status_id</th>\n",
       "      <th>family_status</th>\n",
       "      <th>total_clients</th>\n",
       "      <th>total_dept</th>\n",
       "      <th>total_percent</th>\n",
       "    </tr>\n",
       "  </thead>\n",
       "  <tbody>\n",
       "    <tr>\n",
       "      <th>0</th>\n",
       "      <td>0</td>\n",
       "      <td>женат / замужем</td>\n",
       "      <td>12344</td>\n",
       "      <td>931</td>\n",
       "      <td>92.46</td>\n",
       "    </tr>\n",
       "    <tr>\n",
       "      <th>1</th>\n",
       "      <td>1</td>\n",
       "      <td>гражданский брак</td>\n",
       "      <td>4163</td>\n",
       "      <td>388</td>\n",
       "      <td>90.68</td>\n",
       "    </tr>\n",
       "    <tr>\n",
       "      <th>2</th>\n",
       "      <td>2</td>\n",
       "      <td>вдовец / вдова</td>\n",
       "      <td>959</td>\n",
       "      <td>63</td>\n",
       "      <td>93.43</td>\n",
       "    </tr>\n",
       "    <tr>\n",
       "      <th>3</th>\n",
       "      <td>3</td>\n",
       "      <td>в разводе</td>\n",
       "      <td>1195</td>\n",
       "      <td>85</td>\n",
       "      <td>92.89</td>\n",
       "    </tr>\n",
       "    <tr>\n",
       "      <th>4</th>\n",
       "      <td>4</td>\n",
       "      <td>Не женат / не замужем</td>\n",
       "      <td>2810</td>\n",
       "      <td>274</td>\n",
       "      <td>90.25</td>\n",
       "    </tr>\n",
       "  </tbody>\n",
       "</table>\n",
       "</div>"
      ],
      "text/plain": [
       "   family_status_id          family_status  total_clients  total_dept  \\\n",
       "0                 0        женат / замужем          12344         931   \n",
       "1                 1       гражданский брак           4163         388   \n",
       "2                 2         вдовец / вдова            959          63   \n",
       "3                 3              в разводе           1195          85   \n",
       "4                 4  Не женат / не замужем           2810         274   \n",
       "\n",
       "   total_percent  \n",
       "0          92.46  \n",
       "1          90.68  \n",
       "2          93.43  \n",
       "3          92.89  \n",
       "4          90.25  "
      ]
     },
     "execution_count": 36,
     "metadata": {},
     "output_type": "execute_result"
    }
   ],
   "source": [
    "pivot_family_dept"
   ]
  },
  {
   "cell_type": "markdown",
   "id": "7b6cf288",
   "metadata": {},
   "source": [
    "3.  Для анализа зависимости между уровнем дохода и возвратом кредита в срок была создана сводная таблица *pivot_total_income_dept*. Колонка < total_percent > показывает отношение количества возвратов кредитов в срок к общему количеству клиентов. \n",
    "\n",
    "Можно сделать выводы : \n",
    "* чаще остальных в срок возвращают кредит клиенты в категории D (30001 – 50000 руб) - в 94% случаях;\n",
    "* большинство клиентов в категории С (50001–200000 руб) и возвращают кредит в срок в 91.52% случаях - что является ниже среднего показателя среди всех клиентов (91.89%);\n",
    "* самый низкий показатель процента возврата кредита в срок у клиентов в категории E (0–30000 руб) - 90.91%"
   ]
  },
  {
   "cell_type": "code",
   "execution_count": 43,
   "id": "57efe18b",
   "metadata": {},
   "outputs": [
    {
     "data": {
      "text/html": [
       "<div>\n",
       "<style scoped>\n",
       "    .dataframe tbody tr th:only-of-type {\n",
       "        vertical-align: middle;\n",
       "    }\n",
       "\n",
       "    .dataframe tbody tr th {\n",
       "        vertical-align: top;\n",
       "    }\n",
       "\n",
       "    .dataframe thead th {\n",
       "        text-align: right;\n",
       "    }\n",
       "</style>\n",
       "<table border=\"1\" class=\"dataframe\">\n",
       "  <thead>\n",
       "    <tr style=\"text-align: right;\">\n",
       "      <th></th>\n",
       "      <th>total_income_category</th>\n",
       "      <th>total_clients</th>\n",
       "      <th>total_dept</th>\n",
       "      <th>total_percent</th>\n",
       "    </tr>\n",
       "  </thead>\n",
       "  <tbody>\n",
       "    <tr>\n",
       "      <th>0</th>\n",
       "      <td>A | 1000001 и выше |</td>\n",
       "      <td>25</td>\n",
       "      <td>2</td>\n",
       "      <td>92.00</td>\n",
       "    </tr>\n",
       "    <tr>\n",
       "      <th>1</th>\n",
       "      <td>B | 200001–1000000 |</td>\n",
       "      <td>5041</td>\n",
       "      <td>356</td>\n",
       "      <td>92.94</td>\n",
       "    </tr>\n",
       "    <tr>\n",
       "      <th>2</th>\n",
       "      <td>C | 50001–200000 |</td>\n",
       "      <td>16033</td>\n",
       "      <td>1360</td>\n",
       "      <td>91.52</td>\n",
       "    </tr>\n",
       "    <tr>\n",
       "      <th>3</th>\n",
       "      <td>D | 30001–50000 |</td>\n",
       "      <td>350</td>\n",
       "      <td>21</td>\n",
       "      <td>94.00</td>\n",
       "    </tr>\n",
       "    <tr>\n",
       "      <th>4</th>\n",
       "      <td>E | 0–30000 |</td>\n",
       "      <td>22</td>\n",
       "      <td>2</td>\n",
       "      <td>90.91</td>\n",
       "    </tr>\n",
       "  </tbody>\n",
       "</table>\n",
       "</div>"
      ],
      "text/plain": [
       "  total_income_category  total_clients  total_dept  total_percent\n",
       "0  A | 1000001 и выше |             25           2          92.00\n",
       "1  B | 200001–1000000 |           5041         356          92.94\n",
       "2    C | 50001–200000 |          16033        1360          91.52\n",
       "3     D | 30001–50000 |            350          21          94.00\n",
       "4         E | 0–30000 |             22           2          90.91"
      ]
     },
     "execution_count": 43,
     "metadata": {},
     "output_type": "execute_result"
    }
   ],
   "source": [
    "pivot_total_income_dept"
   ]
  },
  {
   "cell_type": "markdown",
   "id": "92719f18",
   "metadata": {},
   "source": [
    "3.  Для анализа зависимости между целями кредита и возвратом кредита в срок была создана сводная таблица *pivot_purpose_dept*. Колонка < total_percent > показывает отношение количества возвратов кредитов в срок к общему количеству клиентов. \n",
    "\n",
    "Можно сделать выводы : \n",
    "* большинство клиентов берут кредит для \"операции с недвижимостью\" и чаще остальных возвращают кредит в срок в 92.77%;\n",
    "* самый низкий показатель процента возврата кредита в срок кредитов на \"получение образования\" и \"операции с автомобилем\" - 90.78% и 90.65% соответственно"
   ]
  },
  {
   "cell_type": "code",
   "execution_count": 49,
   "id": "e2d73d89",
   "metadata": {},
   "outputs": [
    {
     "data": {
      "text/html": [
       "<div>\n",
       "<style scoped>\n",
       "    .dataframe tbody tr th:only-of-type {\n",
       "        vertical-align: middle;\n",
       "    }\n",
       "\n",
       "    .dataframe tbody tr th {\n",
       "        vertical-align: top;\n",
       "    }\n",
       "\n",
       "    .dataframe thead th {\n",
       "        text-align: right;\n",
       "    }\n",
       "</style>\n",
       "<table border=\"1\" class=\"dataframe\">\n",
       "  <thead>\n",
       "    <tr style=\"text-align: right;\">\n",
       "      <th></th>\n",
       "      <th>purpose_category</th>\n",
       "      <th>total_clients</th>\n",
       "      <th>total_dept</th>\n",
       "      <th>total_percent</th>\n",
       "    </tr>\n",
       "  </thead>\n",
       "  <tbody>\n",
       "    <tr>\n",
       "      <th>0</th>\n",
       "      <td>операции с автомобилем</td>\n",
       "      <td>4308</td>\n",
       "      <td>403</td>\n",
       "      <td>90.65</td>\n",
       "    </tr>\n",
       "    <tr>\n",
       "      <th>1</th>\n",
       "      <td>операции с недвижимостью</td>\n",
       "      <td>10814</td>\n",
       "      <td>782</td>\n",
       "      <td>92.77</td>\n",
       "    </tr>\n",
       "    <tr>\n",
       "      <th>2</th>\n",
       "      <td>получение образования</td>\n",
       "      <td>4014</td>\n",
       "      <td>370</td>\n",
       "      <td>90.78</td>\n",
       "    </tr>\n",
       "    <tr>\n",
       "      <th>3</th>\n",
       "      <td>проведение свадьбы</td>\n",
       "      <td>2335</td>\n",
       "      <td>186</td>\n",
       "      <td>92.03</td>\n",
       "    </tr>\n",
       "  </tbody>\n",
       "</table>\n",
       "</div>"
      ],
      "text/plain": [
       "           purpose_category  total_clients  total_dept  total_percent\n",
       "0    операции с автомобилем           4308         403          90.65\n",
       "1  операции с недвижимостью          10814         782          92.77\n",
       "2     получение образования           4014         370          90.78\n",
       "3        проведение свадьбы           2335         186          92.03"
      ]
     },
     "execution_count": 49,
     "metadata": {},
     "output_type": "execute_result"
    }
   ],
   "source": [
    "pivot_purpose_dept"
   ]
  },
  {
   "cell_type": "markdown",
   "id": "da94e0b1",
   "metadata": {},
   "source": [
    "**Изходя из сделанных выводов можем получить модель идеального и нежелательного клиентов :**\n",
    "\n",
    "* **модель идельного клиента** -  клиент с 5 детьми, семейный статус - вдовец / вдова, с потребностью в кредите в пределах категории D (30 001 – 50 000 руб) для операции с недвижимостью;\n",
    "* **модель нежелательного клиента** - клиент с 1, 2 или 4 детьми в семье, семейный статус - \"Не женат / не замужем, с потребностью в кредите в пределах категории E ( до 30 000 руб) для \"получение образования\" или \"операции с автомобилем\"."
   ]
  }
 ],
 "metadata": {
  "kernelspec": {
   "display_name": "Python 3 (ipykernel)",
   "language": "python",
   "name": "python3"
  },
  "language_info": {
   "codemirror_mode": {
    "name": "ipython",
    "version": 3
   },
   "file_extension": ".py",
   "mimetype": "text/x-python",
   "name": "python",
   "nbconvert_exporter": "python",
   "pygments_lexer": "ipython3",
   "version": "3.9.12"
  }
 },
 "nbformat": 4,
 "nbformat_minor": 5
}
