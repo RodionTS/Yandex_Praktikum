{
 "cells": [
  {
   "cell_type": "markdown",
   "id": "3c79a731",
   "metadata": {},
   "source": [
    "# Аналилиз спроса пассажиров на рейсы авиакомпании"
   ]
  },
  {
   "cell_type": "markdown",
   "id": "a08bd676",
   "metadata": {},
   "source": [
    "### Задание <a id=\"step0\"></a>   \n",
    "Вы аналитик российской авиакомпании F9, которая выполняет внутренние пассажирские перевозки. Для развития компании важно понять предпочтения пользователей, покупающих билеты на разные направления.\n",
    "\n",
    "Вам предстоит изучить базу данных и проанализировать спрос пассажиров на рейсы в города, где проходят крупнейшие фестивали."
   ]
  },
  {
   "cell_type": "markdown",
   "id": "e5d2fedb",
   "metadata": {},
   "source": [
    "## Оглавление\n",
    "\n",
    "1. [Задание](#step0)  \n",
    "2. [Шаг 1. Получение данных с сайта по URL](#step1)  \n",
    "3. [Шаг 2. Исследовательский анализ данных ](#step2)\n",
    "4. [Шаг 3. Подготовка данных о количестве рейсов во время фестивалей](#step3)\n",
    "5. [Шаг 4. Аналитика средствами Python](#step4)  \n"
   ]
  },
  {
   "cell_type": "markdown",
   "id": "c511a1ed",
   "metadata": {},
   "source": [
    "### Шаг 1. Получение данных с сайта по URL <a id=\"step1\"></a>   \n",
    "Напишите парсер для сбора с сайта данных о 11 крупнейших фестивалях 2018 года.\n",
    "\n",
    "Ссылка на сайт: https://code.s3.yandex.net/learning-materials/data-analyst/festival_news/index.html"
   ]
  },
  {
   "cell_type": "code",
   "execution_count": 1,
   "id": "d94de56a",
   "metadata": {},
   "outputs": [
    {
     "data": {
      "text/html": [
       "<div>\n",
       "<style scoped>\n",
       "    .dataframe tbody tr th:only-of-type {\n",
       "        vertical-align: middle;\n",
       "    }\n",
       "\n",
       "    .dataframe tbody tr th {\n",
       "        vertical-align: top;\n",
       "    }\n",
       "\n",
       "    .dataframe thead th {\n",
       "        text-align: right;\n",
       "    }\n",
       "</style>\n",
       "<table border=\"1\" class=\"dataframe\">\n",
       "  <thead>\n",
       "    <tr style=\"text-align: right;\">\n",
       "      <th></th>\n",
       "      <th>Название фестиваля</th>\n",
       "      <th>Место проведения</th>\n",
       "      <th>Дата проведения</th>\n",
       "    </tr>\n",
       "  </thead>\n",
       "  <tbody>\n",
       "    <tr>\n",
       "      <th>0</th>\n",
       "      <td>Музыкальный фестиваль «Усадьба Jazz»</td>\n",
       "      <td>Екатеринбург</td>\n",
       "      <td>01.07.2018</td>\n",
       "    </tr>\n",
       "    <tr>\n",
       "      <th>1</th>\n",
       "      <td>Фестиваль музыки и технологий Alfa Future People</td>\n",
       "      <td>Нижний Новгород</td>\n",
       "      <td>10.08.2018</td>\n",
       "    </tr>\n",
       "    <tr>\n",
       "      <th>2</th>\n",
       "      <td>Фестиваль еды «О, да! Еда!»</td>\n",
       "      <td>Санкт-Петербург</td>\n",
       "      <td>21.07.2018</td>\n",
       "    </tr>\n",
       "    <tr>\n",
       "      <th>3</th>\n",
       "      <td>Доброфест</td>\n",
       "      <td>Ярославль</td>\n",
       "      <td>29.07.2018</td>\n",
       "    </tr>\n",
       "    <tr>\n",
       "      <th>4</th>\n",
       "      <td>Park Live</td>\n",
       "      <td>Москва</td>\n",
       "      <td>28.07.2018</td>\n",
       "    </tr>\n",
       "    <tr>\n",
       "      <th>5</th>\n",
       "      <td>Пикник Афиши</td>\n",
       "      <td>Москва</td>\n",
       "      <td>04.08.2018</td>\n",
       "    </tr>\n",
       "    <tr>\n",
       "      <th>6</th>\n",
       "      <td>VK FEST</td>\n",
       "      <td>Санкт-Петербург</td>\n",
       "      <td>29.07.2018</td>\n",
       "    </tr>\n",
       "    <tr>\n",
       "      <th>7</th>\n",
       "      <td>Фестиваль «О, да! Еда!»</td>\n",
       "      <td>Иркутск</td>\n",
       "      <td>25.08.2018</td>\n",
       "    </tr>\n",
       "    <tr>\n",
       "      <th>8</th>\n",
       "      <td>Фестиваль «О, да! Еда!»</td>\n",
       "      <td>Владивосток</td>\n",
       "      <td>02.09.2018</td>\n",
       "    </tr>\n",
       "    <tr>\n",
       "      <th>9</th>\n",
       "      <td>Видфест</td>\n",
       "      <td>Москва</td>\n",
       "      <td>08.09.2018</td>\n",
       "    </tr>\n",
       "    <tr>\n",
       "      <th>10</th>\n",
       "      <td>«Нашествие 2018»</td>\n",
       "      <td>Тверь</td>\n",
       "      <td>05.08.2018</td>\n",
       "    </tr>\n",
       "  </tbody>\n",
       "</table>\n",
       "</div>"
      ],
      "text/plain": [
       "                                  Название фестиваля Место проведения  \\\n",
       "0               Музыкальный фестиваль «Усадьба Jazz»     Екатеринбург   \n",
       "1   Фестиваль музыки и технологий Alfa Future People  Нижний Новгород   \n",
       "2                        Фестиваль еды «О, да! Еда!»  Санкт-Петербург   \n",
       "3                                          Доброфест        Ярославль   \n",
       "4                                          Park Live           Москва   \n",
       "5                                       Пикник Афиши           Москва   \n",
       "6                                            VK FEST  Санкт-Петербург   \n",
       "7                            Фестиваль «О, да! Еда!»          Иркутск   \n",
       "8                            Фестиваль «О, да! Еда!»      Владивосток   \n",
       "9                                            Видфест           Москва   \n",
       "10                                  «Нашествие 2018»            Тверь   \n",
       "\n",
       "   Дата проведения  \n",
       "0       01.07.2018  \n",
       "1       10.08.2018  \n",
       "2       21.07.2018  \n",
       "3       29.07.2018  \n",
       "4       28.07.2018  \n",
       "5       04.08.2018  \n",
       "6       29.07.2018  \n",
       "7       25.08.2018  \n",
       "8       02.09.2018  \n",
       "9       08.09.2018  \n",
       "10      05.08.2018  "
      ]
     },
     "execution_count": 1,
     "metadata": {},
     "output_type": "execute_result"
    }
   ],
   "source": [
    "import pandas as pd\n",
    "import requests # библиотека для работы с сайтами html\n",
    "from bs4 import BeautifulSoup # библиотека для парсинга html страниц \n",
    "\n",
    "\n",
    "# сохраним в переменной URL ссылку на сайт с требуемыми данными \n",
    "URL = 'https://code.s3.yandex.net/learning-materials/data-analyst/festival_news/index.html' \n",
    "\n",
    "req = requests.get(URL)                   # запрос ответа сайта с данными по URL используя библиотеку requests\n",
    "soup = BeautifulSoup(req.text, 'lxml')    # в переменную soup запишем преобразованный для дальнейшей обработке HTML код сайта \n",
    "\n",
    "table_head =[] # Создадим пустой список для добавления названия колонок таблицы данных\n",
    "\n",
    "for i in soup.find('table', id = 'best_festivals').find_all('th'):\n",
    "    table_head.append(i.text)\n",
    "\n",
    "table_data = [] # Создадим пустой список для добавления данных выгруженных с сайта\n",
    "\n",
    "# Циклом выгрузим данные из soup в список table_data\n",
    "for i in soup.find('table', id = 'best_festivals').find_all('td'): \n",
    "    table_data.append(i.text) \n",
    "# из одномерного списка создадим двумерный с разбивкой по количеству колонок в таблице на сайте для дальнейшего формирования DF\n",
    "festivals_data = [table_data[i:i+len(table_head)] for i in range(0, len(table_data), len(table_head))]  \n",
    "\n",
    "# создадим таблицу DF festivals с информациях о фестивалях собранных с требуемого сайта \n",
    "festivals = pd.DataFrame(festivals_data, columns=table_head)\n",
    "festivals"
   ]
  },
  {
   "cell_type": "markdown",
   "id": "74542064",
   "metadata": {},
   "source": [
    " ### Шаг 2. Исследовательский анализ данных  <a id=\"step2\"></a>  \n",
    " **(Данный шаг выполнен на ресурсе Yandex Practikum, ниже содетжится код запроса к данным SQL сервера )**\n",
    " \n",
    " \n",
    "**Задание :**\n",
    "*    Найдите количество рейсов с вылетом в сентябре 2018 года на каждой модели самолёта. Назовите получившееся поле flights_amount и выведите его, также выведите поле model.\n",
    "    \n",
    "*    Посчитайте количество рейсов по всем моделям самолетов Boeing и Airbus в сентябре. Назовите получившуюся переменную flights_amount и выведите ее.  \n"
   ]
  },
  {
   "cell_type": "raw",
   "id": "f85c347f",
   "metadata": {},
   "source": [
    "Найдите количество рейсов с вылетом в сентябре 2018 года на каждой модели самолёта. Назовите получившееся поле flights_amount и выведите его, также выведите поле model.\n",
    "\n",
    "SELECT\n",
    "   model,\n",
    "   COUNT(flight_id) AS flights_amount      \n",
    "FROM aircrafts\n",
    "LEFT JOIN flights USING(aircraft_code) \n",
    "WHERE CAST(departure_time as date) BETWEEN '2018-09-01' AND '2018-09-30'\n",
    "GROUP BY  model;"
   ]
  },
  {
   "cell_type": "raw",
   "id": "2ab768b4",
   "metadata": {},
   "source": [
    "Посчитайте количество рейсов по всем моделям самолетов Boeing и Airbus в сентябре. Назовите получившуюся переменную flights_amount и выведите ее.\n",
    "\n",
    "SELECT\n",
    "CASE\n",
    "WHEN model LIKE 'Airbus%' THEN  'Airbus'\n",
    "WHEN model LIKE 'Boeing%' THEN  'Boening'\n",
    "ELSE  'other'\n",
    "END model,\n",
    "count(*) as flights_amount\n",
    "\n",
    "FROM flights\n",
    "INNER JOIN aircrafts USING(aircraft_code)\n",
    "WHERE\n",
    "    CAST(departure_time as date) BETWEEN '2018-09-01' and '2018-09-30' \n",
    "Group BY CASE\n",
    "WHEN model LIKE 'Airbus%' THEN  'Airbus'\n",
    "WHEN model LIKE 'Boeing%' THEN  'Boening'\n",
    "ELSE  'other'\n",
    "END ;"
   ]
  },
  {
   "cell_type": "markdown",
   "id": "a62020ed",
   "metadata": {},
   "source": [
    "### Шаг 3. Подготовка данных о количестве рейсов во время фестивалей <a id=\"step3\"></a>  \n",
    " **(Данный шаг выполнен на ресурсе Yandex Practikum, ниже содетжится код запроса к данным SQL сервера )**\n",
    "\n",
    "**Задание :**\n",
    "*    Установите фестивали, которые проходили с 23 июля по 30 сентября 2018 года в Москве, и номер недели, в которую они проходили. Выведите название фестиваля festival_name и номер недели festival_week.\n",
    "    \n",
    "*    Для каждой недели с 23 июля по 30 сентября 2018 года посчитайте количество билетов, купленных на рейсы в Москву (номер недели week_number и количество рейсов flights_amount). Получите таблицу, в которой будет информация о количестве купленных за неделю билетов, отметка, проходил ли в эту неделю фестиваль, название фестиваля festival_name и номер недели week_number.\n"
   ]
  },
  {
   "cell_type": "raw",
   "id": "d651c6af",
   "metadata": {},
   "source": [
    "Установите фестивали, которые проходили с 23 июля по 30 сентября 2018 года в Москве, и номер недели, в которую они проходили. Выведите название фестиваля festival_name и номер недели festival_week.\n",
    "\n",
    "SELECT \n",
    "festival_name,\n",
    "EXTRACT ('week' from cast(festival_date as date) )   as festivals_week\n",
    "FROM festivals\n",
    "WHERE CAST(festival_date as date ) BETWEEN '2018-07-23' AND '2018-09-30' AND\n",
    "festival_city = 'Москва';"
   ]
  },
  {
   "cell_type": "raw",
   "id": "2c0c376e",
   "metadata": {},
   "source": [
    "Для каждой недели с 23 июля по 30 сентября 2018 года посчитайте количество билетов, купленных на рейсы в Москву (номер недели week_number и количество рейсов flights_amount). Получите таблицу, в которой будет информация о количестве купленных за неделю билетов, отметка, проходил ли в эту неделю фестиваль, название фестиваля festival_name и номер недели week_number.\n",
    "\n",
    "SELECT * FROM\n",
    "(SELECT\n",
    "EXTRACT ('week' FROM cast(arrival_time as date)) as week_number, \n",
    "COUNT(ticket_flights.ticket_no) as ticket_amount\n",
    "FROM flights \n",
    "LEFT JOIN airports on flights.arrival_airport = airports.airport_code\n",
    "LEFT JOIN ticket_flights USING(flight_id)\n",
    "WHERE airports.city = 'Москва' AND CAST(flights.arrival_time as date) BETWEEN '2018-07-23' AND '2018-09-30'\n",
    "GROUP BY 1) AS tab_1\n",
    "LEFT JOIN (SELECT \n",
    "EXTRACT(week FROM festivals.festival_date) AS festival_week,\n",
    "festival_name\n",
    "FROM festivals\n",
    "WHERE festival_city = 'Москва' AND CAST(festivals.festival_date as date) BETWEEN '2018-07-23' AND '2018-09-30') AS tab_2\n",
    "ON tab_1.week_number = tab_2.festival_week ;"
   ]
  },
  {
   "cell_type": "markdown",
   "id": "a9e6332d",
   "metadata": {},
   "source": [
    "### Шаг 4. Аналитика средствами Python <a id=\"step4\"></a>  \n"
   ]
  },
  {
   "cell_type": "markdown",
   "id": "aa18fbc7",
   "metadata": {},
   "source": [
    "#### Результаты запросов из предыдущих заданий:\n",
    "\n",
    "1. Запрос \" Найдите количество рейсов с вылетом в сентябре 2018 года на каждой модели самолёта\" содержится в файле *query_1.csv*. \n",
    "\n",
    "    В нём содержится информация:\n",
    "\n",
    "    * model — модели самолета,\n",
    "    * flights_amount — количество рейсов для каждой модели самолетов model в сентябре 2018 года.\n",
    "\n",
    "2.  Запрос \"Посчитайте среднее количество прибывающих рейсов в день для каждого города за август 2018 года.\" содержится в файле *query_2.csv*. \n",
    "\n",
    "    В нём содержится информация:\n",
    "\n",
    "    * city —  города,\n",
    "    * average_flights — среднее количество рейсов, прибывающих в город city за день в августе 2018 года.\n",
    "    "
   ]
  },
  {
   "cell_type": "markdown",
   "id": "f7e02d52",
   "metadata": {},
   "source": [
    "**Задание**\n",
    "\n",
    "Необходимо провести анализ данных полученных в предыдущих шагах:    \n",
    "*    импортировать файлы;\n",
    "*    изучить данные в них;\n",
    "*    проверить типы данных на корректность;\n",
    "*    выбрать топ-10 городов по количеству рейсов;\n",
    "*    построить графики: модели самолетов и количество рейсов, города и количество рейсов, топ-10 городов и количество рейсов;\n",
    "*    сделать выводы по каждому из графиков, пояснить результат."
   ]
  },
  {
   "cell_type": "code",
   "execution_count": 2,
   "id": "f32b74bb",
   "metadata": {},
   "outputs": [],
   "source": [
    "# Подключим необходимые библиотеки\n",
    "import pandas as pd\n",
    "import matplotlib as plt\n",
    "import seaborn as sns\n",
    "import numpy as np\n",
    "\n",
    "\n",
    "# Выгрузим данные из файлов query_1.csv и query_2.csv в таблицы с именами query_1 и query_2 соответственно\n",
    "query_1 = pd.read_csv('5_project_data\\\\query_1.csv')\n",
    "query_2 = pd.read_csv('5_project_data\\\\query_2.csv')"
   ]
  },
  {
   "cell_type": "code",
   "execution_count": 3,
   "id": "9d42de6c",
   "metadata": {},
   "outputs": [
    {
     "name": "stdout",
     "output_type": "stream",
     "text": [
      "\u001b[1mТаблица query_1\n"
     ]
    },
    {
     "data": {
      "text/html": [
       "<div>\n",
       "<style scoped>\n",
       "    .dataframe tbody tr th:only-of-type {\n",
       "        vertical-align: middle;\n",
       "    }\n",
       "\n",
       "    .dataframe tbody tr th {\n",
       "        vertical-align: top;\n",
       "    }\n",
       "\n",
       "    .dataframe thead th {\n",
       "        text-align: right;\n",
       "    }\n",
       "</style>\n",
       "<table border=\"1\" class=\"dataframe\">\n",
       "  <thead>\n",
       "    <tr style=\"text-align: right;\">\n",
       "      <th></th>\n",
       "      <th>model</th>\n",
       "      <th>flights_amount</th>\n",
       "    </tr>\n",
       "  </thead>\n",
       "  <tbody>\n",
       "    <tr>\n",
       "      <th>0</th>\n",
       "      <td>Airbus A319-100</td>\n",
       "      <td>607</td>\n",
       "    </tr>\n",
       "    <tr>\n",
       "      <th>1</th>\n",
       "      <td>Airbus A321-200</td>\n",
       "      <td>960</td>\n",
       "    </tr>\n",
       "    <tr>\n",
       "      <th>2</th>\n",
       "      <td>Boeing 737-300</td>\n",
       "      <td>630</td>\n",
       "    </tr>\n",
       "    <tr>\n",
       "      <th>3</th>\n",
       "      <td>Boeing 767-300</td>\n",
       "      <td>600</td>\n",
       "    </tr>\n",
       "    <tr>\n",
       "      <th>4</th>\n",
       "      <td>Boeing 777-300</td>\n",
       "      <td>300</td>\n",
       "    </tr>\n",
       "    <tr>\n",
       "      <th>5</th>\n",
       "      <td>Bombardier CRJ-200</td>\n",
       "      <td>4446</td>\n",
       "    </tr>\n",
       "    <tr>\n",
       "      <th>6</th>\n",
       "      <td>Cessna 208 Caravan</td>\n",
       "      <td>4557</td>\n",
       "    </tr>\n",
       "    <tr>\n",
       "      <th>7</th>\n",
       "      <td>Sukhoi SuperJet-100</td>\n",
       "      <td>4185</td>\n",
       "    </tr>\n",
       "  </tbody>\n",
       "</table>\n",
       "</div>"
      ],
      "text/plain": [
       "                 model  flights_amount\n",
       "0      Airbus A319-100             607\n",
       "1      Airbus A321-200             960\n",
       "2       Boeing 737-300             630\n",
       "3       Boeing 767-300             600\n",
       "4       Boeing 777-300             300\n",
       "5   Bombardier CRJ-200            4446\n",
       "6   Cessna 208 Caravan            4557\n",
       "7  Sukhoi SuperJet-100            4185"
      ]
     },
     "metadata": {},
     "output_type": "display_data"
    },
    {
     "name": "stdout",
     "output_type": "stream",
     "text": [
      "\u001b[1mИнформация о таблице query_1\n"
     ]
    },
    {
     "data": {
      "text/html": [
       "<div>\n",
       "<style scoped>\n",
       "    .dataframe tbody tr th:only-of-type {\n",
       "        vertical-align: middle;\n",
       "    }\n",
       "\n",
       "    .dataframe tbody tr th {\n",
       "        vertical-align: top;\n",
       "    }\n",
       "\n",
       "    .dataframe thead th {\n",
       "        text-align: right;\n",
       "    }\n",
       "</style>\n",
       "<table border=\"1\" class=\"dataframe\">\n",
       "  <thead>\n",
       "    <tr style=\"text-align: right;\">\n",
       "      <th></th>\n",
       "      <th>flights_amount</th>\n",
       "    </tr>\n",
       "  </thead>\n",
       "  <tbody>\n",
       "    <tr>\n",
       "      <th>count</th>\n",
       "      <td>8.000000</td>\n",
       "    </tr>\n",
       "    <tr>\n",
       "      <th>mean</th>\n",
       "      <td>2035.625000</td>\n",
       "    </tr>\n",
       "    <tr>\n",
       "      <th>std</th>\n",
       "      <td>1965.203947</td>\n",
       "    </tr>\n",
       "    <tr>\n",
       "      <th>min</th>\n",
       "      <td>300.000000</td>\n",
       "    </tr>\n",
       "    <tr>\n",
       "      <th>25%</th>\n",
       "      <td>605.250000</td>\n",
       "    </tr>\n",
       "    <tr>\n",
       "      <th>50%</th>\n",
       "      <td>795.000000</td>\n",
       "    </tr>\n",
       "    <tr>\n",
       "      <th>75%</th>\n",
       "      <td>4250.250000</td>\n",
       "    </tr>\n",
       "    <tr>\n",
       "      <th>max</th>\n",
       "      <td>4557.000000</td>\n",
       "    </tr>\n",
       "  </tbody>\n",
       "</table>\n",
       "</div>"
      ],
      "text/plain": [
       "       flights_amount\n",
       "count        8.000000\n",
       "mean      2035.625000\n",
       "std       1965.203947\n",
       "min        300.000000\n",
       "25%        605.250000\n",
       "50%        795.000000\n",
       "75%       4250.250000\n",
       "max       4557.000000"
      ]
     },
     "metadata": {},
     "output_type": "display_data"
    },
    {
     "name": "stdout",
     "output_type": "stream",
     "text": [
      "<class 'pandas.core.frame.DataFrame'>\n",
      "RangeIndex: 8 entries, 0 to 7\n",
      "Data columns (total 2 columns):\n",
      " #   Column          Non-Null Count  Dtype \n",
      "---  ------          --------------  ----- \n",
      " 0   model           8 non-null      object\n",
      " 1   flights_amount  8 non-null      int64 \n",
      "dtypes: int64(1), object(1)\n",
      "memory usage: 256.0+ bytes\n"
     ]
    },
    {
     "data": {
      "text/plain": [
       "None"
      ]
     },
     "metadata": {},
     "output_type": "display_data"
    },
    {
     "name": "stdout",
     "output_type": "stream",
     "text": [
      "\u001b[1mТаблица query_2\n"
     ]
    },
    {
     "data": {
      "text/html": [
       "<div>\n",
       "<style scoped>\n",
       "    .dataframe tbody tr th:only-of-type {\n",
       "        vertical-align: middle;\n",
       "    }\n",
       "\n",
       "    .dataframe tbody tr th {\n",
       "        vertical-align: top;\n",
       "    }\n",
       "\n",
       "    .dataframe thead th {\n",
       "        text-align: right;\n",
       "    }\n",
       "</style>\n",
       "<table border=\"1\" class=\"dataframe\">\n",
       "  <thead>\n",
       "    <tr style=\"text-align: right;\">\n",
       "      <th></th>\n",
       "      <th>city</th>\n",
       "      <th>average_flights</th>\n",
       "    </tr>\n",
       "  </thead>\n",
       "  <tbody>\n",
       "    <tr>\n",
       "      <th>0</th>\n",
       "      <td>Абакан</td>\n",
       "      <td>3.870968</td>\n",
       "    </tr>\n",
       "    <tr>\n",
       "      <th>1</th>\n",
       "      <td>Анадырь</td>\n",
       "      <td>1.000000</td>\n",
       "    </tr>\n",
       "    <tr>\n",
       "      <th>2</th>\n",
       "      <td>Анапа</td>\n",
       "      <td>2.161290</td>\n",
       "    </tr>\n",
       "    <tr>\n",
       "      <th>3</th>\n",
       "      <td>Архангельск</td>\n",
       "      <td>5.354839</td>\n",
       "    </tr>\n",
       "    <tr>\n",
       "      <th>4</th>\n",
       "      <td>Астрахань</td>\n",
       "      <td>2.451613</td>\n",
       "    </tr>\n",
       "    <tr>\n",
       "      <th>...</th>\n",
       "      <td>...</td>\n",
       "      <td>...</td>\n",
       "    </tr>\n",
       "    <tr>\n",
       "      <th>96</th>\n",
       "      <td>Чита</td>\n",
       "      <td>1.580645</td>\n",
       "    </tr>\n",
       "    <tr>\n",
       "      <th>97</th>\n",
       "      <td>Элиста</td>\n",
       "      <td>4.870968</td>\n",
       "    </tr>\n",
       "    <tr>\n",
       "      <th>98</th>\n",
       "      <td>Южно-Сахалинск</td>\n",
       "      <td>4.290323</td>\n",
       "    </tr>\n",
       "    <tr>\n",
       "      <th>99</th>\n",
       "      <td>Якутск</td>\n",
       "      <td>2.741935</td>\n",
       "    </tr>\n",
       "    <tr>\n",
       "      <th>100</th>\n",
       "      <td>Ярославль</td>\n",
       "      <td>1.322581</td>\n",
       "    </tr>\n",
       "  </tbody>\n",
       "</table>\n",
       "<p>101 rows × 2 columns</p>\n",
       "</div>"
      ],
      "text/plain": [
       "               city  average_flights\n",
       "0            Абакан         3.870968\n",
       "1           Анадырь         1.000000\n",
       "2             Анапа         2.161290\n",
       "3       Архангельск         5.354839\n",
       "4         Астрахань         2.451613\n",
       "..              ...              ...\n",
       "96             Чита         1.580645\n",
       "97           Элиста         4.870968\n",
       "98   Южно-Сахалинск         4.290323\n",
       "99           Якутск         2.741935\n",
       "100       Ярославль         1.322581\n",
       "\n",
       "[101 rows x 2 columns]"
      ]
     },
     "metadata": {},
     "output_type": "display_data"
    },
    {
     "name": "stdout",
     "output_type": "stream",
     "text": [
      "\u001b[1mИнформация о таблице query_2\n"
     ]
    },
    {
     "data": {
      "text/html": [
       "<div>\n",
       "<style scoped>\n",
       "    .dataframe tbody tr th:only-of-type {\n",
       "        vertical-align: middle;\n",
       "    }\n",
       "\n",
       "    .dataframe tbody tr th {\n",
       "        vertical-align: top;\n",
       "    }\n",
       "\n",
       "    .dataframe thead th {\n",
       "        text-align: right;\n",
       "    }\n",
       "</style>\n",
       "<table border=\"1\" class=\"dataframe\">\n",
       "  <thead>\n",
       "    <tr style=\"text-align: right;\">\n",
       "      <th></th>\n",
       "      <th>average_flights</th>\n",
       "    </tr>\n",
       "  </thead>\n",
       "  <tbody>\n",
       "    <tr>\n",
       "      <th>count</th>\n",
       "      <td>101.000000</td>\n",
       "    </tr>\n",
       "    <tr>\n",
       "      <th>mean</th>\n",
       "      <td>5.494189</td>\n",
       "    </tr>\n",
       "    <tr>\n",
       "      <th>std</th>\n",
       "      <td>13.119790</td>\n",
       "    </tr>\n",
       "    <tr>\n",
       "      <th>min</th>\n",
       "      <td>1.000000</td>\n",
       "    </tr>\n",
       "    <tr>\n",
       "      <th>25%</th>\n",
       "      <td>2.000000</td>\n",
       "    </tr>\n",
       "    <tr>\n",
       "      <th>50%</th>\n",
       "      <td>3.000000</td>\n",
       "    </tr>\n",
       "    <tr>\n",
       "      <th>75%</th>\n",
       "      <td>5.870968</td>\n",
       "    </tr>\n",
       "    <tr>\n",
       "      <th>max</th>\n",
       "      <td>129.774194</td>\n",
       "    </tr>\n",
       "  </tbody>\n",
       "</table>\n",
       "</div>"
      ],
      "text/plain": [
       "       average_flights\n",
       "count       101.000000\n",
       "mean          5.494189\n",
       "std          13.119790\n",
       "min           1.000000\n",
       "25%           2.000000\n",
       "50%           3.000000\n",
       "75%           5.870968\n",
       "max         129.774194"
      ]
     },
     "metadata": {},
     "output_type": "display_data"
    },
    {
     "name": "stdout",
     "output_type": "stream",
     "text": [
      "<class 'pandas.core.frame.DataFrame'>\n",
      "RangeIndex: 101 entries, 0 to 100\n",
      "Data columns (total 2 columns):\n",
      " #   Column           Non-Null Count  Dtype  \n",
      "---  ------           --------------  -----  \n",
      " 0   city             101 non-null    object \n",
      " 1   average_flights  101 non-null    float64\n",
      "dtypes: float64(1), object(1)\n",
      "memory usage: 1.7+ KB\n"
     ]
    },
    {
     "data": {
      "text/plain": [
       "None"
      ]
     },
     "metadata": {},
     "output_type": "display_data"
    }
   ],
   "source": [
    "# Вывдем таблицу query_1 и информацию о данных \n",
    "\n",
    "print( '\\033[1m' + 'Таблица query_1')\n",
    "display(query_1)\n",
    "print('\\033[1m' + 'Информация о таблице query_1')\n",
    "display(query_1.describe())\n",
    "display(query_1.info())\n",
    "# Вывдем таблицу query_2 и информацию о данных \n",
    "print( '\\033[1m' + 'Таблица query_2')\n",
    "display(query_2)\n",
    "print('\\033[1m' + 'Информация о таблице query_2')\n",
    "display(query_2.describe())\n",
    "display(query_2.info())"
   ]
  },
  {
   "cell_type": "markdown",
   "id": "5be501ec",
   "metadata": {},
   "source": [
    "### Описание данных \n",
    "1. query_1: \n",
    "    * model — модели самолета\n",
    "    * flights_amount — количество рейсов для каждой модели самолетов model в сентябре 2018 года\n",
    "    \n",
    "\n",
    "2. query_2:\n",
    "    * city —  города\n",
    "    * average_flights — среднее количество рейсов, прибывающих в город city за день в августе 2018 года"
   ]
  },
  {
   "cell_type": "markdown",
   "id": "3c290b90",
   "metadata": {},
   "source": [
    "### Вывод :"
   ]
  },
  {
   "cell_type": "markdown",
   "id": "2ba96180",
   "metadata": {},
   "source": [
    "Пустых значений нет. Для дальнейшего анализа и визуализации данных необходимо будет округлить значения в таблице query_2 и перевести формат данных к int. "
   ]
  },
  {
   "cell_type": "markdown",
   "id": "50964518",
   "metadata": {},
   "source": [
    "Выбрать топ-10 городов по количеству рейсов: "
   ]
  },
  {
   "cell_type": "code",
   "execution_count": 4,
   "id": "875a734c",
   "metadata": {},
   "outputs": [
    {
     "data": {
      "text/html": [
       "<div>\n",
       "<style scoped>\n",
       "    .dataframe tbody tr th:only-of-type {\n",
       "        vertical-align: middle;\n",
       "    }\n",
       "\n",
       "    .dataframe tbody tr th {\n",
       "        vertical-align: top;\n",
       "    }\n",
       "\n",
       "    .dataframe thead th {\n",
       "        text-align: right;\n",
       "    }\n",
       "</style>\n",
       "<table border=\"1\" class=\"dataframe\">\n",
       "  <thead>\n",
       "    <tr style=\"text-align: right;\">\n",
       "      <th></th>\n",
       "      <th>city</th>\n",
       "      <th>average_flights</th>\n",
       "    </tr>\n",
       "  </thead>\n",
       "  <tbody>\n",
       "    <tr>\n",
       "      <th>43</th>\n",
       "      <td>Москва</td>\n",
       "      <td>129.774194</td>\n",
       "    </tr>\n",
       "    <tr>\n",
       "      <th>70</th>\n",
       "      <td>Санкт-Петербург</td>\n",
       "      <td>31.161290</td>\n",
       "    </tr>\n",
       "    <tr>\n",
       "      <th>54</th>\n",
       "      <td>Новосибирск</td>\n",
       "      <td>17.322581</td>\n",
       "    </tr>\n",
       "    <tr>\n",
       "      <th>33</th>\n",
       "      <td>Красноярск</td>\n",
       "      <td>11.580645</td>\n",
       "    </tr>\n",
       "    <tr>\n",
       "      <th>20</th>\n",
       "      <td>Екатеринбург</td>\n",
       "      <td>11.322581</td>\n",
       "    </tr>\n",
       "    <tr>\n",
       "      <th>67</th>\n",
       "      <td>Ростов-на-Дону</td>\n",
       "      <td>10.193548</td>\n",
       "    </tr>\n",
       "    <tr>\n",
       "      <th>63</th>\n",
       "      <td>Пермь</td>\n",
       "      <td>10.129032</td>\n",
       "    </tr>\n",
       "    <tr>\n",
       "      <th>10</th>\n",
       "      <td>Брянск</td>\n",
       "      <td>10.000000</td>\n",
       "    </tr>\n",
       "    <tr>\n",
       "      <th>74</th>\n",
       "      <td>Сочи</td>\n",
       "      <td>9.612903</td>\n",
       "    </tr>\n",
       "    <tr>\n",
       "      <th>84</th>\n",
       "      <td>Ульяновск</td>\n",
       "      <td>9.580645</td>\n",
       "    </tr>\n",
       "  </tbody>\n",
       "</table>\n",
       "</div>"
      ],
      "text/plain": [
       "               city  average_flights\n",
       "43           Москва       129.774194\n",
       "70  Санкт-Петербург        31.161290\n",
       "54      Новосибирск        17.322581\n",
       "33       Красноярск        11.580645\n",
       "20     Екатеринбург        11.322581\n",
       "67   Ростов-на-Дону        10.193548\n",
       "63            Пермь        10.129032\n",
       "10           Брянск        10.000000\n",
       "74             Сочи         9.612903\n",
       "84        Ульяновск         9.580645"
      ]
     },
     "execution_count": 4,
     "metadata": {},
     "output_type": "execute_result"
    }
   ],
   "source": [
    "# Для более точного определения ТОП-10 городов не будем приводить формат данных колонки average_flights\n",
    "# Сохраним ТОП-10 в таблице top_10_city\n",
    "top_10_city = query_2.sort_values('average_flights', ascending = False).head(10)\n",
    "top_10_city"
   ]
  },
  {
   "cell_type": "code",
   "execution_count": 5,
   "id": "a5b3d5e7",
   "metadata": {},
   "outputs": [],
   "source": [
    "# Обрабоаем данные в колонке average_flights таблицы query_2\n",
    "query_2['average_flights'] = query_2['average_flights'].round().astype('int')"
   ]
  },
  {
   "cell_type": "markdown",
   "id": "e2a6ccca",
   "metadata": {},
   "source": [
    "Построить график зависимости модели самолетов и количество рейсов, "
   ]
  },
  {
   "cell_type": "code",
   "execution_count": 6,
   "id": "72bce1dc",
   "metadata": {},
   "outputs": [
    {
     "data": {
      "text/plain": [
       "<AxesSubplot:xlabel='model'>"
      ]
     },
     "execution_count": 6,
     "metadata": {},
     "output_type": "execute_result"
    },
    {
     "data": {
      "image/png": "[encoded data removed]",
      "text/plain": [
       "<Figure size 1440x720 with 1 Axes>"
      ]
     },
     "metadata": {
      "needs_background": "light"
     },
     "output_type": "display_data"
    }
   ],
   "source": [
    "query_1.sort_values('flights_amount', ascending = False).plot(y='flights_amount', x='model', kind='bar', \\\n",
    "                                                              grid=1, figsize = (20,10))"
   ]
  },
  {
   "cell_type": "markdown",
   "id": "8d592993",
   "metadata": {},
   "source": [
    "Есть 3 явных лидера по количеству полетов (Cessna, Bombardier, Sukhoi). Остальные модели самолетов имеют примерно одинаковые показатель количества полетов."
   ]
  },
  {
   "cell_type": "markdown",
   "id": "28f30984",
   "metadata": {},
   "source": [
    "Построить график зависимости города и количество рейсов"
   ]
  },
  {
   "cell_type": "code",
   "execution_count": 7,
   "id": "39b5bc97",
   "metadata": {},
   "outputs": [
    {
     "data": {
      "text/plain": [
       "<AxesSubplot:xlabel='city'>"
      ]
     },
     "execution_count": 7,
     "metadata": {},
     "output_type": "execute_result"
    },
    {
     "data": {
      "image/png": "[encoded data removed]",
      "text/plain": [
       "<Figure size 2160x1440 with 1 Axes>"
      ]
     },
     "metadata": {
      "needs_background": "light"
     },
     "output_type": "display_data"
    }
   ],
   "source": [
    "query_2.sort_values('average_flights', ascending = False).plot(y='average_flights', x='city', kind='bar', \\\n",
    "                                                               grid=1, figsize = (30,20))"
   ]
  },
  {
   "cell_type": "markdown",
   "id": "6643df77",
   "metadata": {},
   "source": [
    "Построить график зависимости топ-10 городов и количество рейсов;"
   ]
  },
  {
   "cell_type": "code",
   "execution_count": 8,
   "id": "c68e4101",
   "metadata": {},
   "outputs": [
    {
     "data": {
      "text/plain": [
       "<AxesSubplot:xlabel='city'>"
      ]
     },
     "execution_count": 8,
     "metadata": {},
     "output_type": "execute_result"
    },
    {
     "data": {
      "image/png": "[encoded data removed]",
      "text/plain": [
       "<Figure size 1440x720 with 1 Axes>"
      ]
     },
     "metadata": {
      "needs_background": "light"
     },
     "output_type": "display_data"
    }
   ],
   "source": [
    "top_10_city.plot(y='average_flights', x='city', kind='bar', grid=1, figsize = (20,10))"
   ]
  },
  {
   "cell_type": "markdown",
   "id": "5ba8422b",
   "metadata": {},
   "source": [
    "Значительно опережает остальные города Москва со 130 рейсами в день. На втором месте находится Санкт-Петербург. Остальные города принимают примерно одинаковое количество рейсов день."
   ]
  },
  {
   "cell_type": "markdown",
   "id": "904f5ebb",
   "metadata": {},
   "source": [
    "### Вывод"
   ]
  },
  {
   "cell_type": "markdown",
   "id": "52520329",
   "metadata": {},
   "source": [
    "При анализе и визуализации данных, пришлось округлить данные в \"average_flights\". Cessna, Bombardier и Sukhoi лидируют по количеству рейсов. Москва является лидером по авиоперелетам, а Санкт-Петербург занимает второе место."
   ]
  }
 ],
 "metadata": {
  "kernelspec": {
   "display_name": "Python 3 (ipykernel)",
   "language": "python",
   "name": "python3"
  },
  "language_info": {
   "codemirror_mode": {
    "name": "ipython",
    "version": 3
   },
   "file_extension": ".py",
   "mimetype": "text/x-python",
   "name": "python",
   "nbconvert_exporter": "python",
   "pygments_lexer": "ipython3",
   "version": "3.9.12"
  }
 },
 "nbformat": 4,
 "nbformat_minor": 5
}
