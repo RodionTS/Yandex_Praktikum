{
 "cells": [
  {
   "cell_type": "markdown",
   "id": "260349ba",
   "metadata": {},
   "source": [
    "# Сборный проект. Определение успешности игры. "
   ]
  },
  {
   "cell_type": "markdown",
   "id": "4aa8846a",
   "metadata": {},
   "source": [
    "## Оглавление\n",
    "\n",
    "1. [Задание](#step0)  \n",
    "2. [Шаг 1. Открытие и изучение общей информации файла с данными](#step1)  \n",
    "3. [Шаг 2. Подготовка данных](#step2)\n",
    "4. [Шаг 3. Исследовательский анализ данных](#step3)\n",
    "5. [Шаг 4. Определение пользователя каждого региона](#step4)  \n",
    "6. [Шаг 5. Проверка гипотез](#step5)  \n",
    "7. [Шаг 6. Общие выводы](#step6)  "
   ]
  },
  {
   "cell_type": "markdown",
   "id": "74c3c7a9",
   "metadata": {},
   "source": [
    "### Задание <a id=\"step0\"></a>   \n",
    "Описание проекта\n",
    "\n",
    "Вы работаете в интернет-магазине «Стримчик», который продаёт по всему миру компьютерные игры. Из открытых источников доступны исторические данные о продажах игр, оценки пользователей и экспертов, жанры и платформы (например, Xbox или PlayStation). Вам нужно выявить определяющие успешность игры закономерности. Это позволит сделать ставку на потенциально популярный продукт и спланировать рекламные кампании.\n",
    "\n",
    "Перед вами данные до 2016 года. Представим, что сейчас декабрь 2016 г., и вы планируете кампанию на 2017-й. Нужно отработать принцип работы с данными. Неважно, прогнозируете ли вы продажи на 2017 год по данным 2016-го или же 2027-й — по данным 2026 года.\n"
   ]
  },
  {
   "cell_type": "markdown",
   "id": "0b72cb70",
   "metadata": {},
   "source": [
    "### Шаг 1. Откройте файлы с данными и изучите общую информацию <a id=\"step1\"></a>  "
   ]
  },
  {
   "cell_type": "code",
   "execution_count": 1,
   "id": "6bed2d02",
   "metadata": {},
   "outputs": [],
   "source": [
    "# Импортируем необходимые библиотеки\n",
    "import pandas as pd\n",
    "import seaborn as sns\n",
    "import matplotlib.pyplot as plt\n",
    "import numpy as np\n",
    "import math"
   ]
  },
  {
   "cell_type": "code",
   "execution_count": 2,
   "id": "d1f01f21",
   "metadata": {
    "scrolled": true
   },
   "outputs": [],
   "source": [
    "# Откроем файлы с данными. Данные представлены в 1 таблице с именем 'games.csv'\n",
    "games_data = pd.read_csv('4_project_data\\\\games.csv')"
   ]
  },
  {
   "cell_type": "code",
   "execution_count": 3,
   "id": "5001d97e",
   "metadata": {},
   "outputs": [
    {
     "name": "stdout",
     "output_type": "stream",
     "text": [
      "<class 'pandas.core.frame.DataFrame'>\n",
      "RangeIndex: 16715 entries, 0 to 16714\n",
      "Data columns (total 11 columns):\n",
      " #   Column           Non-Null Count  Dtype  \n",
      "---  ------           --------------  -----  \n",
      " 0   Name             16713 non-null  object \n",
      " 1   Platform         16715 non-null  object \n",
      " 2   Year_of_Release  16446 non-null  float64\n",
      " 3   Genre            16713 non-null  object \n",
      " 4   NA_sales         16715 non-null  float64\n",
      " 5   EU_sales         16715 non-null  float64\n",
      " 6   JP_sales         16715 non-null  float64\n",
      " 7   Other_sales      16715 non-null  float64\n",
      " 8   Critic_Score     8137 non-null   float64\n",
      " 9   User_Score       10014 non-null  object \n",
      " 10  Rating           9949 non-null   object \n",
      "dtypes: float64(6), object(5)\n",
      "memory usage: 1.4+ MB\n"
     ]
    },
    {
     "data": {
      "text/plain": [
       "None"
      ]
     },
     "metadata": {},
     "output_type": "display_data"
    },
    {
     "data": {
      "text/html": [
       "<div>\n",
       "<style scoped>\n",
       "    .dataframe tbody tr th:only-of-type {\n",
       "        vertical-align: middle;\n",
       "    }\n",
       "\n",
       "    .dataframe tbody tr th {\n",
       "        vertical-align: top;\n",
       "    }\n",
       "\n",
       "    .dataframe thead th {\n",
       "        text-align: right;\n",
       "    }\n",
       "</style>\n",
       "<table border=\"1\" class=\"dataframe\">\n",
       "  <thead>\n",
       "    <tr style=\"text-align: right;\">\n",
       "      <th></th>\n",
       "      <th>Name</th>\n",
       "      <th>Platform</th>\n",
       "      <th>Year_of_Release</th>\n",
       "      <th>Genre</th>\n",
       "      <th>NA_sales</th>\n",
       "      <th>EU_sales</th>\n",
       "      <th>JP_sales</th>\n",
       "      <th>Other_sales</th>\n",
       "      <th>Critic_Score</th>\n",
       "      <th>User_Score</th>\n",
       "      <th>Rating</th>\n",
       "    </tr>\n",
       "  </thead>\n",
       "  <tbody>\n",
       "    <tr>\n",
       "      <th>count</th>\n",
       "      <td>16713</td>\n",
       "      <td>16715</td>\n",
       "      <td>16446.000000</td>\n",
       "      <td>16713</td>\n",
       "      <td>16715.000000</td>\n",
       "      <td>16715.000000</td>\n",
       "      <td>16715.000000</td>\n",
       "      <td>16715.000000</td>\n",
       "      <td>8137.000000</td>\n",
       "      <td>10014</td>\n",
       "      <td>9949</td>\n",
       "    </tr>\n",
       "    <tr>\n",
       "      <th>unique</th>\n",
       "      <td>11559</td>\n",
       "      <td>31</td>\n",
       "      <td>NaN</td>\n",
       "      <td>12</td>\n",
       "      <td>NaN</td>\n",
       "      <td>NaN</td>\n",
       "      <td>NaN</td>\n",
       "      <td>NaN</td>\n",
       "      <td>NaN</td>\n",
       "      <td>96</td>\n",
       "      <td>8</td>\n",
       "    </tr>\n",
       "    <tr>\n",
       "      <th>top</th>\n",
       "      <td>Need for Speed: Most Wanted</td>\n",
       "      <td>PS2</td>\n",
       "      <td>NaN</td>\n",
       "      <td>Action</td>\n",
       "      <td>NaN</td>\n",
       "      <td>NaN</td>\n",
       "      <td>NaN</td>\n",
       "      <td>NaN</td>\n",
       "      <td>NaN</td>\n",
       "      <td>tbd</td>\n",
       "      <td>E</td>\n",
       "    </tr>\n",
       "    <tr>\n",
       "      <th>freq</th>\n",
       "      <td>12</td>\n",
       "      <td>2161</td>\n",
       "      <td>NaN</td>\n",
       "      <td>3369</td>\n",
       "      <td>NaN</td>\n",
       "      <td>NaN</td>\n",
       "      <td>NaN</td>\n",
       "      <td>NaN</td>\n",
       "      <td>NaN</td>\n",
       "      <td>2424</td>\n",
       "      <td>3990</td>\n",
       "    </tr>\n",
       "    <tr>\n",
       "      <th>mean</th>\n",
       "      <td>NaN</td>\n",
       "      <td>NaN</td>\n",
       "      <td>2006.484616</td>\n",
       "      <td>NaN</td>\n",
       "      <td>0.263377</td>\n",
       "      <td>0.145060</td>\n",
       "      <td>0.077617</td>\n",
       "      <td>0.047342</td>\n",
       "      <td>68.967679</td>\n",
       "      <td>NaN</td>\n",
       "      <td>NaN</td>\n",
       "    </tr>\n",
       "    <tr>\n",
       "      <th>std</th>\n",
       "      <td>NaN</td>\n",
       "      <td>NaN</td>\n",
       "      <td>5.877050</td>\n",
       "      <td>NaN</td>\n",
       "      <td>0.813604</td>\n",
       "      <td>0.503339</td>\n",
       "      <td>0.308853</td>\n",
       "      <td>0.186731</td>\n",
       "      <td>13.938165</td>\n",
       "      <td>NaN</td>\n",
       "      <td>NaN</td>\n",
       "    </tr>\n",
       "    <tr>\n",
       "      <th>min</th>\n",
       "      <td>NaN</td>\n",
       "      <td>NaN</td>\n",
       "      <td>1980.000000</td>\n",
       "      <td>NaN</td>\n",
       "      <td>0.000000</td>\n",
       "      <td>0.000000</td>\n",
       "      <td>0.000000</td>\n",
       "      <td>0.000000</td>\n",
       "      <td>13.000000</td>\n",
       "      <td>NaN</td>\n",
       "      <td>NaN</td>\n",
       "    </tr>\n",
       "    <tr>\n",
       "      <th>25%</th>\n",
       "      <td>NaN</td>\n",
       "      <td>NaN</td>\n",
       "      <td>2003.000000</td>\n",
       "      <td>NaN</td>\n",
       "      <td>0.000000</td>\n",
       "      <td>0.000000</td>\n",
       "      <td>0.000000</td>\n",
       "      <td>0.000000</td>\n",
       "      <td>60.000000</td>\n",
       "      <td>NaN</td>\n",
       "      <td>NaN</td>\n",
       "    </tr>\n",
       "    <tr>\n",
       "      <th>50%</th>\n",
       "      <td>NaN</td>\n",
       "      <td>NaN</td>\n",
       "      <td>2007.000000</td>\n",
       "      <td>NaN</td>\n",
       "      <td>0.080000</td>\n",
       "      <td>0.020000</td>\n",
       "      <td>0.000000</td>\n",
       "      <td>0.010000</td>\n",
       "      <td>71.000000</td>\n",
       "      <td>NaN</td>\n",
       "      <td>NaN</td>\n",
       "    </tr>\n",
       "    <tr>\n",
       "      <th>75%</th>\n",
       "      <td>NaN</td>\n",
       "      <td>NaN</td>\n",
       "      <td>2010.000000</td>\n",
       "      <td>NaN</td>\n",
       "      <td>0.240000</td>\n",
       "      <td>0.110000</td>\n",
       "      <td>0.040000</td>\n",
       "      <td>0.030000</td>\n",
       "      <td>79.000000</td>\n",
       "      <td>NaN</td>\n",
       "      <td>NaN</td>\n",
       "    </tr>\n",
       "    <tr>\n",
       "      <th>max</th>\n",
       "      <td>NaN</td>\n",
       "      <td>NaN</td>\n",
       "      <td>2016.000000</td>\n",
       "      <td>NaN</td>\n",
       "      <td>41.360000</td>\n",
       "      <td>28.960000</td>\n",
       "      <td>10.220000</td>\n",
       "      <td>10.570000</td>\n",
       "      <td>98.000000</td>\n",
       "      <td>NaN</td>\n",
       "      <td>NaN</td>\n",
       "    </tr>\n",
       "  </tbody>\n",
       "</table>\n",
       "</div>"
      ],
      "text/plain": [
       "                               Name Platform  Year_of_Release   Genre  \\\n",
       "count                         16713    16715     16446.000000   16713   \n",
       "unique                        11559       31              NaN      12   \n",
       "top     Need for Speed: Most Wanted      PS2              NaN  Action   \n",
       "freq                             12     2161              NaN    3369   \n",
       "mean                            NaN      NaN      2006.484616     NaN   \n",
       "std                             NaN      NaN         5.877050     NaN   \n",
       "min                             NaN      NaN      1980.000000     NaN   \n",
       "25%                             NaN      NaN      2003.000000     NaN   \n",
       "50%                             NaN      NaN      2007.000000     NaN   \n",
       "75%                             NaN      NaN      2010.000000     NaN   \n",
       "max                             NaN      NaN      2016.000000     NaN   \n",
       "\n",
       "            NA_sales      EU_sales      JP_sales   Other_sales  Critic_Score  \\\n",
       "count   16715.000000  16715.000000  16715.000000  16715.000000   8137.000000   \n",
       "unique           NaN           NaN           NaN           NaN           NaN   \n",
       "top              NaN           NaN           NaN           NaN           NaN   \n",
       "freq             NaN           NaN           NaN           NaN           NaN   \n",
       "mean        0.263377      0.145060      0.077617      0.047342     68.967679   \n",
       "std         0.813604      0.503339      0.308853      0.186731     13.938165   \n",
       "min         0.000000      0.000000      0.000000      0.000000     13.000000   \n",
       "25%         0.000000      0.000000      0.000000      0.000000     60.000000   \n",
       "50%         0.080000      0.020000      0.000000      0.010000     71.000000   \n",
       "75%         0.240000      0.110000      0.040000      0.030000     79.000000   \n",
       "max        41.360000     28.960000     10.220000     10.570000     98.000000   \n",
       "\n",
       "       User_Score Rating  \n",
       "count       10014   9949  \n",
       "unique         96      8  \n",
       "top           tbd      E  \n",
       "freq         2424   3990  \n",
       "mean          NaN    NaN  \n",
       "std           NaN    NaN  \n",
       "min           NaN    NaN  \n",
       "25%           NaN    NaN  \n",
       "50%           NaN    NaN  \n",
       "75%           NaN    NaN  \n",
       "max           NaN    NaN  "
      ]
     },
     "metadata": {},
     "output_type": "display_data"
    },
    {
     "data": {
      "text/html": [
       "<div>\n",
       "<style scoped>\n",
       "    .dataframe tbody tr th:only-of-type {\n",
       "        vertical-align: middle;\n",
       "    }\n",
       "\n",
       "    .dataframe tbody tr th {\n",
       "        vertical-align: top;\n",
       "    }\n",
       "\n",
       "    .dataframe thead th {\n",
       "        text-align: right;\n",
       "    }\n",
       "</style>\n",
       "<table border=\"1\" class=\"dataframe\">\n",
       "  <thead>\n",
       "    <tr style=\"text-align: right;\">\n",
       "      <th></th>\n",
       "      <th>Name</th>\n",
       "      <th>Platform</th>\n",
       "      <th>Year_of_Release</th>\n",
       "      <th>Genre</th>\n",
       "      <th>NA_sales</th>\n",
       "      <th>EU_sales</th>\n",
       "      <th>JP_sales</th>\n",
       "      <th>Other_sales</th>\n",
       "      <th>Critic_Score</th>\n",
       "      <th>User_Score</th>\n",
       "      <th>Rating</th>\n",
       "    </tr>\n",
       "  </thead>\n",
       "  <tbody>\n",
       "    <tr>\n",
       "      <th>0</th>\n",
       "      <td>Wii Sports</td>\n",
       "      <td>Wii</td>\n",
       "      <td>2006.0</td>\n",
       "      <td>Sports</td>\n",
       "      <td>41.36</td>\n",
       "      <td>28.96</td>\n",
       "      <td>3.77</td>\n",
       "      <td>8.45</td>\n",
       "      <td>76.0</td>\n",
       "      <td>8</td>\n",
       "      <td>E</td>\n",
       "    </tr>\n",
       "    <tr>\n",
       "      <th>1</th>\n",
       "      <td>Super Mario Bros.</td>\n",
       "      <td>NES</td>\n",
       "      <td>1985.0</td>\n",
       "      <td>Platform</td>\n",
       "      <td>29.08</td>\n",
       "      <td>3.58</td>\n",
       "      <td>6.81</td>\n",
       "      <td>0.77</td>\n",
       "      <td>NaN</td>\n",
       "      <td>NaN</td>\n",
       "      <td>NaN</td>\n",
       "    </tr>\n",
       "    <tr>\n",
       "      <th>2</th>\n",
       "      <td>Mario Kart Wii</td>\n",
       "      <td>Wii</td>\n",
       "      <td>2008.0</td>\n",
       "      <td>Racing</td>\n",
       "      <td>15.68</td>\n",
       "      <td>12.76</td>\n",
       "      <td>3.79</td>\n",
       "      <td>3.29</td>\n",
       "      <td>82.0</td>\n",
       "      <td>8.3</td>\n",
       "      <td>E</td>\n",
       "    </tr>\n",
       "    <tr>\n",
       "      <th>3</th>\n",
       "      <td>Wii Sports Resort</td>\n",
       "      <td>Wii</td>\n",
       "      <td>2009.0</td>\n",
       "      <td>Sports</td>\n",
       "      <td>15.61</td>\n",
       "      <td>10.93</td>\n",
       "      <td>3.28</td>\n",
       "      <td>2.95</td>\n",
       "      <td>80.0</td>\n",
       "      <td>8</td>\n",
       "      <td>E</td>\n",
       "    </tr>\n",
       "    <tr>\n",
       "      <th>4</th>\n",
       "      <td>Pokemon Red/Pokemon Blue</td>\n",
       "      <td>GB</td>\n",
       "      <td>1996.0</td>\n",
       "      <td>Role-Playing</td>\n",
       "      <td>11.27</td>\n",
       "      <td>8.89</td>\n",
       "      <td>10.22</td>\n",
       "      <td>1.00</td>\n",
       "      <td>NaN</td>\n",
       "      <td>NaN</td>\n",
       "      <td>NaN</td>\n",
       "    </tr>\n",
       "    <tr>\n",
       "      <th>...</th>\n",
       "      <td>...</td>\n",
       "      <td>...</td>\n",
       "      <td>...</td>\n",
       "      <td>...</td>\n",
       "      <td>...</td>\n",
       "      <td>...</td>\n",
       "      <td>...</td>\n",
       "      <td>...</td>\n",
       "      <td>...</td>\n",
       "      <td>...</td>\n",
       "      <td>...</td>\n",
       "    </tr>\n",
       "    <tr>\n",
       "      <th>16710</th>\n",
       "      <td>Samurai Warriors: Sanada Maru</td>\n",
       "      <td>PS3</td>\n",
       "      <td>2016.0</td>\n",
       "      <td>Action</td>\n",
       "      <td>0.00</td>\n",
       "      <td>0.00</td>\n",
       "      <td>0.01</td>\n",
       "      <td>0.00</td>\n",
       "      <td>NaN</td>\n",
       "      <td>NaN</td>\n",
       "      <td>NaN</td>\n",
       "    </tr>\n",
       "    <tr>\n",
       "      <th>16711</th>\n",
       "      <td>LMA Manager 2007</td>\n",
       "      <td>X360</td>\n",
       "      <td>2006.0</td>\n",
       "      <td>Sports</td>\n",
       "      <td>0.00</td>\n",
       "      <td>0.01</td>\n",
       "      <td>0.00</td>\n",
       "      <td>0.00</td>\n",
       "      <td>NaN</td>\n",
       "      <td>NaN</td>\n",
       "      <td>NaN</td>\n",
       "    </tr>\n",
       "    <tr>\n",
       "      <th>16712</th>\n",
       "      <td>Haitaka no Psychedelica</td>\n",
       "      <td>PSV</td>\n",
       "      <td>2016.0</td>\n",
       "      <td>Adventure</td>\n",
       "      <td>0.00</td>\n",
       "      <td>0.00</td>\n",
       "      <td>0.01</td>\n",
       "      <td>0.00</td>\n",
       "      <td>NaN</td>\n",
       "      <td>NaN</td>\n",
       "      <td>NaN</td>\n",
       "    </tr>\n",
       "    <tr>\n",
       "      <th>16713</th>\n",
       "      <td>Spirits &amp; Spells</td>\n",
       "      <td>GBA</td>\n",
       "      <td>2003.0</td>\n",
       "      <td>Platform</td>\n",
       "      <td>0.01</td>\n",
       "      <td>0.00</td>\n",
       "      <td>0.00</td>\n",
       "      <td>0.00</td>\n",
       "      <td>NaN</td>\n",
       "      <td>NaN</td>\n",
       "      <td>NaN</td>\n",
       "    </tr>\n",
       "    <tr>\n",
       "      <th>16714</th>\n",
       "      <td>Winning Post 8 2016</td>\n",
       "      <td>PSV</td>\n",
       "      <td>2016.0</td>\n",
       "      <td>Simulation</td>\n",
       "      <td>0.00</td>\n",
       "      <td>0.00</td>\n",
       "      <td>0.01</td>\n",
       "      <td>0.00</td>\n",
       "      <td>NaN</td>\n",
       "      <td>NaN</td>\n",
       "      <td>NaN</td>\n",
       "    </tr>\n",
       "  </tbody>\n",
       "</table>\n",
       "<p>16715 rows × 11 columns</p>\n",
       "</div>"
      ],
      "text/plain": [
       "                                Name Platform  Year_of_Release         Genre  \\\n",
       "0                         Wii Sports      Wii           2006.0        Sports   \n",
       "1                  Super Mario Bros.      NES           1985.0      Platform   \n",
       "2                     Mario Kart Wii      Wii           2008.0        Racing   \n",
       "3                  Wii Sports Resort      Wii           2009.0        Sports   \n",
       "4           Pokemon Red/Pokemon Blue       GB           1996.0  Role-Playing   \n",
       "...                              ...      ...              ...           ...   \n",
       "16710  Samurai Warriors: Sanada Maru      PS3           2016.0        Action   \n",
       "16711               LMA Manager 2007     X360           2006.0        Sports   \n",
       "16712        Haitaka no Psychedelica      PSV           2016.0     Adventure   \n",
       "16713               Spirits & Spells      GBA           2003.0      Platform   \n",
       "16714            Winning Post 8 2016      PSV           2016.0    Simulation   \n",
       "\n",
       "       NA_sales  EU_sales  JP_sales  Other_sales  Critic_Score User_Score  \\\n",
       "0         41.36     28.96      3.77         8.45          76.0          8   \n",
       "1         29.08      3.58      6.81         0.77           NaN        NaN   \n",
       "2         15.68     12.76      3.79         3.29          82.0        8.3   \n",
       "3         15.61     10.93      3.28         2.95          80.0          8   \n",
       "4         11.27      8.89     10.22         1.00           NaN        NaN   \n",
       "...         ...       ...       ...          ...           ...        ...   \n",
       "16710      0.00      0.00      0.01         0.00           NaN        NaN   \n",
       "16711      0.00      0.01      0.00         0.00           NaN        NaN   \n",
       "16712      0.00      0.00      0.01         0.00           NaN        NaN   \n",
       "16713      0.01      0.00      0.00         0.00           NaN        NaN   \n",
       "16714      0.00      0.00      0.01         0.00           NaN        NaN   \n",
       "\n",
       "      Rating  \n",
       "0          E  \n",
       "1        NaN  \n",
       "2          E  \n",
       "3          E  \n",
       "4        NaN  \n",
       "...      ...  \n",
       "16710    NaN  \n",
       "16711    NaN  \n",
       "16712    NaN  \n",
       "16713    NaN  \n",
       "16714    NaN  \n",
       "\n",
       "[16715 rows x 11 columns]"
      ]
     },
     "metadata": {},
     "output_type": "display_data"
    }
   ],
   "source": [
    "# Добавляем новую библиотеку и метод\n",
    "from IPython.display import display\n",
    "# Изучение вида и формата массива данных\n",
    "\n",
    "display(games_data.info())\n",
    "display(games_data.describe(include='all'))\n",
    "display(games_data)"
   ]
  },
  {
   "cell_type": "markdown",
   "id": "3da4dc4a",
   "metadata": {},
   "source": [
    "### Описание данных:"
   ]
  },
  {
   "cell_type": "raw",
   "id": "7561ec1f",
   "metadata": {},
   "source": [
    "    Name — название игры\n",
    "    Platform — платформа\n",
    "    Year_of_Release — год выпуска\n",
    "    Genre — жанр игры\n",
    "    NA_sales — продажи в Северной Америке (миллионы проданных копий)\n",
    "    EU_sales — продажи в Европе (миллионы проданных копий)\n",
    "    JP_sales — продажи в Японии (миллионы проданных копий)\n",
    "    Other_sales — продажи в других странах (миллионы проданных копий)\n",
    "    Critic_Score — оценка критиков (максимум 100)\n",
    "    User_Score — оценка пользователей (максимум 10)\n",
    "    Rating — рейтинг от организации ESRB (англ. Entertainment Software Rating Board). Эта ассоциация определяет рейтинг             компьютерных игр и присваивает им подходящую возрастную категорию."
   ]
  },
  {
   "cell_type": "markdown",
   "id": "93c362a5",
   "metadata": {},
   "source": [
    "### Вывод"
   ]
  },
  {
   "cell_type": "markdown",
   "id": "759d8c37",
   "metadata": {},
   "source": [
    "Данные нуждаются в подготовке для полноценной работы с ними. Есть пустые значения в важных колонках (Name, Year_of_Release, Genre). Формат данных отдельных значений следует изменить с float на int для более удобного анализа, а это значит что необходимо провести предобработку данных для дальнейшего анализа."
   ]
  },
  {
   "cell_type": "markdown",
   "id": "1d769c3f",
   "metadata": {},
   "source": [
    "### Шаг 2. Подготовка данных <a id=\"step2\"></a>  \n"
   ]
  },
  {
   "cell_type": "markdown",
   "id": "0034dc6d",
   "metadata": {},
   "source": [
    "#### Задание :\n",
    "* Замените названия столбцов (приведите к нижнему регистру);\n",
    "* Преобразуйте данные в нужные типы. Опишите, в каких столбцах заменили тип данных и почему;\n",
    "* Обработайте пропуски при необходимости:\n",
    "    + Объясните, почему заполнили пропуски определённым образом или почему не стали это делать;\n",
    "    + Опишите причины, которые могли привести к пропускам;\n",
    "    + Обратите внимание на аббревиатуру 'tbd' в столбцах с рейтингом. Отдельно разберите это значение и опишите, как его обработать;\n",
    "* Посчитайте суммарные продажи во всех регионах и запишите их в отдельный столбец."
   ]
  },
  {
   "cell_type": "code",
   "execution_count": 4,
   "id": "1536ab96",
   "metadata": {},
   "outputs": [],
   "source": [
    "# Приведем название столбцов к нижнему регистру\n",
    "games_data.columns = games_data.columns.str.lower()"
   ]
  },
  {
   "cell_type": "code",
   "execution_count": 5,
   "id": "28d06f8f",
   "metadata": {},
   "outputs": [
    {
     "name": "stdout",
     "output_type": "stream",
     "text": [
      "пропусков в столбце name : 2\n",
      "пропусков в столбце platform : 0\n",
      "пропусков в столбце year_of_release : 269\n",
      "пропусков в столбце genre : 2\n",
      "пропусков в столбце na_sales : 0\n",
      "пропусков в столбце eu_sales : 0\n",
      "пропусков в столбце jp_sales : 0\n",
      "пропусков в столбце other_sales : 0\n",
      "пропусков в столбце critic_score : 8578\n",
      "пропусков в столбце user_score : 6701\n",
      "пропусков в столбце rating : 6766\n"
     ]
    }
   ],
   "source": [
    "# Избавимся от пропуско данных в колонках. Для этого выведем данные о количестве пропусков в таблице.\n",
    "for column in games_data.columns:\n",
    "    print('пропусков в столбце', column, ':', games_data[column].isna().sum())"
   ]
  },
  {
   "cell_type": "markdown",
   "id": "93b531c4",
   "metadata": {},
   "source": [
    "Видим, что количество пустых значений в колонках name, year_of_release и genre не велико, по-этому их удаление не повлияет на конечные выводы. Количество пустых значений в колонках critic_score, user_score, rating велико, по-этому их удаление, либо заполнение мединным или иным значением существенно повлияет на последующие вычисления  и выводы по данным."
   ]
  },
  {
   "cell_type": "code",
   "execution_count": 6,
   "id": "6219ceab",
   "metadata": {
    "scrolled": false
   },
   "outputs": [
    {
     "data": {
      "text/plain": [
       "0"
      ]
     },
     "execution_count": 6,
     "metadata": {},
     "output_type": "execute_result"
    }
   ],
   "source": [
    "# Проверим на наличие полных дубликатов. \n",
    "games_data.duplicated().sum()"
   ]
  },
  {
   "cell_type": "markdown",
   "id": "de87c4ae",
   "metadata": {},
   "source": [
    "Результат 0 - указывает на отсутствие дубликатов. "
   ]
  },
  {
   "cell_type": "code",
   "execution_count": 7,
   "id": "aec6ee7d",
   "metadata": {},
   "outputs": [],
   "source": [
    "# Удалим пропуски в колонках name, year_of_release и genre\n",
    "for column in ['name', 'year_of_release', 'genre']:\n",
    "    games_data = games_data[games_data[column].isna() == False]"
   ]
  },
  {
   "cell_type": "code",
   "execution_count": 8,
   "id": "f2381988",
   "metadata": {},
   "outputs": [],
   "source": [
    "# Переводим данные из float в int\n",
    "for column in ['year_of_release']:\n",
    "    games_data[column]=games_data[column].astype('int')"
   ]
  },
  {
   "cell_type": "markdown",
   "id": "bee88ba8",
   "metadata": {},
   "source": [
    "Преобразован формат данных в колонке 'year_of_release' в 'int'. Остальные колонки не требуют сейчас преобразования. Колонки с продажами должны оставаться в формате 'float', чтобы не потерять часть продаж. А колонки с оценками критиков и пользователей будут изменены в следующих частях работы."
   ]
  },
  {
   "cell_type": "markdown",
   "id": "89edd190",
   "metadata": {},
   "source": [
    "Значение **\"tbd\"** встречается в колонке user_score, оно означает \"to be determined\", то есть оценка еще не высталена. Удалим данные значения из таблицы для упращения дальнейшей обработки."
   ]
  },
  {
   "cell_type": "code",
   "execution_count": 9,
   "id": "08939da2",
   "metadata": {},
   "outputs": [],
   "source": [
    "games_data = games_data[games_data.user_score != 'tbd']"
   ]
  },
  {
   "cell_type": "code",
   "execution_count": 10,
   "id": "ce4dd529",
   "metadata": {},
   "outputs": [
    {
     "data": {
      "text/html": [
       "<div>\n",
       "<style scoped>\n",
       "    .dataframe tbody tr th:only-of-type {\n",
       "        vertical-align: middle;\n",
       "    }\n",
       "\n",
       "    .dataframe tbody tr th {\n",
       "        vertical-align: top;\n",
       "    }\n",
       "\n",
       "    .dataframe thead th {\n",
       "        text-align: right;\n",
       "    }\n",
       "</style>\n",
       "<table border=\"1\" class=\"dataframe\">\n",
       "  <thead>\n",
       "    <tr style=\"text-align: right;\">\n",
       "      <th></th>\n",
       "      <th>name</th>\n",
       "      <th>platform</th>\n",
       "      <th>year_of_release</th>\n",
       "      <th>genre</th>\n",
       "      <th>na_sales</th>\n",
       "      <th>eu_sales</th>\n",
       "      <th>jp_sales</th>\n",
       "      <th>other_sales</th>\n",
       "      <th>critic_score</th>\n",
       "      <th>user_score</th>\n",
       "      <th>rating</th>\n",
       "      <th>total_sales</th>\n",
       "    </tr>\n",
       "  </thead>\n",
       "  <tbody>\n",
       "    <tr>\n",
       "      <th>0</th>\n",
       "      <td>Wii Sports</td>\n",
       "      <td>Wii</td>\n",
       "      <td>2006</td>\n",
       "      <td>Sports</td>\n",
       "      <td>41.36</td>\n",
       "      <td>28.96</td>\n",
       "      <td>3.77</td>\n",
       "      <td>8.45</td>\n",
       "      <td>76.0</td>\n",
       "      <td>8</td>\n",
       "      <td>E</td>\n",
       "      <td>82.54</td>\n",
       "    </tr>\n",
       "    <tr>\n",
       "      <th>1</th>\n",
       "      <td>Super Mario Bros.</td>\n",
       "      <td>NES</td>\n",
       "      <td>1985</td>\n",
       "      <td>Platform</td>\n",
       "      <td>29.08</td>\n",
       "      <td>3.58</td>\n",
       "      <td>6.81</td>\n",
       "      <td>0.77</td>\n",
       "      <td>NaN</td>\n",
       "      <td>NaN</td>\n",
       "      <td>NaN</td>\n",
       "      <td>40.24</td>\n",
       "    </tr>\n",
       "    <tr>\n",
       "      <th>2</th>\n",
       "      <td>Mario Kart Wii</td>\n",
       "      <td>Wii</td>\n",
       "      <td>2008</td>\n",
       "      <td>Racing</td>\n",
       "      <td>15.68</td>\n",
       "      <td>12.76</td>\n",
       "      <td>3.79</td>\n",
       "      <td>3.29</td>\n",
       "      <td>82.0</td>\n",
       "      <td>8.3</td>\n",
       "      <td>E</td>\n",
       "      <td>35.52</td>\n",
       "    </tr>\n",
       "    <tr>\n",
       "      <th>3</th>\n",
       "      <td>Wii Sports Resort</td>\n",
       "      <td>Wii</td>\n",
       "      <td>2009</td>\n",
       "      <td>Sports</td>\n",
       "      <td>15.61</td>\n",
       "      <td>10.93</td>\n",
       "      <td>3.28</td>\n",
       "      <td>2.95</td>\n",
       "      <td>80.0</td>\n",
       "      <td>8</td>\n",
       "      <td>E</td>\n",
       "      <td>32.77</td>\n",
       "    </tr>\n",
       "    <tr>\n",
       "      <th>4</th>\n",
       "      <td>Pokemon Red/Pokemon Blue</td>\n",
       "      <td>GB</td>\n",
       "      <td>1996</td>\n",
       "      <td>Role-Playing</td>\n",
       "      <td>11.27</td>\n",
       "      <td>8.89</td>\n",
       "      <td>10.22</td>\n",
       "      <td>1.00</td>\n",
       "      <td>NaN</td>\n",
       "      <td>NaN</td>\n",
       "      <td>NaN</td>\n",
       "      <td>31.38</td>\n",
       "    </tr>\n",
       "    <tr>\n",
       "      <th>5</th>\n",
       "      <td>Tetris</td>\n",
       "      <td>GB</td>\n",
       "      <td>1989</td>\n",
       "      <td>Puzzle</td>\n",
       "      <td>23.20</td>\n",
       "      <td>2.26</td>\n",
       "      <td>4.22</td>\n",
       "      <td>0.58</td>\n",
       "      <td>NaN</td>\n",
       "      <td>NaN</td>\n",
       "      <td>NaN</td>\n",
       "      <td>30.26</td>\n",
       "    </tr>\n",
       "    <tr>\n",
       "      <th>6</th>\n",
       "      <td>New Super Mario Bros.</td>\n",
       "      <td>DS</td>\n",
       "      <td>2006</td>\n",
       "      <td>Platform</td>\n",
       "      <td>11.28</td>\n",
       "      <td>9.14</td>\n",
       "      <td>6.50</td>\n",
       "      <td>2.88</td>\n",
       "      <td>89.0</td>\n",
       "      <td>8.5</td>\n",
       "      <td>E</td>\n",
       "      <td>29.80</td>\n",
       "    </tr>\n",
       "    <tr>\n",
       "      <th>7</th>\n",
       "      <td>Wii Play</td>\n",
       "      <td>Wii</td>\n",
       "      <td>2006</td>\n",
       "      <td>Misc</td>\n",
       "      <td>13.96</td>\n",
       "      <td>9.18</td>\n",
       "      <td>2.93</td>\n",
       "      <td>2.84</td>\n",
       "      <td>58.0</td>\n",
       "      <td>6.6</td>\n",
       "      <td>E</td>\n",
       "      <td>28.91</td>\n",
       "    </tr>\n",
       "    <tr>\n",
       "      <th>8</th>\n",
       "      <td>New Super Mario Bros. Wii</td>\n",
       "      <td>Wii</td>\n",
       "      <td>2009</td>\n",
       "      <td>Platform</td>\n",
       "      <td>14.44</td>\n",
       "      <td>6.94</td>\n",
       "      <td>4.70</td>\n",
       "      <td>2.24</td>\n",
       "      <td>87.0</td>\n",
       "      <td>8.4</td>\n",
       "      <td>E</td>\n",
       "      <td>28.32</td>\n",
       "    </tr>\n",
       "    <tr>\n",
       "      <th>9</th>\n",
       "      <td>Duck Hunt</td>\n",
       "      <td>NES</td>\n",
       "      <td>1984</td>\n",
       "      <td>Shooter</td>\n",
       "      <td>26.93</td>\n",
       "      <td>0.63</td>\n",
       "      <td>0.28</td>\n",
       "      <td>0.47</td>\n",
       "      <td>NaN</td>\n",
       "      <td>NaN</td>\n",
       "      <td>NaN</td>\n",
       "      <td>28.31</td>\n",
       "    </tr>\n",
       "  </tbody>\n",
       "</table>\n",
       "</div>"
      ],
      "text/plain": [
       "                        name platform  year_of_release         genre  \\\n",
       "0                 Wii Sports      Wii             2006        Sports   \n",
       "1          Super Mario Bros.      NES             1985      Platform   \n",
       "2             Mario Kart Wii      Wii             2008        Racing   \n",
       "3          Wii Sports Resort      Wii             2009        Sports   \n",
       "4   Pokemon Red/Pokemon Blue       GB             1996  Role-Playing   \n",
       "5                     Tetris       GB             1989        Puzzle   \n",
       "6      New Super Mario Bros.       DS             2006      Platform   \n",
       "7                   Wii Play      Wii             2006          Misc   \n",
       "8  New Super Mario Bros. Wii      Wii             2009      Platform   \n",
       "9                  Duck Hunt      NES             1984       Shooter   \n",
       "\n",
       "   na_sales  eu_sales  jp_sales  other_sales  critic_score user_score rating  \\\n",
       "0     41.36     28.96      3.77         8.45          76.0          8      E   \n",
       "1     29.08      3.58      6.81         0.77           NaN        NaN    NaN   \n",
       "2     15.68     12.76      3.79         3.29          82.0        8.3      E   \n",
       "3     15.61     10.93      3.28         2.95          80.0          8      E   \n",
       "4     11.27      8.89     10.22         1.00           NaN        NaN    NaN   \n",
       "5     23.20      2.26      4.22         0.58           NaN        NaN    NaN   \n",
       "6     11.28      9.14      6.50         2.88          89.0        8.5      E   \n",
       "7     13.96      9.18      2.93         2.84          58.0        6.6      E   \n",
       "8     14.44      6.94      4.70         2.24          87.0        8.4      E   \n",
       "9     26.93      0.63      0.28         0.47           NaN        NaN    NaN   \n",
       "\n",
       "   total_sales  \n",
       "0        82.54  \n",
       "1        40.24  \n",
       "2        35.52  \n",
       "3        32.77  \n",
       "4        31.38  \n",
       "5        30.26  \n",
       "6        29.80  \n",
       "7        28.91  \n",
       "8        28.32  \n",
       "9        28.31  "
      ]
     },
     "execution_count": 10,
     "metadata": {},
     "output_type": "execute_result"
    }
   ],
   "source": [
    "# Посчитаем суммарные продажи во всех регионах и добавим в колонку total_sales\n",
    "games_data['total_sales'] = games_data.na_sales + games_data.eu_sales + games_data.jp_sales + games_data.other_sales\n",
    "# Выведем получившуюся таблицу на экран\n",
    "games_data.head(10)"
   ]
  },
  {
   "cell_type": "markdown",
   "id": "934a6673",
   "metadata": {},
   "source": [
    "После 2 шага из данных частично были убраны пустые значения, изменен формат записи данных с информацией года выпуска игр и добавлена инфомарция по полным продажам каждой игры."
   ]
  },
  {
   "cell_type": "code",
   "execution_count": 11,
   "id": "69dbbeb1",
   "metadata": {},
   "outputs": [],
   "source": [
    "# Изменим тип данных колонок user_score на float\n",
    "games_data.user_score = games_data.user_score.astype(float)"
   ]
  },
  {
   "cell_type": "markdown",
   "id": "99aa7e07",
   "metadata": {},
   "source": [
    "### Вывод"
   ]
  },
  {
   "cell_type": "markdown",
   "id": "71b48370",
   "metadata": {},
   "source": [
    "Из данных были частично убраны пустые значения, изменен формат записи данных с информацией года выпуска игр и добавлена инфомарция по полным продажам каждой игры."
   ]
  },
  {
   "cell_type": "markdown",
   "id": "e0840226",
   "metadata": {},
   "source": [
    "### Шаг 3. Исследовательский анализ данных <a id=\"step3\"> </a>"
   ]
  },
  {
   "cell_type": "markdown",
   "id": "67ee02f2",
   "metadata": {},
   "source": [
    "#### Задание : \n",
    "* Посмотрите, сколько игр выпускалось в разные годы. Важны ли данные за все периоды?\n",
    "* Посмотрите, как менялись продажи по платформам. Выберите платформы с наибольшими суммарными продажами и постройте распределение по годам. За какой характерный срок появляются новые и исчезают старые платформы?\n",
    "* Возьмите данные за соответствующий актуальный период. Актуальный период определите самостоятельно в результате исследования предыдущих вопросов. Основной фактор — эти данные помогут построить прогноз на 2017 год.\n",
    "* Не учитывайте в работе данные за предыдущие годы.\n",
    "* Какие платформы лидируют по продажам, растут или падают? Выберите несколько потенциально прибыльных платформ.\n",
    "* Постройте график «ящик с усами» по глобальным продажам игр в разбивке по платформам. Опишите результат.\n",
    "* Посмотрите, как влияют на продажи внутри одной популярной платформы отзывы пользователей и критиков. Постройте диаграмму рассеяния и посчитайте корреляцию между отзывами и продажами. Сформулируйте выводы.\n",
    "* Соотнесите выводы с продажами игр на других платформах.\n",
    "* Посмотрите на общее распределение игр по жанрам. Что можно сказать о самых прибыльных жанрах? Выделяются ли жанры с высокими и низкими продажами?"
   ]
  },
  {
   "cell_type": "markdown",
   "id": "ac3e29e9",
   "metadata": {},
   "source": [
    "* Посмотрите, сколько игр выпускалось в разные годы. Важны ли данные за все периоды?"
   ]
  },
  {
   "cell_type": "code",
   "execution_count": 12,
   "id": "9b60906e",
   "metadata": {},
   "outputs": [
    {
     "data": {
      "text/html": [
       "<div>\n",
       "<style scoped>\n",
       "    .dataframe tbody tr th:only-of-type {\n",
       "        vertical-align: middle;\n",
       "    }\n",
       "\n",
       "    .dataframe tbody tr th {\n",
       "        vertical-align: top;\n",
       "    }\n",
       "\n",
       "    .dataframe thead th {\n",
       "        text-align: right;\n",
       "    }\n",
       "</style>\n",
       "<table border=\"1\" class=\"dataframe\">\n",
       "  <thead>\n",
       "    <tr style=\"text-align: right;\">\n",
       "      <th></th>\n",
       "      <th>amount</th>\n",
       "    </tr>\n",
       "    <tr>\n",
       "      <th>year_of_release</th>\n",
       "      <th></th>\n",
       "    </tr>\n",
       "  </thead>\n",
       "  <tbody>\n",
       "    <tr>\n",
       "      <th>1980</th>\n",
       "      <td>9</td>\n",
       "    </tr>\n",
       "    <tr>\n",
       "      <th>1981</th>\n",
       "      <td>46</td>\n",
       "    </tr>\n",
       "    <tr>\n",
       "      <th>1982</th>\n",
       "      <td>36</td>\n",
       "    </tr>\n",
       "    <tr>\n",
       "      <th>1983</th>\n",
       "      <td>17</td>\n",
       "    </tr>\n",
       "    <tr>\n",
       "      <th>1984</th>\n",
       "      <td>14</td>\n",
       "    </tr>\n",
       "    <tr>\n",
       "      <th>1985</th>\n",
       "      <td>14</td>\n",
       "    </tr>\n",
       "    <tr>\n",
       "      <th>1986</th>\n",
       "      <td>21</td>\n",
       "    </tr>\n",
       "    <tr>\n",
       "      <th>1987</th>\n",
       "      <td>16</td>\n",
       "    </tr>\n",
       "    <tr>\n",
       "      <th>1988</th>\n",
       "      <td>15</td>\n",
       "    </tr>\n",
       "    <tr>\n",
       "      <th>1989</th>\n",
       "      <td>17</td>\n",
       "    </tr>\n",
       "    <tr>\n",
       "      <th>1990</th>\n",
       "      <td>16</td>\n",
       "    </tr>\n",
       "    <tr>\n",
       "      <th>1991</th>\n",
       "      <td>41</td>\n",
       "    </tr>\n",
       "    <tr>\n",
       "      <th>1992</th>\n",
       "      <td>43</td>\n",
       "    </tr>\n",
       "    <tr>\n",
       "      <th>1993</th>\n",
       "      <td>60</td>\n",
       "    </tr>\n",
       "    <tr>\n",
       "      <th>1994</th>\n",
       "      <td>121</td>\n",
       "    </tr>\n",
       "    <tr>\n",
       "      <th>1995</th>\n",
       "      <td>219</td>\n",
       "    </tr>\n",
       "    <tr>\n",
       "      <th>1996</th>\n",
       "      <td>263</td>\n",
       "    </tr>\n",
       "    <tr>\n",
       "      <th>1997</th>\n",
       "      <td>288</td>\n",
       "    </tr>\n",
       "    <tr>\n",
       "      <th>1998</th>\n",
       "      <td>379</td>\n",
       "    </tr>\n",
       "    <tr>\n",
       "      <th>1999</th>\n",
       "      <td>330</td>\n",
       "    </tr>\n",
       "    <tr>\n",
       "      <th>2000</th>\n",
       "      <td>307</td>\n",
       "    </tr>\n",
       "    <tr>\n",
       "      <th>2001</th>\n",
       "      <td>400</td>\n",
       "    </tr>\n",
       "    <tr>\n",
       "      <th>2002</th>\n",
       "      <td>637</td>\n",
       "    </tr>\n",
       "    <tr>\n",
       "      <th>2003</th>\n",
       "      <td>680</td>\n",
       "    </tr>\n",
       "    <tr>\n",
       "      <th>2004</th>\n",
       "      <td>655</td>\n",
       "    </tr>\n",
       "    <tr>\n",
       "      <th>2005</th>\n",
       "      <td>818</td>\n",
       "    </tr>\n",
       "    <tr>\n",
       "      <th>2006</th>\n",
       "      <td>882</td>\n",
       "    </tr>\n",
       "    <tr>\n",
       "      <th>2007</th>\n",
       "      <td>1005</td>\n",
       "    </tr>\n",
       "    <tr>\n",
       "      <th>2008</th>\n",
       "      <td>1101</td>\n",
       "    </tr>\n",
       "    <tr>\n",
       "      <th>2009</th>\n",
       "      <td>1021</td>\n",
       "    </tr>\n",
       "    <tr>\n",
       "      <th>2010</th>\n",
       "      <td>924</td>\n",
       "    </tr>\n",
       "    <tr>\n",
       "      <th>2011</th>\n",
       "      <td>919</td>\n",
       "    </tr>\n",
       "    <tr>\n",
       "      <th>2012</th>\n",
       "      <td>629</td>\n",
       "    </tr>\n",
       "    <tr>\n",
       "      <th>2013</th>\n",
       "      <td>529</td>\n",
       "    </tr>\n",
       "    <tr>\n",
       "      <th>2014</th>\n",
       "      <td>560</td>\n",
       "    </tr>\n",
       "    <tr>\n",
       "      <th>2015</th>\n",
       "      <td>568</td>\n",
       "    </tr>\n",
       "    <tr>\n",
       "      <th>2016</th>\n",
       "      <td>468</td>\n",
       "    </tr>\n",
       "  </tbody>\n",
       "</table>\n",
       "</div>"
      ],
      "text/plain": [
       "                 amount\n",
       "year_of_release        \n",
       "1980                  9\n",
       "1981                 46\n",
       "1982                 36\n",
       "1983                 17\n",
       "1984                 14\n",
       "1985                 14\n",
       "1986                 21\n",
       "1987                 16\n",
       "1988                 15\n",
       "1989                 17\n",
       "1990                 16\n",
       "1991                 41\n",
       "1992                 43\n",
       "1993                 60\n",
       "1994                121\n",
       "1995                219\n",
       "1996                263\n",
       "1997                288\n",
       "1998                379\n",
       "1999                330\n",
       "2000                307\n",
       "2001                400\n",
       "2002                637\n",
       "2003                680\n",
       "2004                655\n",
       "2005                818\n",
       "2006                882\n",
       "2007               1005\n",
       "2008               1101\n",
       "2009               1021\n",
       "2010                924\n",
       "2011                919\n",
       "2012                629\n",
       "2013                529\n",
       "2014                560\n",
       "2015                568\n",
       "2016                468"
      ]
     },
     "execution_count": 12,
     "metadata": {},
     "output_type": "execute_result"
    }
   ],
   "source": [
    "#Выведем сгрупированную по годам и количеству игр таблицу\n",
    "games_data.groupby(['year_of_release']).agg({'year_of_release' : 'count'}) \\\n",
    "    .rename(columns={'year_of_release': 'amount'})"
   ]
  },
  {
   "cell_type": "code",
   "execution_count": 13,
   "id": "a35822f4",
   "metadata": {},
   "outputs": [
    {
     "data": {
      "text/plain": [
       "<AxesSubplot:ylabel='Frequency'>"
      ]
     },
     "execution_count": 13,
     "metadata": {},
     "output_type": "execute_result"
    },
    {
     "data": {
      "image/png": "[encoded data removed]",
      "text/plain": [
       "<Figure size 720x504 with 1 Axes>"
      ]
     },
     "metadata": {
      "needs_background": "light"
     },
     "output_type": "display_data"
    }
   ],
   "source": [
    "# Для оценки данных построим график распределения \n",
    "\n",
    "#plt.xlim(1980,2020)\n",
    "#plt.ylim(0,2000)\n",
    "plt.figure(figsize=(10, 7))\n",
    "games_data['year_of_release'].plot(kind='hist', range=(1980, 2020), bins=40)"
   ]
  },
  {
   "cell_type": "markdown",
   "id": "41f1f408",
   "metadata": {},
   "source": [
    "Пик по выпуску игр пришелся на конец нулевых годов. Затем произошло значительное снижение по их выпуску. Данные за все периоды не нужна, так как на нынешнее положение дел в продажах игр влияют только последние годы."
   ]
  },
  {
   "cell_type": "markdown",
   "id": "fe8260cc",
   "metadata": {},
   "source": [
    "* Посмотрите, как менялись продажи по платформам. Выберите платформы с наибольшими суммарными продажами и постройте распределение по годам. За какой характерный срок появляются новые и исчезают старые платформы?"
   ]
  },
  {
   "cell_type": "code",
   "execution_count": 14,
   "id": "283f886a",
   "metadata": {},
   "outputs": [
    {
     "data": {
      "text/html": [
       "<div>\n",
       "<style scoped>\n",
       "    .dataframe tbody tr th:only-of-type {\n",
       "        vertical-align: middle;\n",
       "    }\n",
       "\n",
       "    .dataframe tbody tr th {\n",
       "        vertical-align: top;\n",
       "    }\n",
       "\n",
       "    .dataframe thead th {\n",
       "        text-align: right;\n",
       "    }\n",
       "</style>\n",
       "<table border=\"1\" class=\"dataframe\">\n",
       "  <thead>\n",
       "    <tr style=\"text-align: right;\">\n",
       "      <th></th>\n",
       "      <th>platform</th>\n",
       "      <th>total_sales</th>\n",
       "    </tr>\n",
       "  </thead>\n",
       "  <tbody>\n",
       "    <tr>\n",
       "      <th>16</th>\n",
       "      <td>PS2</td>\n",
       "      <td>1171.19</td>\n",
       "    </tr>\n",
       "    <tr>\n",
       "      <th>28</th>\n",
       "      <td>X360</td>\n",
       "      <td>948.74</td>\n",
       "    </tr>\n",
       "    <tr>\n",
       "      <th>17</th>\n",
       "      <td>PS3</td>\n",
       "      <td>921.09</td>\n",
       "    </tr>\n",
       "    <tr>\n",
       "      <th>26</th>\n",
       "      <td>Wii</td>\n",
       "      <td>791.91</td>\n",
       "    </tr>\n",
       "    <tr>\n",
       "      <th>15</th>\n",
       "      <td>PS</td>\n",
       "      <td>714.26</td>\n",
       "    </tr>\n",
       "    <tr>\n",
       "      <th>4</th>\n",
       "      <td>DS</td>\n",
       "      <td>655.36</td>\n",
       "    </tr>\n",
       "    <tr>\n",
       "      <th>18</th>\n",
       "      <td>PS4</td>\n",
       "      <td>314.00</td>\n",
       "    </tr>\n",
       "    <tr>\n",
       "      <th>19</th>\n",
       "      <td>PSP</td>\n",
       "      <td>273.11</td>\n",
       "    </tr>\n",
       "    <tr>\n",
       "      <th>6</th>\n",
       "      <td>GBA</td>\n",
       "      <td>263.70</td>\n",
       "    </tr>\n",
       "    <tr>\n",
       "      <th>5</th>\n",
       "      <td>GB</td>\n",
       "      <td>254.43</td>\n",
       "    </tr>\n",
       "  </tbody>\n",
       "</table>\n",
       "</div>"
      ],
      "text/plain": [
       "   platform  total_sales\n",
       "16      PS2      1171.19\n",
       "28     X360       948.74\n",
       "17      PS3       921.09\n",
       "26      Wii       791.91\n",
       "15       PS       714.26\n",
       "4        DS       655.36\n",
       "18      PS4       314.00\n",
       "19      PSP       273.11\n",
       "6       GBA       263.70\n",
       "5        GB       254.43"
      ]
     },
     "execution_count": 14,
     "metadata": {},
     "output_type": "execute_result"
    }
   ],
   "source": [
    "# Создадим новую таблицу и сгруппируем по выручке платформы в год. Результат отсортируем по убыванию\n",
    "income_per_platform = games_data.groupby(['platform'], as_index=False).agg({'total_sales' : 'sum'}) \\\n",
    ".sort_values(by='total_sales', ascending=False)\n",
    "\n",
    "# Выведем топ - 10 на экран\n",
    "income_per_platform.head(10)\n"
   ]
  },
  {
   "cell_type": "code",
   "execution_count": 15,
   "id": "6318498f",
   "metadata": {},
   "outputs": [],
   "source": [
    "#Сохраним в таблице games_data_top_10_platforms данные из 10 самых успешных платформ, полученных ранее. \n",
    "\n",
    "games_data_top_10_platforms = games_data.query('platform in @income_per_platform.head(10).platform').copy()"
   ]
  },
  {
   "cell_type": "code",
   "execution_count": 16,
   "id": "41e4d4b4",
   "metadata": {},
   "outputs": [
    {
     "data": {
      "text/plain": [
       "<AxesSubplot:title={'center':'Top 10 sales'}, xlabel='year_of_release'>"
      ]
     },
     "execution_count": 16,
     "metadata": {},
     "output_type": "execute_result"
    },
    {
     "data": {
      "image/png": "[encoded data removed]",
      "text/plain": [
       "<Figure size 864x576 with 1 Axes>"
      ]
     },
     "metadata": {
      "needs_background": "light"
     },
     "output_type": "display_data"
    }
   ],
   "source": [
    "# Сгруппируем и построим график по 10 самым успешным платформам\n",
    "top_10_platforms_grouped = games_data_top_10_platforms.groupby(['year_of_release', 'platform'])[['total_sales']].sum()\n",
    "top_10_platforms_grouped.unstack().plot(figsize = (12,8), title = 'Top 10 sales', style = '-x', xlim=(1993,2018), grid=1)"
   ]
  },
  {
   "cell_type": "markdown",
   "id": "2a59590d",
   "metadata": {},
   "source": [
    "Были отобраны 10 платформ с самыми высокими показателями по продажам, построен график распределения по годам. По графику видно, что в среднем платформы \"живут\" 10 лет."
   ]
  },
  {
   "cell_type": "markdown",
   "id": "3599065c",
   "metadata": {},
   "source": [
    "* Возьмите данные за соответствующий актуальный период"
   ]
  },
  {
   "cell_type": "code",
   "execution_count": 17,
   "id": "998c0f0f",
   "metadata": {},
   "outputs": [],
   "source": [
    "actual_period = games_data.query('year_of_release >= 2007')"
   ]
  },
  {
   "cell_type": "markdown",
   "id": "5358a309",
   "metadata": {},
   "source": [
    "Актуальным можно считать периаодн с 2007г.Так в рассмотрение попадут только последние поколения платформ."
   ]
  },
  {
   "cell_type": "markdown",
   "id": "8cb5472d",
   "metadata": {},
   "source": [
    "* Не учитывайте в работе данные за предыдущие годы. Какие платформы лидируют по продажам, растут или падают? Выберите несколько потенциально прибыльных платформ."
   ]
  },
  {
   "cell_type": "code",
   "execution_count": 18,
   "id": "90a71a78",
   "metadata": {},
   "outputs": [
    {
     "data": {
      "text/html": [
       "<div>\n",
       "<style scoped>\n",
       "    .dataframe tbody tr th:only-of-type {\n",
       "        vertical-align: middle;\n",
       "    }\n",
       "\n",
       "    .dataframe tbody tr th {\n",
       "        vertical-align: top;\n",
       "    }\n",
       "\n",
       "    .dataframe thead tr th {\n",
       "        text-align: left;\n",
       "    }\n",
       "\n",
       "    .dataframe thead tr:last-of-type th {\n",
       "        text-align: right;\n",
       "    }\n",
       "</style>\n",
       "<table border=\"1\" class=\"dataframe\">\n",
       "  <thead>\n",
       "    <tr>\n",
       "      <th></th>\n",
       "      <th colspan=\"3\" halign=\"left\">sum</th>\n",
       "    </tr>\n",
       "    <tr>\n",
       "      <th>year_of_release</th>\n",
       "      <th>2014</th>\n",
       "      <th>2015</th>\n",
       "      <th>2016</th>\n",
       "    </tr>\n",
       "    <tr>\n",
       "      <th>platform</th>\n",
       "      <th></th>\n",
       "      <th></th>\n",
       "      <th></th>\n",
       "    </tr>\n",
       "  </thead>\n",
       "  <tbody>\n",
       "    <tr>\n",
       "      <th>PS4</th>\n",
       "      <td>100.00</td>\n",
       "      <td>118.86</td>\n",
       "      <td>69.15</td>\n",
       "    </tr>\n",
       "    <tr>\n",
       "      <th>XOne</th>\n",
       "      <td>54.07</td>\n",
       "      <td>59.92</td>\n",
       "      <td>25.82</td>\n",
       "    </tr>\n",
       "    <tr>\n",
       "      <th>3DS</th>\n",
       "      <td>43.07</td>\n",
       "      <td>27.21</td>\n",
       "      <td>15.10</td>\n",
       "    </tr>\n",
       "    <tr>\n",
       "      <th>PC</th>\n",
       "      <td>13.25</td>\n",
       "      <td>8.49</td>\n",
       "      <td>5.22</td>\n",
       "    </tr>\n",
       "    <tr>\n",
       "      <th>WiiU</th>\n",
       "      <td>22.01</td>\n",
       "      <td>16.27</td>\n",
       "      <td>4.30</td>\n",
       "    </tr>\n",
       "    <tr>\n",
       "      <th>PSV</th>\n",
       "      <td>11.90</td>\n",
       "      <td>5.95</td>\n",
       "      <td>4.24</td>\n",
       "    </tr>\n",
       "    <tr>\n",
       "      <th>PS3</th>\n",
       "      <td>47.40</td>\n",
       "      <td>16.30</td>\n",
       "      <td>3.16</td>\n",
       "    </tr>\n",
       "    <tr>\n",
       "      <th>X360</th>\n",
       "      <td>33.77</td>\n",
       "      <td>11.87</td>\n",
       "      <td>1.22</td>\n",
       "    </tr>\n",
       "  </tbody>\n",
       "</table>\n",
       "</div>"
      ],
      "text/plain": [
       "                    sum               \n",
       "year_of_release    2014    2015   2016\n",
       "platform                              \n",
       "PS4              100.00  118.86  69.15\n",
       "XOne              54.07   59.92  25.82\n",
       "3DS               43.07   27.21  15.10\n",
       "PC                13.25    8.49   5.22\n",
       "WiiU              22.01   16.27   4.30\n",
       "PSV               11.90    5.95   4.24\n",
       "PS3               47.40   16.30   3.16\n",
       "X360              33.77   11.87   1.22"
      ]
     },
     "execution_count": 18,
     "metadata": {},
     "output_type": "execute_result"
    }
   ],
   "source": [
    "# Создадим сводную таблицу платформ по годам со значением суммы выручки\n",
    "platforms_last_years_pivot = actual_period \\\n",
    ".pivot_table(index='platform', columns = 'year_of_release', values='total_sales', aggfunc=['sum']) \n",
    "\n",
    "#Для анализа оставим  только данные за последние 3 года\n",
    "platforms_last_years_pivot.drop(axis=1, columns=platforms_last_years_pivot.columns[[0,1,2,3,4,5,6]], inplace=True)\n",
    "# Удалим пустые строки, отсортируем по убыванию выручки за 2016 год и выведем результат\n",
    "platforms_last_years_pivot.dropna().sort_values(by=platforms_last_years_pivot.columns[2], ascending=False)"
   ]
  },
  {
   "cell_type": "markdown",
   "id": "76ef70c3",
   "metadata": {},
   "source": [
    "Лидирует по продажам PS4. Ростут PS4 и XOne. Падуют остальные. PS4 и XOne потенциально прибыльные платформы."
   ]
  },
  {
   "cell_type": "markdown",
   "id": "ebd64448",
   "metadata": {},
   "source": [
    "* Постройте график «ящик с усами» по глобальным продажам каждой игры и разбивкой по платформам. Велика ли разница в продажах? А в средних продажах на разных платформах? Опишите результат."
   ]
  },
  {
   "cell_type": "code",
   "execution_count": 19,
   "id": "7dfc55de",
   "metadata": {},
   "outputs": [],
   "source": [
    "#Предварительно сохраним в переменной top_10_platform_since_actual_period список топ-10 платформ по продажам за актуальный период.\n",
    "\n",
    "top_10_platform_since_actual_period = actual_period.groupby(['platform'], as_index=False).agg({'total_sales' : 'sum'}) \\\n",
    ".sort_values(by='total_sales', ascending=False).head(10).platform"
   ]
  },
  {
   "cell_type": "code",
   "execution_count": 20,
   "id": "9b4ae777",
   "metadata": {},
   "outputs": [
    {
     "data": {
      "text/plain": [
       "(0.0, 2.0)"
      ]
     },
     "execution_count": 20,
     "metadata": {},
     "output_type": "execute_result"
    },
    {
     "data": {
      "image/png": "[encoded data removed]",
      "text/plain": [
       "<Figure size 864x576 with 1 Axes>"
      ]
     },
     "metadata": {
      "needs_background": "light"
     },
     "output_type": "display_data"
    }
   ],
   "source": [
    "# Оставляем для анализа только топ-10 продаваемых платформ за актуальный период\n",
    "platforms_top_boxplot = actual_period.query('platform in @top_10_platform_since_actual_period').copy()\n",
    "\n",
    "# Построим график «ящик с усами»\n",
    "plt.figure(figsize = (12,8))\n",
    "sns.boxplot(x=\"platform\", y=\"total_sales\", data=platforms_top_boxplot)\n",
    "plt.ylim([0,2])"
   ]
  },
  {
   "cell_type": "code",
   "execution_count": 21,
   "id": "e14fc9c3",
   "metadata": {},
   "outputs": [
    {
     "data": {
      "text/html": [
       "<div>\n",
       "<style scoped>\n",
       "    .dataframe tbody tr th:only-of-type {\n",
       "        vertical-align: middle;\n",
       "    }\n",
       "\n",
       "    .dataframe tbody tr th {\n",
       "        vertical-align: top;\n",
       "    }\n",
       "\n",
       "    .dataframe thead th {\n",
       "        text-align: right;\n",
       "    }\n",
       "</style>\n",
       "<table border=\"1\" class=\"dataframe\">\n",
       "  <thead>\n",
       "    <tr style=\"text-align: right;\">\n",
       "      <th></th>\n",
       "      <th>медианная_выручка</th>\n",
       "      <th>средняя_выручка</th>\n",
       "      <th>кол-во_игр</th>\n",
       "    </tr>\n",
       "    <tr>\n",
       "      <th>platform</th>\n",
       "      <th></th>\n",
       "      <th></th>\n",
       "      <th></th>\n",
       "    </tr>\n",
       "  </thead>\n",
       "  <tbody>\n",
       "    <tr>\n",
       "      <th>X360</th>\n",
       "      <td>0.32</td>\n",
       "      <td>0.855573</td>\n",
       "      <td>1039</td>\n",
       "    </tr>\n",
       "    <tr>\n",
       "      <th>PS4</th>\n",
       "      <td>0.20</td>\n",
       "      <td>0.813472</td>\n",
       "      <td>386</td>\n",
       "    </tr>\n",
       "    <tr>\n",
       "      <th>Wii</th>\n",
       "      <td>0.26</td>\n",
       "      <td>0.802742</td>\n",
       "      <td>817</td>\n",
       "    </tr>\n",
       "    <tr>\n",
       "      <th>PS3</th>\n",
       "      <td>0.32</td>\n",
       "      <td>0.754929</td>\n",
       "      <td>1193</td>\n",
       "    </tr>\n",
       "    <tr>\n",
       "      <th>XOne</th>\n",
       "      <td>0.24</td>\n",
       "      <td>0.672754</td>\n",
       "      <td>236</td>\n",
       "    </tr>\n",
       "    <tr>\n",
       "      <th>3DS</th>\n",
       "      <td>0.14</td>\n",
       "      <td>0.552926</td>\n",
       "      <td>458</td>\n",
       "    </tr>\n",
       "    <tr>\n",
       "      <th>DS</th>\n",
       "      <td>0.10</td>\n",
       "      <td>0.362925</td>\n",
       "      <td>1087</td>\n",
       "    </tr>\n",
       "    <tr>\n",
       "      <th>PS2</th>\n",
       "      <td>0.10</td>\n",
       "      <td>0.302682</td>\n",
       "      <td>440</td>\n",
       "    </tr>\n",
       "    <tr>\n",
       "      <th>PC</th>\n",
       "      <td>0.05</td>\n",
       "      <td>0.233912</td>\n",
       "      <td>680</td>\n",
       "    </tr>\n",
       "    <tr>\n",
       "      <th>PSP</th>\n",
       "      <td>0.07</td>\n",
       "      <td>0.209482</td>\n",
       "      <td>811</td>\n",
       "    </tr>\n",
       "  </tbody>\n",
       "</table>\n",
       "</div>"
      ],
      "text/plain": [
       "          медианная_выручка  средняя_выручка  кол-во_игр\n",
       "platform                                                \n",
       "X360                   0.32         0.855573        1039\n",
       "PS4                    0.20         0.813472         386\n",
       "Wii                    0.26         0.802742         817\n",
       "PS3                    0.32         0.754929        1193\n",
       "XOne                   0.24         0.672754         236\n",
       "3DS                    0.14         0.552926         458\n",
       "DS                     0.10         0.362925        1087\n",
       "PS2                    0.10         0.302682         440\n",
       "PC                     0.05         0.233912         680\n",
       "PSP                    0.07         0.209482         811"
      ]
     },
     "execution_count": 21,
     "metadata": {},
     "output_type": "execute_result"
    }
   ],
   "source": [
    "# Получим таблицу сгруппированную по платформам \n",
    "platforms_mean = platforms_top_boxplot.pivot_table(index='platform', values='total_sales', aggfunc=['median', 'mean', 'count'])\n",
    "\n",
    "# Переименуем столбцы\n",
    "platforms_mean.columns = ['медианная_выручка', 'средняя_выручка', 'кол-во_игр']\n",
    "\n",
    "# Анализируем выручку\n",
    "platforms_mean.sort_values(by='средняя_выручка', ascending=False)"
   ]
  },
  {
   "cell_type": "markdown",
   "id": "db81cafd",
   "metadata": {},
   "source": [
    "По общему кол-ву игр выделяются платформы X360, PS3 и Wii. Явными лидерами по медианной выручке являются X360 и PS3. Средине продажи по платформам распределены более равномерно чем медиана. Так, в топ попала платформа PS4, которая не является лидером по кол-ву игр и медианной выручке."
   ]
  },
  {
   "cell_type": "markdown",
   "id": "08209895",
   "metadata": {},
   "source": [
    "* Посмотрите, как влияют на продажи внутри одной популярной платформы отзывы пользователей и критиков. Постройте диаграмму рассеяния и посчитайте корреляцию между отзывами и продажами. Для анализа взял показатели \"PS3\"."
   ]
  },
  {
   "cell_type": "code",
   "execution_count": 22,
   "id": "17d20e8e",
   "metadata": {},
   "outputs": [],
   "source": [
    "# Создадим отдельную таблицу для анализа и уберем из нее пустые значения в колонках critic_score и user_score \n",
    "actual_period_corr_all = actual_period\n",
    "actual_period_corr_all = actual_period_corr_all[actual_period_corr_all['critic_score'].isna() == False]\n",
    "actual_period_corr_all = actual_period_corr_all[actual_period_corr_all['user_score'].isna() == False]\n",
    "\n",
    "# Для анализа отфильтруем по платформе PS3\n",
    "actual_period_corr_ps3 = actual_period_corr_all.query('platform == \"PS3\"')"
   ]
  },
  {
   "cell_type": "code",
   "execution_count": 23,
   "id": "e019e08e",
   "metadata": {},
   "outputs": [
    {
     "data": {
      "text/plain": [
       "<AxesSubplot:xlabel='user_score', ylabel='total_sales'>"
      ]
     },
     "execution_count": 23,
     "metadata": {},
     "output_type": "execute_result"
    },
    {
     "data": {
      "image/png": "[encoded data removed]",
      "text/plain": [
       "<Figure size 432x288 with 1 Axes>"
      ]
     },
     "metadata": {
      "needs_background": "light"
     },
     "output_type": "display_data"
    },
    {
     "data": {
      "image/png": "[encoded data removed]",
      "text/plain": [
       "<Figure size 432x288 with 1 Axes>"
      ]
     },
     "metadata": {
      "needs_background": "light"
     },
     "output_type": "display_data"
    }
   ],
   "source": [
    "# Построим диаграмму рассеяния по таблице actual_period_corr_ps3\n",
    "\n",
    "actual_period_corr_ps3.plot(y='total_sales', x='critic_score', kind='scatter', color='blue', alpha = 0.5, grid=1)\n",
    "actual_period_corr_ps3.plot(y='total_sales', x='user_score', kind='scatter', color='red', alpha = 0.5, grid=1)"
   ]
  },
  {
   "cell_type": "code",
   "execution_count": 24,
   "id": "4874cdc4",
   "metadata": {},
   "outputs": [
    {
     "name": "stdout",
     "output_type": "stream",
     "text": [
      "critic_score = 0.4284472591344223\n",
      "user_score = 0.14154093147174013\n"
     ]
    }
   ],
   "source": [
    "# Посчитаем корреляцию \n",
    "for column in ['critic_score', 'user_score']:\n",
    "    print(column, '=', actual_period_corr_ps3['total_sales'].corr(actual_period_corr_ps3[column]))"
   ]
  },
  {
   "cell_type": "markdown",
   "id": "b7b98aed",
   "metadata": {},
   "source": [
    "Исходя из полученных данных можно сделать вывод, что оценки критиков имеют сильную прямую корреляцию с продажами, а  оценки покупателей имеют слабую корреляцию с продажами."
   ]
  },
  {
   "cell_type": "markdown",
   "id": "00bf6623",
   "metadata": {},
   "source": [
    "* Соотнесите выводы с продажами игр на других платформах. \n",
    "\n",
    "Чем выше оценки критиков, тем выше продажи. А оценки пользователей не сильно влияют на итоговые показатели продаж."
   ]
  },
  {
   "cell_type": "code",
   "execution_count": 25,
   "id": "6d3b01a1",
   "metadata": {},
   "outputs": [
    {
     "data": {
      "text/html": [
       "<div>\n",
       "<style scoped>\n",
       "    .dataframe tbody tr th:only-of-type {\n",
       "        vertical-align: middle;\n",
       "    }\n",
       "\n",
       "    .dataframe tbody tr th {\n",
       "        vertical-align: top;\n",
       "    }\n",
       "\n",
       "    .dataframe thead th {\n",
       "        text-align: right;\n",
       "    }\n",
       "</style>\n",
       "<table border=\"1\" class=\"dataframe\">\n",
       "  <thead>\n",
       "    <tr style=\"text-align: right;\">\n",
       "      <th></th>\n",
       "      <th>медианная_оценка</th>\n",
       "      <th>медианная_выручка</th>\n",
       "    </tr>\n",
       "    <tr>\n",
       "      <th>platform</th>\n",
       "      <th></th>\n",
       "      <th></th>\n",
       "    </tr>\n",
       "  </thead>\n",
       "  <tbody>\n",
       "    <tr>\n",
       "      <th>PC</th>\n",
       "      <td>76.0</td>\n",
       "      <td>0.05</td>\n",
       "    </tr>\n",
       "    <tr>\n",
       "      <th>XOne</th>\n",
       "      <td>76.0</td>\n",
       "      <td>0.24</td>\n",
       "    </tr>\n",
       "    <tr>\n",
       "      <th>PS3</th>\n",
       "      <td>73.5</td>\n",
       "      <td>0.32</td>\n",
       "    </tr>\n",
       "    <tr>\n",
       "      <th>PS4</th>\n",
       "      <td>73.5</td>\n",
       "      <td>0.20</td>\n",
       "    </tr>\n",
       "    <tr>\n",
       "      <th>X360</th>\n",
       "      <td>72.0</td>\n",
       "      <td>0.32</td>\n",
       "    </tr>\n",
       "    <tr>\n",
       "      <th>DS</th>\n",
       "      <td>70.0</td>\n",
       "      <td>0.10</td>\n",
       "    </tr>\n",
       "    <tr>\n",
       "      <th>PSP</th>\n",
       "      <td>70.0</td>\n",
       "      <td>0.07</td>\n",
       "    </tr>\n",
       "    <tr>\n",
       "      <th>3DS</th>\n",
       "      <td>69.0</td>\n",
       "      <td>0.14</td>\n",
       "    </tr>\n",
       "    <tr>\n",
       "      <th>PS2</th>\n",
       "      <td>68.0</td>\n",
       "      <td>0.10</td>\n",
       "    </tr>\n",
       "    <tr>\n",
       "      <th>Wii</th>\n",
       "      <td>67.0</td>\n",
       "      <td>0.26</td>\n",
       "    </tr>\n",
       "  </tbody>\n",
       "</table>\n",
       "</div>"
      ],
      "text/plain": [
       "          медианная_оценка  медианная_выручка\n",
       "platform                                     \n",
       "PC                    76.0               0.05\n",
       "XOne                  76.0               0.24\n",
       "PS3                   73.5               0.32\n",
       "PS4                   73.5               0.20\n",
       "X360                  72.0               0.32\n",
       "DS                    70.0               0.10\n",
       "PSP                   70.0               0.07\n",
       "3DS                   69.0               0.14\n",
       "PS2                   68.0               0.10\n",
       "Wii                   67.0               0.26"
      ]
     },
     "execution_count": 25,
     "metadata": {},
     "output_type": "execute_result"
    }
   ],
   "source": [
    "# В таблице platforms_top_boxplot у нас сохранены данные по топ-10 продаваемых платформ \n",
    "# за актуальный период, для анализа возьмем её\n",
    "\n",
    "# Создадим таблицу сгрупированную по платформам\n",
    "platforms_top_score = platforms_top_boxplot.pivot_table(index='platform', values=['critic_score', 'total_sales'], aggfunc=['median'])\n",
    "# Переименуем столбцы\n",
    "platforms_top_score.columns = ['медианная_оценка','медианная_выручка']\n",
    "# Отсортируем по убыванию колонку медианная_оценка \n",
    "platforms_top_score.sort_values(by='медианная_оценка', ascending=False)"
   ]
  },
  {
   "cell_type": "code",
   "execution_count": 56,
   "id": "ffcf00db",
   "metadata": {},
   "outputs": [],
   "source": [
    "# Создадим отдельные таблицы отфильтрованные по платформам PC и X360 соответственно\n",
    "actual_period_corr_PC = actual_period_corr_all.query('platform == \"PC\"').copy()\n",
    "actual_period_corr_X360 = actual_period_corr_all.query('platform == \"X360\"').copy()\n"
   ]
  },
  {
   "cell_type": "markdown",
   "id": "428314b0",
   "metadata": {},
   "source": [
    "Для анализа возьмем платформы PC и X360, как лидирующие по медианным показателям выручки и оценки критиков"
   ]
  },
  {
   "cell_type": "code",
   "execution_count": 60,
   "id": "a1446070",
   "metadata": {},
   "outputs": [
    {
     "name": "stdout",
     "output_type": "stream",
     "text": [
      "critic_score = 0.2981067816970222\n",
      "user_score = -0.008355359686047217\n"
     ]
    }
   ],
   "source": [
    "# Посчитаем корреляцию для платформы PC\n",
    "for column in ['critic_score', 'user_score']:\n",
    "    print(column, '=', actual_period_corr_PC['total_sales'].corr(actual_period_corr_PC[column]))"
   ]
  },
  {
   "cell_type": "code",
   "execution_count": 61,
   "id": "b91fce54",
   "metadata": {},
   "outputs": [
    {
     "name": "stdout",
     "output_type": "stream",
     "text": [
      "critic_score = 0.39268162747291496\n",
      "user_score = 0.10969763634443419\n"
     ]
    }
   ],
   "source": [
    "# Посчитаем корреляцию для платформы X360\n",
    "for column in ['critic_score', 'user_score']:\n",
    "    print(column, '=', actual_period_corr_X360['total_sales'].corr(actual_period_corr_X360[column]))"
   ]
  },
  {
   "cell_type": "markdown",
   "id": "2d77ec1d",
   "metadata": {},
   "source": [
    "Анализ значений платформ PC и X360 показывает, взаимосвязь оценок критиков и пользователей с продажами по своей природе не отличаются."
   ]
  },
  {
   "cell_type": "markdown",
   "id": "54ab6631",
   "metadata": {},
   "source": [
    "* Посмотрите на общее распределение игр по жанрам. Что можно сказать о самых прибыльных жанрах? Выделяются ли жанры с высокими и низкими продажами?"
   ]
  },
  {
   "cell_type": "code",
   "execution_count": 87,
   "id": "5ffe6afe",
   "metadata": {},
   "outputs": [
    {
     "data": {
      "text/plain": [
       "genre\n",
       "Action          1952\n",
       "Sports           879\n",
       "Role-Playing     864\n",
       "Adventure        820\n",
       "Misc             796\n",
       "Shooter          623\n",
       "Racing           386\n",
       "Fighting         340\n",
       "Simulation       332\n",
       "Strategy         324\n",
       "Platform         239\n",
       "Puzzle           169\n",
       "Name: name, dtype: int64"
      ]
     },
     "execution_count": 87,
     "metadata": {},
     "output_type": "execute_result"
    }
   ],
   "source": [
    "# Сгрупируем по жанрам игр и узнаем их количество\n",
    "actual_period.groupby(by=\"genre\").name.count().sort_values(ascending=False)"
   ]
  },
  {
   "cell_type": "code",
   "execution_count": 174,
   "id": "cac75778",
   "metadata": {},
   "outputs": [
    {
     "data": {
      "image/png": "[encoded data removed]",
      "text/plain": [
       "<Figure size 1296x720 with 2 Axes>"
      ]
     },
     "metadata": {
      "needs_background": "light"
     },
     "output_type": "display_data"
    }
   ],
   "source": [
    "# Для более детального анализа построим гистограмму по кол-ву игр, средним и медианным продажам по каждому жанру\n",
    "\n",
    "fig = plt.figure(figsize=(18, 10))\n",
    "ax = fig.add_subplot()\n",
    "ax2 = ax.twinx()\n",
    "\n",
    "width = 0.1\n",
    "(actual_period_corr_all.pivot_table(index = 'genre',values = 'total_sales',aggfunc = 'count')\n",
    " .total_sales.plot(kind='bar', color='red', ax=ax, width=width, position=1.5, label = 'количество'))\n",
    "\n",
    "(actual_period_corr_all.pivot_table(index = 'genre',values = 'total_sales',aggfunc = 'mean')\n",
    " .total_sales.plot(kind='bar', color='blue', ax=ax2, width=width, position=0.5, label = 'средняя выручка'))\n",
    "\n",
    "(actual_period_corr_all.pivot_table(index = 'genre',values = 'total_sales',aggfunc = 'median')\n",
    " .total_sales.plot(kind='bar', color='green', ax=ax2, width=width, position=-0.5, label = 'медиана выручки'))\n",
    "\n",
    "ax.set_ylabel('количество')\n",
    "ax2.set_ylabel('средняя_и_медиана')\n",
    "\n",
    "ax.legend(prop={'size': 15}, loc = 2)\n",
    "ax2.legend(prop={'size': 15}, loc = 1)\n",
    "\n",
    "plt.show()\n"
   ]
  },
  {
   "cell_type": "markdown",
   "id": "3118abc3",
   "metadata": {},
   "source": [
    "Самая популярный жанр среди игр является 'Action'. Жанрами с самыми высокими показателями медианной выручки являются Sports и Shooters. Жанрами с самыми низкими показателями медианной выручки являются Strategy, Puzzle и Adventure. "
   ]
  },
  {
   "cell_type": "markdown",
   "id": "a68dbda8",
   "metadata": {},
   "source": [
    "Судя по всем исследованиям, которые были проведены в данном шаге, можно прийти к заключению, что средняя продолжительность жизни платформы равна 10 лет, а самыми популярными и прибыльными платформами за этот период были X360, PS3, PS4 и WiiU. А самыми прибыльными жанрами для разработчиков являются Sports и Shooters."
   ]
  },
  {
   "cell_type": "markdown",
   "id": "ec8c6810",
   "metadata": {},
   "source": [
    "### Шаг 4. Определение пользователя каждого региона <a id=\"step4\"> </a>"
   ]
  },
  {
   "cell_type": "markdown",
   "id": "d1bcbb8c",
   "metadata": {},
   "source": [
    "#### Задание :\n",
    "Определите для пользователя каждого региона (NA, EU, JP):\n",
    "* Самые популярные платформы (топ-5). Опишите различия в долях продаж.\n",
    "* Самые популярные жанры (топ-5). Поясните разницу.\n",
    "* Влияет ли рейтинг ESRB на продажи в отдельном регионе?\n",
    "    "
   ]
  },
  {
   "cell_type": "code",
   "execution_count": 161,
   "id": "bc4fe788",
   "metadata": {},
   "outputs": [
    {
     "name": "stdout",
     "output_type": "stream",
     "text": [
      "Топ-5 популярных платформ для региона na :\n"
     ]
    },
    {
     "data": {
      "text/html": [
       "<div>\n",
       "<style scoped>\n",
       "    .dataframe tbody tr th:only-of-type {\n",
       "        vertical-align: middle;\n",
       "    }\n",
       "\n",
       "    .dataframe tbody tr th {\n",
       "        vertical-align: top;\n",
       "    }\n",
       "\n",
       "    .dataframe thead th {\n",
       "        text-align: right;\n",
       "    }\n",
       "</style>\n",
       "<table border=\"1\" class=\"dataframe\">\n",
       "  <thead>\n",
       "    <tr style=\"text-align: right;\">\n",
       "      <th></th>\n",
       "      <th>Количество игр</th>\n",
       "      <th>Выручка</th>\n",
       "      <th>Доля, %</th>\n",
       "    </tr>\n",
       "    <tr>\n",
       "      <th>platform</th>\n",
       "      <th></th>\n",
       "      <th></th>\n",
       "      <th></th>\n",
       "    </tr>\n",
       "  </thead>\n",
       "  <tbody>\n",
       "    <tr>\n",
       "      <th>X360</th>\n",
       "      <td>942</td>\n",
       "      <td>543.83</td>\n",
       "      <td>28</td>\n",
       "    </tr>\n",
       "    <tr>\n",
       "      <th>PS3</th>\n",
       "      <td>903</td>\n",
       "      <td>375.27</td>\n",
       "      <td>19</td>\n",
       "    </tr>\n",
       "    <tr>\n",
       "      <th>Wii</th>\n",
       "      <td>666</td>\n",
       "      <td>342.88</td>\n",
       "      <td>17</td>\n",
       "    </tr>\n",
       "    <tr>\n",
       "      <th>DS</th>\n",
       "      <td>582</td>\n",
       "      <td>177.30</td>\n",
       "      <td>9</td>\n",
       "    </tr>\n",
       "    <tr>\n",
       "      <th>PS4</th>\n",
       "      <td>288</td>\n",
       "      <td>108.62</td>\n",
       "      <td>5</td>\n",
       "    </tr>\n",
       "  </tbody>\n",
       "</table>\n",
       "</div>"
      ],
      "text/plain": [
       "          Количество игр  Выручка  Доля, %\n",
       "platform                                  \n",
       "X360                 942   543.83       28\n",
       "PS3                  903   375.27       19\n",
       "Wii                  666   342.88       17\n",
       "DS                   582   177.30        9\n",
       "PS4                  288   108.62        5"
      ]
     },
     "metadata": {},
     "output_type": "display_data"
    },
    {
     "name": "stdout",
     "output_type": "stream",
     "text": [
      "Топ-5 популярных платформ для региона eu :\n"
     ]
    },
    {
     "data": {
      "text/html": [
       "<div>\n",
       "<style scoped>\n",
       "    .dataframe tbody tr th:only-of-type {\n",
       "        vertical-align: middle;\n",
       "    }\n",
       "\n",
       "    .dataframe tbody tr th {\n",
       "        vertical-align: top;\n",
       "    }\n",
       "\n",
       "    .dataframe thead th {\n",
       "        text-align: right;\n",
       "    }\n",
       "</style>\n",
       "<table border=\"1\" class=\"dataframe\">\n",
       "  <thead>\n",
       "    <tr style=\"text-align: right;\">\n",
       "      <th></th>\n",
       "      <th>Количество игр</th>\n",
       "      <th>Выручка</th>\n",
       "      <th>Доля, %</th>\n",
       "    </tr>\n",
       "    <tr>\n",
       "      <th>platform</th>\n",
       "      <th></th>\n",
       "      <th></th>\n",
       "      <th></th>\n",
       "    </tr>\n",
       "  </thead>\n",
       "  <tbody>\n",
       "    <tr>\n",
       "      <th>PS3</th>\n",
       "      <td>874</td>\n",
       "      <td>317.62</td>\n",
       "      <td>24</td>\n",
       "    </tr>\n",
       "    <tr>\n",
       "      <th>X360</th>\n",
       "      <td>855</td>\n",
       "      <td>255.48</td>\n",
       "      <td>19</td>\n",
       "    </tr>\n",
       "    <tr>\n",
       "      <th>Wii</th>\n",
       "      <td>525</td>\n",
       "      <td>197.70</td>\n",
       "      <td>15</td>\n",
       "    </tr>\n",
       "    <tr>\n",
       "      <th>PS4</th>\n",
       "      <td>290</td>\n",
       "      <td>141.09</td>\n",
       "      <td>10</td>\n",
       "    </tr>\n",
       "    <tr>\n",
       "      <th>PC</th>\n",
       "      <td>640</td>\n",
       "      <td>97.33</td>\n",
       "      <td>7</td>\n",
       "    </tr>\n",
       "  </tbody>\n",
       "</table>\n",
       "</div>"
      ],
      "text/plain": [
       "          Количество игр  Выручка  Доля, %\n",
       "platform                                  \n",
       "PS3                  874   317.62       24\n",
       "X360                 855   255.48       19\n",
       "Wii                  525   197.70       15\n",
       "PS4                  290   141.09       10\n",
       "PC                   640    97.33        7"
      ]
     },
     "metadata": {},
     "output_type": "display_data"
    },
    {
     "name": "stdout",
     "output_type": "stream",
     "text": [
      "Топ-5 популярных платформ для региона jp :\n"
     ]
    },
    {
     "data": {
      "text/html": [
       "<div>\n",
       "<style scoped>\n",
       "    .dataframe tbody tr th:only-of-type {\n",
       "        vertical-align: middle;\n",
       "    }\n",
       "\n",
       "    .dataframe tbody tr th {\n",
       "        vertical-align: top;\n",
       "    }\n",
       "\n",
       "    .dataframe thead th {\n",
       "        text-align: right;\n",
       "    }\n",
       "</style>\n",
       "<table border=\"1\" class=\"dataframe\">\n",
       "  <thead>\n",
       "    <tr style=\"text-align: right;\">\n",
       "      <th></th>\n",
       "      <th>Количество игр</th>\n",
       "      <th>Выручка</th>\n",
       "      <th>Доля, %</th>\n",
       "    </tr>\n",
       "    <tr>\n",
       "      <th>platform</th>\n",
       "      <th></th>\n",
       "      <th></th>\n",
       "      <th></th>\n",
       "    </tr>\n",
       "  </thead>\n",
       "  <tbody>\n",
       "    <tr>\n",
       "      <th>DS</th>\n",
       "      <td>560</td>\n",
       "      <td>100.80</td>\n",
       "      <td>20</td>\n",
       "    </tr>\n",
       "    <tr>\n",
       "      <th>3DS</th>\n",
       "      <td>352</td>\n",
       "      <td>100.39</td>\n",
       "      <td>20</td>\n",
       "    </tr>\n",
       "    <tr>\n",
       "      <th>PS3</th>\n",
       "      <td>677</td>\n",
       "      <td>77.96</td>\n",
       "      <td>16</td>\n",
       "    </tr>\n",
       "    <tr>\n",
       "      <th>PSP</th>\n",
       "      <td>655</td>\n",
       "      <td>65.95</td>\n",
       "      <td>13</td>\n",
       "    </tr>\n",
       "    <tr>\n",
       "      <th>Wii</th>\n",
       "      <td>240</td>\n",
       "      <td>58.70</td>\n",
       "      <td>12</td>\n",
       "    </tr>\n",
       "  </tbody>\n",
       "</table>\n",
       "</div>"
      ],
      "text/plain": [
       "          Количество игр  Выручка  Доля, %\n",
       "platform                                  \n",
       "DS                   560   100.80       20\n",
       "3DS                  352   100.39       20\n",
       "PS3                  677    77.96       16\n",
       "PSP                  655    65.95       13\n",
       "Wii                  240    58.70       12"
      ]
     },
     "metadata": {},
     "output_type": "display_data"
    }
   ],
   "source": [
    "# Топ-5 самых популярных платформ для регионов NA, EU, JP\n",
    "# Создадим необходимые сводные таблицы через цикл.  \n",
    "for region_id in ['na','eu','jp']:\n",
    "# Создадим сводную таблицу с групировкорй по строкам где были продажи в регионах     \n",
    "    top_5_platform = actual_period.query(region_id + '_sales > 0').\\\n",
    "        pivot_table(index='platform', values =[region_id + '_sales'], aggfunc= ['count','sum'])\n",
    "# Для удобства переименуем колонки \n",
    "    top_5_platform.columns = ['Количество игр','Выручка']\n",
    "# Добавим в таблицу колонку с рачетом доли выручки в % от общей суммы выручки по региону\n",
    "    top_5_platform['Доля, %'] = (top_5_platform['Выручка'] * 100 / actual_period[region_id + '_sales'].sum()).astype(int)\n",
    "# Выведем полученную таблицу на экран    \n",
    "    print('Топ-5 популярных платформ для региона',region_id, ':')\n",
    "    display(top_5_platform.sort_values(by='Выручка', ascending=False).head())"
   ]
  },
  {
   "cell_type": "markdown",
   "id": "744766b2",
   "metadata": {},
   "source": [
    "Самая успешная платформа в NA X360 с 28% долей рынка с 9% отрывом от второй PS3, \n",
    "в EU лидер PS3 в 24% долей рынка с 5% отрывом от второй X360, \n",
    "в JP лидируют DS и 3DS c 20% долей рынка каждый и отрывом от PS3 в 4%. "
   ]
  },
  {
   "cell_type": "markdown",
   "id": "c7672465",
   "metadata": {},
   "source": [
    "Определите для пользователя каждого региона (NA, EU, JP):\n",
    "* Самые популярные жанры (топ-5). Поясните разницу."
   ]
  },
  {
   "cell_type": "code",
   "execution_count": 162,
   "id": "432cf2d8",
   "metadata": {},
   "outputs": [
    {
     "name": "stdout",
     "output_type": "stream",
     "text": [
      "Топ-5 популярных жанров для региона na :\n"
     ]
    },
    {
     "data": {
      "text/html": [
       "<div>\n",
       "<style scoped>\n",
       "    .dataframe tbody tr th:only-of-type {\n",
       "        vertical-align: middle;\n",
       "    }\n",
       "\n",
       "    .dataframe tbody tr th {\n",
       "        vertical-align: top;\n",
       "    }\n",
       "\n",
       "    .dataframe thead th {\n",
       "        text-align: right;\n",
       "    }\n",
       "</style>\n",
       "<table border=\"1\" class=\"dataframe\">\n",
       "  <thead>\n",
       "    <tr style=\"text-align: right;\">\n",
       "      <th></th>\n",
       "      <th>Количество игр</th>\n",
       "      <th>Выручка</th>\n",
       "      <th>Доля, %</th>\n",
       "    </tr>\n",
       "    <tr>\n",
       "      <th>genre</th>\n",
       "      <th></th>\n",
       "      <th></th>\n",
       "      <th></th>\n",
       "    </tr>\n",
       "  </thead>\n",
       "  <tbody>\n",
       "    <tr>\n",
       "      <th>Action</th>\n",
       "      <td>1340</td>\n",
       "      <td>463.15</td>\n",
       "      <td>24</td>\n",
       "    </tr>\n",
       "    <tr>\n",
       "      <th>Shooter</th>\n",
       "      <td>547</td>\n",
       "      <td>347.27</td>\n",
       "      <td>18</td>\n",
       "    </tr>\n",
       "    <tr>\n",
       "      <th>Sports</th>\n",
       "      <td>634</td>\n",
       "      <td>285.64</td>\n",
       "      <td>14</td>\n",
       "    </tr>\n",
       "    <tr>\n",
       "      <th>Misc</th>\n",
       "      <td>437</td>\n",
       "      <td>207.41</td>\n",
       "      <td>10</td>\n",
       "    </tr>\n",
       "    <tr>\n",
       "      <th>Role-Playing</th>\n",
       "      <td>475</td>\n",
       "      <td>173.33</td>\n",
       "      <td>9</td>\n",
       "    </tr>\n",
       "  </tbody>\n",
       "</table>\n",
       "</div>"
      ],
      "text/plain": [
       "              Количество игр  Выручка  Доля, %\n",
       "genre                                         \n",
       "Action                  1340   463.15       24\n",
       "Shooter                  547   347.27       18\n",
       "Sports                   634   285.64       14\n",
       "Misc                     437   207.41       10\n",
       "Role-Playing             475   173.33        9"
      ]
     },
     "metadata": {},
     "output_type": "display_data"
    },
    {
     "name": "stdout",
     "output_type": "stream",
     "text": [
      "Топ-5 популярных жанров для региона eu :\n"
     ]
    },
    {
     "data": {
      "text/html": [
       "<div>\n",
       "<style scoped>\n",
       "    .dataframe tbody tr th:only-of-type {\n",
       "        vertical-align: middle;\n",
       "    }\n",
       "\n",
       "    .dataframe tbody tr th {\n",
       "        vertical-align: top;\n",
       "    }\n",
       "\n",
       "    .dataframe thead th {\n",
       "        text-align: right;\n",
       "    }\n",
       "</style>\n",
       "<table border=\"1\" class=\"dataframe\">\n",
       "  <thead>\n",
       "    <tr style=\"text-align: right;\">\n",
       "      <th></th>\n",
       "      <th>Количество игр</th>\n",
       "      <th>Выручка</th>\n",
       "      <th>Доля, %</th>\n",
       "    </tr>\n",
       "    <tr>\n",
       "      <th>genre</th>\n",
       "      <th></th>\n",
       "      <th></th>\n",
       "      <th></th>\n",
       "    </tr>\n",
       "  </thead>\n",
       "  <tbody>\n",
       "    <tr>\n",
       "      <th>Action</th>\n",
       "      <td>1315</td>\n",
       "      <td>325.49</td>\n",
       "      <td>25</td>\n",
       "    </tr>\n",
       "    <tr>\n",
       "      <th>Shooter</th>\n",
       "      <td>522</td>\n",
       "      <td>229.79</td>\n",
       "      <td>17</td>\n",
       "    </tr>\n",
       "    <tr>\n",
       "      <th>Sports</th>\n",
       "      <td>557</td>\n",
       "      <td>200.64</td>\n",
       "      <td>15</td>\n",
       "    </tr>\n",
       "    <tr>\n",
       "      <th>Misc</th>\n",
       "      <td>413</td>\n",
       "      <td>113.03</td>\n",
       "      <td>8</td>\n",
       "    </tr>\n",
       "    <tr>\n",
       "      <th>Racing</th>\n",
       "      <td>312</td>\n",
       "      <td>102.43</td>\n",
       "      <td>7</td>\n",
       "    </tr>\n",
       "  </tbody>\n",
       "</table>\n",
       "</div>"
      ],
      "text/plain": [
       "         Количество игр  Выручка  Доля, %\n",
       "genre                                    \n",
       "Action             1315   325.49       25\n",
       "Shooter             522   229.79       17\n",
       "Sports              557   200.64       15\n",
       "Misc                413   113.03        8\n",
       "Racing              312   102.43        7"
      ]
     },
     "metadata": {},
     "output_type": "display_data"
    },
    {
     "name": "stdout",
     "output_type": "stream",
     "text": [
      "Топ-5 популярных жанров для региона jp :\n"
     ]
    },
    {
     "data": {
      "text/html": [
       "<div>\n",
       "<style scoped>\n",
       "    .dataframe tbody tr th:only-of-type {\n",
       "        vertical-align: middle;\n",
       "    }\n",
       "\n",
       "    .dataframe tbody tr th {\n",
       "        vertical-align: top;\n",
       "    }\n",
       "\n",
       "    .dataframe thead th {\n",
       "        text-align: right;\n",
       "    }\n",
       "</style>\n",
       "<table border=\"1\" class=\"dataframe\">\n",
       "  <thead>\n",
       "    <tr style=\"text-align: right;\">\n",
       "      <th></th>\n",
       "      <th>Количество игр</th>\n",
       "      <th>Выручка</th>\n",
       "      <th>Доля, %</th>\n",
       "    </tr>\n",
       "    <tr>\n",
       "      <th>genre</th>\n",
       "      <th></th>\n",
       "      <th></th>\n",
       "      <th></th>\n",
       "    </tr>\n",
       "  </thead>\n",
       "  <tbody>\n",
       "    <tr>\n",
       "      <th>Role-Playing</th>\n",
       "      <td>681</td>\n",
       "      <td>150.21</td>\n",
       "      <td>31</td>\n",
       "    </tr>\n",
       "    <tr>\n",
       "      <th>Action</th>\n",
       "      <td>909</td>\n",
       "      <td>95.04</td>\n",
       "      <td>19</td>\n",
       "    </tr>\n",
       "    <tr>\n",
       "      <th>Misc</th>\n",
       "      <td>330</td>\n",
       "      <td>48.32</td>\n",
       "      <td>9</td>\n",
       "    </tr>\n",
       "    <tr>\n",
       "      <th>Sports</th>\n",
       "      <td>273</td>\n",
       "      <td>39.63</td>\n",
       "      <td>8</td>\n",
       "    </tr>\n",
       "    <tr>\n",
       "      <th>Adventure</th>\n",
       "      <td>590</td>\n",
       "      <td>26.71</td>\n",
       "      <td>5</td>\n",
       "    </tr>\n",
       "  </tbody>\n",
       "</table>\n",
       "</div>"
      ],
      "text/plain": [
       "              Количество игр  Выручка  Доля, %\n",
       "genre                                         \n",
       "Role-Playing             681   150.21       31\n",
       "Action                   909    95.04       19\n",
       "Misc                     330    48.32        9\n",
       "Sports                   273    39.63        8\n",
       "Adventure                590    26.71        5"
      ]
     },
     "metadata": {},
     "output_type": "display_data"
    }
   ],
   "source": [
    "# Топ-5 самых популярных жанров для регионов NA, EU, JP\n",
    "# Создадим необходимые сводные таблицы через цикл.  \n",
    "for region_id in ['na','eu','jp']:\n",
    "# Создадим сводную таблицу с групировкорй по строкам где были продажи в регионах     \n",
    "    table_name = actual_period.query(region_id + '_sales > 0').\\\n",
    "        pivot_table(index='genre', values =[region_id + '_sales'], aggfunc= ['count','sum'])\n",
    "# Для удобства переименуем колонки \n",
    "    table_name.columns = ['Количество игр','Выручка']\n",
    "# Добавим в таблицу колонку с рачетом доли выручки в % от общей суммы выручки по региону\n",
    "    table_name['Доля, %'] = (table_name['Выручка'] * 100 / actual_period[region_id + '_sales'].sum()).astype(int)\n",
    "# Выведем полученную таблицу на экран    \n",
    "    print('Топ-5 популярных жанров для региона',region_id, ':')\n",
    "    display(table_name.sort_values(by='Выручка', ascending=False).head())\n"
   ]
  },
  {
   "cell_type": "markdown",
   "id": "871bd3eb",
   "metadata": {},
   "source": [
    "Самый успешный жанр в NA Action с 24% долей рынка и с 6% отрывом от второй Shooter, \n",
    "в EU лидер Action с 25% долей рынка и с 8% отрывом от второй Shooter, \n",
    "в JP лидируют Role-Playing с 31% долей рынка и отрывом от Action в 12%."
   ]
  },
  {
   "cell_type": "markdown",
   "id": "0035068f",
   "metadata": {},
   "source": [
    "Популярность тех или иных жанров в регионах могла сложить из исторических предпочтений. А популярность платформ зависит от того, как они лучше всего подходят для тех игр, которые популярны для данного региона."
   ]
  },
  {
   "cell_type": "markdown",
   "id": "0b359de4",
   "metadata": {},
   "source": [
    "Определите для пользователя каждого региона (NA, EU, JP):\n",
    "* Влияет ли рейтинг ESRB на продажи в отдельном регионе?\n",
    "\n",
    "«EC» — «Для детей младшего возраста», «E» — «Для всех», «E10+» — «Для всех от 10 лет и старше», «T» — «Подросткам», «M» — «Для взрослых», «RP» — «Рейтинг ожидается»."
   ]
  },
  {
   "cell_type": "code",
   "execution_count": 173,
   "id": "9f200a1e",
   "metadata": {},
   "outputs": [
    {
     "data": {
      "image/png": "[encoded data removed]",
      "text/plain": [
       "<Figure size 576x432 with 2 Axes>"
      ]
     },
     "metadata": {
      "needs_background": "light"
     },
     "output_type": "display_data"
    }
   ],
   "source": [
    "# Создадим таблицу в которой нет пустых значений в колонке рейтинга \"rating\" \n",
    "actual_period_rating = actual_period[actual_period.rating.isna() == False].copy()\n",
    "# Построим распределение рейтингов и выручки внутри NA региона\n",
    "fig = plt.figure()  # Create matplotlib figure\n",
    "ax = fig.add_subplot() # Create matplotlib axes\n",
    "ax2 = ax.twinx() # Create another axes that shares the same x-axis as ax.\n",
    "\n",
    "width = 0.15\n",
    "(actual_period_rating.pivot_table(index = 'rating',values = 'na_sales',aggfunc = 'sum')\n",
    " .na_sales.plot(kind='bar', color='red', ax=ax, width=width, \n",
    "                position=1.5, figsize=(8, 6), label = 'сумма'))\n",
    "\n",
    "(actual_period_rating.pivot_table(index = 'rating',values = 'na_sales',aggfunc = 'mean')\n",
    " .na_sales.plot(kind='bar', color='blue', ax=ax2, width=width, \n",
    "                position=0.5, figsize=(8, 6), label = 'среднеяя выручка'))\n",
    "\n",
    "(actual_period_rating.pivot_table(index = 'rating',values = 'na_sales',aggfunc = 'median')\n",
    " .na_sales.plot(kind='bar', color='green', ax=ax2, width=width, \n",
    "                position=-0.5, figsize=(8, 6), label = 'медианная выручка'))\n",
    "\n",
    "ax.set_ylabel('количество')\n",
    "ax2.set_ylabel('средняя_и_медиана')\n",
    "\n",
    "ax.legend(prop={'size': 10}, loc = 2)\n",
    "ax2.legend(prop={'size': 10}, loc = 1)\n",
    "\n",
    "plt.show()"
   ]
  },
  {
   "cell_type": "markdown",
   "id": "29055a59",
   "metadata": {},
   "source": [
    "Продаж игр с оценкой RP нет, так как без определенного возрастного рейтинга игра не выйдет. В основном игры делаются с рейтингм М и Е, чтобы основная платежеспособная часть населения была заинтересована в покупке игры, хоть у рейтинга ЕС самая высокая медианная выручка."
   ]
  },
  {
   "cell_type": "markdown",
   "id": "a522eeaf",
   "metadata": {},
   "source": [
    "В каждом отдельном регионе предпочтения потребителей отличают по жанрам и по платформам в виду сложившихся покупательских предпочтений. "
   ]
  },
  {
   "cell_type": "markdown",
   "id": "43b9b600",
   "metadata": {},
   "source": [
    "### Шаг 5. Проверка гипотез <a id=\"step5\"> </a>"
   ]
  },
  {
   "cell_type": "markdown",
   "id": "d160ac7d",
   "metadata": {},
   "source": [
    "### Задание :\n",
    "Проверьте гипотезы\n",
    "\n",
    "    Средние пользовательские рейтинги платформ Xbox One и PC одинаковые;\n",
    "    Средние пользовательские рейтинги жанров Action (англ. «действие», экшен-игры) и Sports (англ. «спортивные соревнования») разные.\n",
    "\n",
    "Задайте самостоятельно пороговое значение alpha.\n",
    "Поясните:\n",
    "\n",
    "    Как вы сформулировали нулевую и альтернативную гипотезы;\n",
    "    Какой критерий применили для проверки гипотез и почему."
   ]
  },
  {
   "cell_type": "markdown",
   "id": "b7ca0ee9",
   "metadata": {},
   "source": [
    "№1 Нулевая гипотеза: средние пользовательские рейтинги платформ Xbox One и PC одинаковые. Альтернативная гипотеза средние пользовательские рейтинги платформ Xbox One и PC не равны. Пороговое значение alpha равно 5%."
   ]
  },
  {
   "cell_type": "code",
   "execution_count": 182,
   "id": "3fb3b86c",
   "metadata": {},
   "outputs": [],
   "source": [
    "# Создадим таблицу без нулевых значений в колонке user_score, для дальнейшей проверки гипотезы \n",
    "actual_period_user = actual_period[actual_period['user_score'].isna()==False]"
   ]
  },
  {
   "cell_type": "code",
   "execution_count": 183,
   "id": "334c2ee7",
   "metadata": {},
   "outputs": [
    {
     "name": "stdout",
     "output_type": "stream",
     "text": [
      "p-значение: 0.05554752084307562\n",
      "Не получилось отвергнуть нулевую гипотезу\n"
     ]
    }
   ],
   "source": [
    "# Проверка гипотезы - средняя оценка Xbox One и PC одинаковые\n",
    "from scipy import stats as st\n",
    "\n",
    "alpha = 0.05\n",
    "\n",
    "results = st.ttest_ind(actual_period_user.query('platform == \"XOne\"')['user_score'], \n",
    "                       actual_period_user.query('platform == \"PC\"')['user_score'])\n",
    "\n",
    "print('p-значение:', results.pvalue)\n",
    "\n",
    "if (results.pvalue < alpha):\n",
    "    print(\"Отвергаем нулевую гипотезу\")\n",
    "else:\n",
    "    print(\"Не получилось отвергнуть нулевую гипотезу\")"
   ]
  },
  {
   "cell_type": "markdown",
   "id": "04d49025",
   "metadata": {},
   "source": [
    "Нулевую гипотезу не удалось опровергнуть. Утверждать, что средние пользовательские рейтинги платформ Xbox One и PC одинаковые нельзя."
   ]
  },
  {
   "cell_type": "markdown",
   "id": "d40946e7",
   "metadata": {},
   "source": [
    "№2 Нулевая гипотеза: средние пользовательские рейтинги жанров Action (англ. «действие», экшен-игры) и Sports (англ. «спортивные соревнования») одинаковые. Альтернативная гипотеза средние пользовательские рейтинги жанров Action и Sports не равны. Пороговое значение alpha равно 5%."
   ]
  },
  {
   "cell_type": "code",
   "execution_count": 186,
   "id": "03307abe",
   "metadata": {},
   "outputs": [
    {
     "name": "stdout",
     "output_type": "stream",
     "text": [
      "p-значение: 1.0894514919563483e-12\n",
      "Отвергаем нулевую гипотезу\n"
     ]
    }
   ],
   "source": [
    "# Проверка гипотезы - средняя оценка Action и Sports одинаковые\n",
    "from scipy import stats as st\n",
    "import pandas as pd\n",
    "\n",
    "alpha = 0.05\n",
    "\n",
    "results = st.ttest_ind(actual_period_user.query('genre == \"Action\"')['user_score'], \n",
    "                       actual_period_user.query('genre == \"Sports\"')['user_score'])\n",
    "\n",
    "print('p-значение:', results.pvalue)\n",
    "\n",
    "if (results.pvalue < alpha):\n",
    "    print(\"Отвергаем нулевую гипотезу\")\n",
    "else:\n",
    "    print(\"Не получилось отвергнуть нулевую гипотезу\")"
   ]
  },
  {
   "cell_type": "code",
   "execution_count": 194,
   "id": "896113f5",
   "metadata": {},
   "outputs": [
    {
     "data": {
      "text/plain": [
       "6.836079077429997"
      ]
     },
     "metadata": {},
     "output_type": "display_data"
    },
    {
     "data": {
      "text/plain": [
       "6.307979626485568"
      ]
     },
     "metadata": {},
     "output_type": "display_data"
    }
   ],
   "source": [
    "# Посчитаекм среднюю оценку пользователей\n",
    "action_score_mean = actual_period_user.query('genre == \"Action\"')['user_score'].mean()\n",
    "sport_score_mean = actual_period_user.query('genre == \"Sports\"')['user_score'].mean()\n",
    "\n",
    "display(action_score_mean, sport_score_mean)"
   ]
  },
  {
   "cell_type": "markdown",
   "id": "adade2a7",
   "metadata": {},
   "source": [
    "Нулевая гипотеза отвергнута. Средние рейтинги пользователей жанра Action выше чем у Sports."
   ]
  },
  {
   "cell_type": "markdown",
   "id": "c6c19551",
   "metadata": {},
   "source": [
    "H₀ сформулировал так, чтобы использовать знак равенства при сравнении показателей. Использовал t-критерий так как его лучше использовать для проверки равенства средних значений в двух выборках."
   ]
  },
  {
   "cell_type": "markdown",
   "id": "4e3e2430",
   "metadata": {},
   "source": [
    "### Шаг 6. Общий вывод<a id=\"step6\"></a>  "
   ]
  },
  {
   "cell_type": "markdown",
   "id": "5278638e",
   "metadata": {},
   "source": [
    "Изначально был предобработан первоначальный датасет. Изменены форматы записи и форматы числовых данных, удалены пустые строки, которые не повлияли на дальнейшие подсчеты. \n",
    "\n",
    "Подсчитна выручка по каждой игре во всех регионе.\n",
    "\n",
    "Визулизированы данные с помощью диаграмм рассеяния, графиков и гистограм.\n",
    "\n",
    "Выбор платформы, на которой будет сделана ига, зависит от жанра игры и предпочтений покупателей, на которых ориентируется комания, так как в регионах NA, EU, JP сильно отличаются предпочтения покупателей.\n",
    "\n",
    "Самыми популярными жанрами игр оказались Action,  Sports и Role-Playing. Самыми популярными платформами стали X360, PS3, PS4,  WiiU и DS. \n",
    "\n",
    "Оценки критиков сильно коррелируют с итоговыми продажами игр, а оценки пользователей не влияют на продажи."
   ]
  }
 ],
 "metadata": {
  "kernelspec": {
   "display_name": "Python 3 (ipykernel)",
   "language": "python",
   "name": "python3"
  },
  "language_info": {
   "codemirror_mode": {
    "name": "ipython",
    "version": 3
   },
   "file_extension": ".py",
   "mimetype": "text/x-python",
   "name": "python",
   "nbconvert_exporter": "python",
   "pygments_lexer": "ipython3",
   "version": "3.9.12"
  }
 },
 "nbformat": 4,
 "nbformat_minor": 5
}
